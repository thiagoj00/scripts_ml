{
 "cells": [
  {
   "cell_type": "code",
   "execution_count": 1,
   "id": "069f02fa",
   "metadata": {},
   "outputs": [],
   "source": [
    "import pickle"
   ]
  },
  {
   "cell_type": "code",
   "execution_count": 2,
   "id": "3c1a6483",
   "metadata": {},
   "outputs": [],
   "source": [
    "with open ('C:/Users/Jardi/Documents/Cursos/Machine Learning/Pratica/census.pkl', 'rb') as f:\n",
    "    x_census_treinamento,y_census_treinamento,x_census_teste,y_census_teste=pickle.load(f)"
   ]
  },
  {
   "cell_type": "code",
   "execution_count": 3,
   "id": "1b114ca3",
   "metadata": {},
   "outputs": [],
   "source": [
    "from sklearn.naive_bayes import GaussianNB"
   ]
  },
  {
   "cell_type": "code",
   "execution_count": 4,
   "id": "d45b4b10",
   "metadata": {},
   "outputs": [],
   "source": [
    "Naive_bayes=GaussianNB()"
   ]
  },
  {
   "cell_type": "code",
   "execution_count": 5,
   "id": "958126f7",
   "metadata": {},
   "outputs": [
    {
     "data": {
      "text/plain": [
       "GaussianNB()"
      ]
     },
     "execution_count": 5,
     "metadata": {},
     "output_type": "execute_result"
    }
   ],
   "source": [
    "Naive_bayes.fit(x_census_treinamento,y_census_treinamento)"
   ]
  },
  {
   "cell_type": "code",
   "execution_count": 7,
   "id": "6c41ddb6",
   "metadata": {},
   "outputs": [],
   "source": [
    "previsoes=Naive_bayes.predict(x_census_teste)"
   ]
  },
  {
   "cell_type": "code",
   "execution_count": 8,
   "id": "09c7036a",
   "metadata": {},
   "outputs": [
    {
     "data": {
      "text/plain": [
       "array([' >50K', ' >50K', ' >50K', ..., ' <=50K', ' >50K', ' >50K'],\n",
       "      dtype='<U6')"
      ]
     },
     "execution_count": 8,
     "metadata": {},
     "output_type": "execute_result"
    }
   ],
   "source": [
    "previsoes"
   ]
  },
  {
   "cell_type": "code",
   "execution_count": 9,
   "id": "030d105d",
   "metadata": {},
   "outputs": [
    {
     "data": {
      "text/plain": [
       "array([' <=50K', ' <=50K', ' <=50K', ..., ' <=50K', ' <=50K', ' <=50K'],\n",
       "      dtype=object)"
      ]
     },
     "execution_count": 9,
     "metadata": {},
     "output_type": "execute_result"
    }
   ],
   "source": [
    "y_census_teste"
   ]
  },
  {
   "cell_type": "code",
   "execution_count": 10,
   "id": "1959e0fb",
   "metadata": {},
   "outputs": [],
   "source": [
    "from sklearn.metrics import accuracy_score"
   ]
  },
  {
   "cell_type": "code",
   "execution_count": 11,
   "id": "2df3245c",
   "metadata": {},
   "outputs": [
    {
     "data": {
      "text/plain": [
       "0.4767656090071648"
      ]
     },
     "execution_count": 11,
     "metadata": {},
     "output_type": "execute_result"
    }
   ],
   "source": [
    "accuracy_score(y_census_teste,previsoes)"
   ]
  },
  {
   "cell_type": "code",
   "execution_count": 12,
   "id": "08cc0099",
   "metadata": {},
   "outputs": [],
   "source": [
    "from sklearn.metrics import confusion_matrix"
   ]
  },
  {
   "cell_type": "code",
   "execution_count": 13,
   "id": "b0d5503e",
   "metadata": {},
   "outputs": [
    {
     "data": {
      "text/plain": [
       "array([[1172, 2521],\n",
       "       [  35, 1157]], dtype=int64)"
      ]
     },
     "execution_count": 13,
     "metadata": {},
     "output_type": "execute_result"
    }
   ],
   "source": [
    "confusion_matrix(y_census_teste,previsoes)"
   ]
  },
  {
   "cell_type": "code",
   "execution_count": 14,
   "id": "d0530344",
   "metadata": {},
   "outputs": [],
   "source": [
    "from yellowbrick.classifier import ConfusionMatrix"
   ]
  },
  {
   "cell_type": "code",
   "execution_count": 15,
   "id": "ae303b10",
   "metadata": {},
   "outputs": [],
   "source": [
    "cm=ConfusionMatrix(Naive_bayes)"
   ]
  },
  {
   "cell_type": "code",
   "execution_count": 18,
   "id": "afde6f9a",
   "metadata": {},
   "outputs": [
    {
     "data": {
      "text/plain": [
       "0.4767656090071648"
      ]
     },
     "execution_count": 18,
     "metadata": {},
     "output_type": "execute_result"
    },
    {
     "data": {
      "image/png": "[encoded data removed]",
      "text/plain": [
       "<Figure size 576x396 with 1 Axes>"
      ]
     },
     "metadata": {},
     "output_type": "display_data"
    }
   ],
   "source": [
    "cm=ConfusionMatrix(Naive_bayes)\n",
    "cm.fit(x_census_treinamento,y_census_treinamento)\n",
    "cm.score(x_census_teste,y_census_teste)"
   ]
  },
  {
   "cell_type": "code",
   "execution_count": null,
   "id": "6b278535",
   "metadata": {},
   "outputs": [],
   "source": []
  }
 ],
 "metadata": {
  "kernelspec": {
   "display_name": "Python 3 (ipykernel)",
   "language": "python",
   "name": "python3"
  },
  "language_info": {
   "codemirror_mode": {
    "name": "ipython",
    "version": 3
   },
   "file_extension": ".py",
   "mimetype": "text/x-python",
   "name": "python",
   "nbconvert_exporter": "python",
   "pygments_lexer": "ipython3",
   "version": "3.9.12"
  }
 },
 "nbformat": 4,
 "nbformat_minor": 5
}
