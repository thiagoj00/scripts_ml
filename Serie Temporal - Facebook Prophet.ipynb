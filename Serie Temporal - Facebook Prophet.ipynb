{
 "cells": [
  {
   "cell_type": "code",
   "execution_count": 7,
   "id": "aa911b41",
   "metadata": {},
   "outputs": [
    {
     "ename": "SyntaxError",
     "evalue": "invalid syntax (1387249117.py, line 1)",
     "output_type": "error",
     "traceback": [
      "\u001b[1;36m  Cell \u001b[1;32mIn[7], line 1\u001b[1;36m\u001b[0m\n\u001b[1;33m    jupyter notebook --generate-config\u001b[0m\n\u001b[1;37m            ^\u001b[0m\n\u001b[1;31mSyntaxError\u001b[0m\u001b[1;31m:\u001b[0m invalid syntax\n"
     ]
    }
   ],
   "source": [
    "jupyter notebook --generate-config"
   ]
  },
  {
   "cell_type": "code",
   "execution_count": 1,
   "id": "4dbda2a3",
   "metadata": {},
   "outputs": [
    {
     "name": "stdout",
     "output_type": "stream",
     "text": [
      "Collecting fbprophet\n",
      "  Downloading fbprophet-0.7.1.tar.gz (64 kB)\n",
      "     ---------------------------------------- 0.0/64.0 kB ? eta -:--:--\n",
      "     ------ --------------------------------- 10.2/64.0 kB ? eta -:--:--\n",
      "     ------------------ ------------------- 30.7/64.0 kB 325.1 kB/s eta 0:00:01\n",
      "     -------------------------------------- 64.0/64.0 kB 430.1 kB/s eta 0:00:00\n",
      "  Preparing metadata (setup.py): started\n",
      "  Preparing metadata (setup.py): finished with status 'done'\n",
      "Requirement already satisfied: Cython>=0.22 in c:\\users\\jardi\\anaconda3\\lib\\site-packages (from fbprophet) (0.29.28)\n",
      "Collecting cmdstanpy==0.9.5 (from fbprophet)\n",
      "  Downloading cmdstanpy-0.9.5-py3-none-any.whl.metadata (2.9 kB)\n",
      "Collecting pystan>=2.14 (from fbprophet)\n",
      "  Downloading pystan-3.9.1-py3-none-any.whl.metadata (3.7 kB)\n",
      "Requirement already satisfied: numpy>=1.15.4 in c:\\users\\jardi\\anaconda3\\lib\\site-packages (from fbprophet) (1.26.4)\n",
      "Requirement already satisfied: pandas>=1.0.4 in c:\\users\\jardi\\anaconda3\\lib\\site-packages (from fbprophet) (1.4.2)\n",
      "Requirement already satisfied: matplotlib>=2.0.0 in c:\\users\\jardi\\anaconda3\\lib\\site-packages (from fbprophet) (3.8.0)\n",
      "Collecting LunarCalendar>=0.0.9 (from fbprophet)\n",
      "  Downloading LunarCalendar-0.0.9-py2.py3-none-any.whl.metadata (6.3 kB)\n",
      "Collecting convertdate>=2.1.2 (from fbprophet)\n",
      "  Downloading convertdate-2.4.0-py3-none-any.whl.metadata (8.3 kB)\n",
      "Collecting holidays>=0.10.2 (from fbprophet)\n",
      "  Downloading holidays-0.49-py3-none-any.whl.metadata (23 kB)\n",
      "Collecting setuptools-git>=1.2 (from fbprophet)\n",
      "  Downloading setuptools_git-1.2-py2.py3-none-any.whl.metadata (5.8 kB)\n",
      "Requirement already satisfied: python-dateutil>=2.8.0 in c:\\users\\jardi\\anaconda3\\lib\\site-packages (from fbprophet) (2.8.2)\n",
      "Requirement already satisfied: tqdm>=4.36.1 in c:\\users\\jardi\\anaconda3\\lib\\site-packages (from fbprophet) (4.65.0)\n",
      "Collecting pymeeus<=1,>=0.3.13 (from convertdate>=2.1.2->fbprophet)\n",
      "  Downloading PyMeeus-0.5.12.tar.gz (5.8 MB)\n",
      "     ---------------------------------------- 0.0/5.8 MB ? eta -:--:--\n",
      "     -- ------------------------------------- 0.3/5.8 MB 7.2 MB/s eta 0:00:01\n",
      "     -------- ------------------------------- 1.2/5.8 MB 13.3 MB/s eta 0:00:01\n",
      "     -------------------------- ------------- 3.8/5.8 MB 26.8 MB/s eta 0:00:01\n",
      "     ---------------------------------------- 5.8/5.8 MB 30.7 MB/s eta 0:00:00\n",
      "  Preparing metadata (setup.py): started\n",
      "  Preparing metadata (setup.py): finished with status 'done'\n",
      "Collecting ephem>=3.7.5.3 (from LunarCalendar>=0.0.9->fbprophet)\n",
      "  Downloading ephem-4.1.5-cp39-cp39-win_amd64.whl.metadata (6.1 kB)\n",
      "Requirement already satisfied: pytz in c:\\users\\jardi\\anaconda3\\lib\\site-packages (from LunarCalendar>=0.0.9->fbprophet) (2023.3.post1)\n",
      "Requirement already satisfied: contourpy>=1.0.1 in c:\\users\\jardi\\anaconda3\\lib\\site-packages (from matplotlib>=2.0.0->fbprophet) (1.2.0)\n",
      "Requirement already satisfied: cycler>=0.10 in c:\\users\\jardi\\anaconda3\\lib\\site-packages (from matplotlib>=2.0.0->fbprophet) (0.11.0)\n",
      "Requirement already satisfied: fonttools>=4.22.0 in c:\\users\\jardi\\anaconda3\\lib\\site-packages (from matplotlib>=2.0.0->fbprophet) (4.25.0)\n",
      "Requirement already satisfied: kiwisolver>=1.0.1 in c:\\users\\jardi\\anaconda3\\lib\\site-packages (from matplotlib>=2.0.0->fbprophet) (1.4.4)\n",
      "Requirement already satisfied: packaging>=20.0 in c:\\users\\jardi\\anaconda3\\lib\\site-packages (from matplotlib>=2.0.0->fbprophet) (23.2)\n",
      "Requirement already satisfied: pillow>=6.2.0 in c:\\users\\jardi\\anaconda3\\lib\\site-packages (from matplotlib>=2.0.0->fbprophet) (10.2.0)\n",
      "Requirement already satisfied: pyparsing>=2.3.1 in c:\\users\\jardi\\anaconda3\\lib\\site-packages (from matplotlib>=2.0.0->fbprophet) (3.0.9)\n",
      "Requirement already satisfied: importlib-resources>=3.2.0 in c:\\users\\jardi\\anaconda3\\lib\\site-packages (from matplotlib>=2.0.0->fbprophet) (6.1.1)\n",
      "Requirement already satisfied: aiohttp<4.0,>=3.6 in c:\\users\\jardi\\anaconda3\\lib\\site-packages (from pystan>=2.14->fbprophet) (3.9.3)\n",
      "Collecting clikit<0.7,>=0.6 (from pystan>=2.14->fbprophet)\n",
      "  Downloading clikit-0.6.2-py2.py3-none-any.whl.metadata (1.6 kB)\n",
      "INFO: pip is looking at multiple versions of pystan to determine which version is compatible with other requirements. This could take a while.\n",
      "Collecting pystan>=2.14 (from fbprophet)\n",
      "  Downloading pystan-3.9.0-py3-none-any.whl.metadata (3.7 kB)\n",
      "  Downloading pystan-3.8.0-py3-none-any.whl.metadata (3.8 kB)\n",
      "  Downloading pystan-3.7.0-py3-none-any.whl.metadata (3.7 kB)\n",
      "  Downloading pystan-3.6.0-py3-none-any.whl.metadata (3.7 kB)\n",
      "  Downloading pystan-3.5.0-py3-none-any.whl.metadata (3.7 kB)\n",
      "  Downloading pystan-3.4.0-py3-none-any.whl.metadata (3.7 kB)\n",
      "  Downloading pystan-3.3.0-py3-none-any.whl.metadata (3.6 kB)\n",
      "INFO: pip is still looking at multiple versions of pystan to determine which version is compatible with other requirements. This could take a while.\n",
      "  Downloading pystan-3.2.0-py3-none-any.whl.metadata (3.6 kB)\n",
      "  Downloading pystan-3.1.1-py3-none-any.whl.metadata (3.6 kB)\n",
      "  Downloading pystan-3.1.0-py3-none-any.whl.metadata (3.6 kB)\n",
      "  Downloading pystan-3.0.2-py3-none-any.whl.metadata (3.6 kB)\n",
      "  Downloading pystan-3.0.1-py3-none-any.whl.metadata (3.6 kB)\n",
      "INFO: This is taking longer than usual. You might need to provide the dependency resolver with stricter constraints to reduce runtime. See https://pip.pypa.io/warnings/backtracking for guidance. If you want to abort this run, press Ctrl + C.\n",
      "  Downloading pystan-3.0.0-py3-none-any.whl.metadata (3.6 kB)\n",
      "  Downloading pystan-2.19.1.1.tar.gz (16.2 MB)\n",
      "     ---------------------------------------- 0.0/16.2 MB ? eta -:--:--\n",
      "     -- ------------------------------------- 1.1/16.2 MB 34.4 MB/s eta 0:00:01\n",
      "     --- ------------------------------------ 1.5/16.2 MB 31.8 MB/s eta 0:00:01\n",
      "     ------ --------------------------------- 2.7/16.2 MB 21.6 MB/s eta 0:00:01\n",
      "     --------- ------------------------------ 4.0/16.2 MB 23.0 MB/s eta 0:00:01\n",
      "     ----------- ---------------------------- 4.7/16.2 MB 21.5 MB/s eta 0:00:01\n",
      "     -------------- ------------------------- 5.7/16.2 MB 21.4 MB/s eta 0:00:01\n",
      "     ----------------- ---------------------- 7.1/16.2 MB 22.6 MB/s eta 0:00:01\n",
      "     ------------------- -------------------- 8.0/16.2 MB 22.3 MB/s eta 0:00:01\n",
      "     -------------------------- ------------ 11.0/16.2 MB 27.3 MB/s eta 0:00:01\n",
      "     ------------------------------ -------- 12.6/16.2 MB 32.7 MB/s eta 0:00:01\n",
      "     ---------------------------------- ---- 14.3/16.2 MB 32.8 MB/s eta 0:00:01\n",
      "     --------------------------------------  16.2/16.2 MB 38.5 MB/s eta 0:00:01\n",
      "     --------------------------------------- 16.2/16.2 MB 32.7 MB/s eta 0:00:00\n",
      "  Preparing metadata (setup.py): started\n",
      "  Preparing metadata (setup.py): finished with status 'done'\n",
      "Requirement already satisfied: six>=1.5 in c:\\users\\jardi\\anaconda3\\lib\\site-packages (from python-dateutil>=2.8.0->fbprophet) (1.16.0)\n",
      "Requirement already satisfied: colorama in c:\\users\\jardi\\anaconda3\\lib\\site-packages (from tqdm>=4.36.1->fbprophet) (0.4.6)\n",
      "Requirement already satisfied: zipp>=3.1.0 in c:\\users\\jardi\\anaconda3\\lib\\site-packages (from importlib-resources>=3.2.0->matplotlib>=2.0.0->fbprophet) (3.17.0)\n",
      "Downloading cmdstanpy-0.9.5-py3-none-any.whl (37 kB)\n",
      "Downloading convertdate-2.4.0-py3-none-any.whl (47 kB)\n",
      "   ---------------------------------------- 0.0/47.9 kB ? eta -:--:--\n",
      "   ---------------------------------------- 47.9/47.9 kB ? eta 0:00:00\n",
      "Downloading holidays-0.49-py3-none-any.whl (1.0 MB)\n",
      "   ---------------------------------------- 0.0/1.0 MB ? eta -:--:--\n",
      "   ---------------------------------------- 1.0/1.0 MB 32.9 MB/s eta 0:00:00\n",
      "Downloading LunarCalendar-0.0.9-py2.py3-none-any.whl (18 kB)\n",
      "Downloading setuptools_git-1.2-py2.py3-none-any.whl (10 kB)\n",
      "Downloading ephem-4.1.5-cp39-cp39-win_amd64.whl (1.4 MB)\n",
      "   ---------------------------------------- 0.0/1.4 MB ? eta -:--:--\n",
      "   ---------------------------------------  1.4/1.4 MB 29.2 MB/s eta 0:00:01\n",
      "   ---------------------------------------- 1.4/1.4 MB 29.9 MB/s eta 0:00:00\n",
      "Building wheels for collected packages: fbprophet, pystan, pymeeus\n",
      "  Building wheel for fbprophet (setup.py): started\n",
      "  Building wheel for fbprophet (setup.py): finished with status 'error'\n",
      "  Running setup.py clean for fbprophet\n",
      "  Building wheel for pystan (setup.py): started\n",
      "  Building wheel for pystan (setup.py): still running...\n",
      "  Building wheel for pystan (setup.py): finished with status 'error'\n",
      "  Running setup.py clean for pystan\n",
      "  Building wheel for pymeeus (setup.py): started\n",
      "  Building wheel for pymeeus (setup.py): finished with status 'done'\n",
      "  Created wheel for pymeeus: filename=PyMeeus-0.5.12-py3-none-any.whl size=732055 sha256=e83db383ada79fdd49e1eb83a187445bd0640abe1be4b94c3a7acdb2088c615a\n",
      "  Stored in directory: c:\\users\\jardi\\appdata\\local\\pip\\cache\\wheels\\04\\1f\\e5\\8dd0c661cd8d252817655dc14a84f7ae045d6616594145aa81\n",
      "Successfully built pymeeus\n",
      "Failed to build fbprophet pystan\n"
     ]
    },
    {
     "name": "stderr",
     "output_type": "stream",
     "text": [
      "IOPub data rate exceeded.\n",
      "The notebook server will temporarily stop sending output\n",
      "to the client in order to avoid crashing it.\n",
      "To change this limit, set the config variable\n",
      "`--NotebookApp.iopub_data_rate_limit`.\n",
      "\n",
      "Current values:\n",
      "NotebookApp.iopub_data_rate_limit=1000000.0 (bytes/sec)\n",
      "NotebookApp.rate_limit_window=3.0 (secs)\n",
      "\n"
     ]
    }
   ],
   "source": [
    "!pip install fbprophet"
   ]
  },
  {
   "cell_type": "code",
   "execution_count": 2,
   "id": "94aa32cc",
   "metadata": {},
   "outputs": [
    {
     "ename": "ModuleNotFoundError",
     "evalue": "No module named 'fbprophet'",
     "output_type": "error",
     "traceback": [
      "\u001b[1;31m---------------------------------------------------------------------------\u001b[0m",
      "\u001b[1;31mModuleNotFoundError\u001b[0m                       Traceback (most recent call last)",
      "Cell \u001b[1;32mIn[2], line 1\u001b[0m\n\u001b[1;32m----> 1\u001b[0m \u001b[38;5;28;01mfrom\u001b[39;00m \u001b[38;5;21;01mfbprophet\u001b[39;00m \u001b[38;5;28;01mimport\u001b[39;00m Prophet\n\u001b[0;32m      2\u001b[0m \u001b[38;5;28;01mimport\u001b[39;00m \u001b[38;5;21;01mpandas\u001b[39;00m \u001b[38;5;28;01mas\u001b[39;00m \u001b[38;5;21;01mpd\u001b[39;00m\n",
      "\u001b[1;31mModuleNotFoundError\u001b[0m: No module named 'fbprophet'"
     ]
    }
   ],
   "source": [
    "from fbprophet import Prophet\n",
    "import pandas as pd"
   ]
  },
  {
   "cell_type": "code",
   "execution_count": null,
   "id": "2bcd86b9",
   "metadata": {},
   "outputs": [],
   "source": []
  }
 ],
 "metadata": {
  "kernelspec": {
   "display_name": "Python 3 (ipykernel)",
   "language": "python",
   "name": "python3"
  },
  "language_info": {
   "codemirror_mode": {
    "name": "ipython",
    "version": 3
   },
   "file_extension": ".py",
   "mimetype": "text/x-python",
   "name": "python",
   "nbconvert_exporter": "python",
   "pygments_lexer": "ipython3",
   "version": "3.9.18"
  }
 },
 "nbformat": 4,
 "nbformat_minor": 5
}
