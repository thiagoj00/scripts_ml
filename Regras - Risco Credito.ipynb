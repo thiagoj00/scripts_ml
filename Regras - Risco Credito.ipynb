{
 "cells": [
  {
   "cell_type": "code",
   "execution_count": 10,
   "id": "e3f839d7",
   "metadata": {},
   "outputs": [
    {
     "name": "stdout",
     "output_type": "stream",
     "text": [
      "Collecting Orange3\n",
      "  Using cached Orange3-3.36.2-cp39-cp39-win_amd64.whl (3.4 MB)\n",
      "Collecting serverfiles\n",
      "  Using cached serverfiles-0.3.1-py3-none-any.whl\n",
      "Requirement already satisfied: scipy>=1.9 in c:\\users\\jardi\\anaconda3\\lib\\site-packages (from Orange3) (1.12.0)\n",
      "Requirement already satisfied: chardet>=3.0.2 in c:\\users\\jardi\\anaconda3\\lib\\site-packages (from Orange3) (4.0.0)\n",
      "Requirement already satisfied: pip>=18.0 in c:\\users\\jardi\\anaconda3\\lib\\site-packages (from Orange3) (21.2.4)\n",
      "Collecting baycomp>=1.0.2\n",
      "  Using cached baycomp-1.0.3-py3-none-any.whl\n",
      "Collecting python-louvain>=0.13\n",
      "  Using cached python_louvain-0.16-py3-none-any.whl\n",
      "Requirement already satisfied: pandas!=1.5.0,!=2.0.0,>=1.4.0 in c:\\users\\jardi\\anaconda3\\lib\\site-packages (from Orange3) (1.4.2)\n",
      "Requirement already satisfied: pyyaml in c:\\users\\jardi\\anaconda3\\lib\\site-packages (from Orange3) (6.0)\n",
      "Requirement already satisfied: pygments>=2.8.0 in c:\\users\\jardi\\anaconda3\\lib\\site-packages (from Orange3) (2.11.2)\n",
      "Requirement already satisfied: matplotlib>=3.2.0 in c:\\users\\jardi\\anaconda3\\lib\\site-packages (from Orange3) (3.5.1)\n",
      "Requirement already satisfied: AnyQt>=0.2.0 in c:\\users\\jardi\\anaconda3\\lib\\site-packages (from Orange3) (0.2.0)\n",
      "Collecting xgboost>=1.7.4\n",
      "  Using cached xgboost-2.0.3-py3-none-win_amd64.whl (99.8 MB)\n",
      "Requirement already satisfied: numpy>=1.20.0 in c:\\users\\jardi\\anaconda3\\lib\\site-packages (from Orange3) (1.26.4)\n",
      "Requirement already satisfied: openpyxl in c:\\users\\jardi\\anaconda3\\lib\\site-packages (from Orange3) (3.0.9)\n",
      "Collecting openTSNE!=0.7.0,>=0.6.1\n",
      "  Using cached openTSNE-1.0.1-cp39-cp39-win_amd64.whl (463 kB)\n",
      "Collecting httpx>=0.21.0\n",
      "  Using cached httpx-0.27.0-py3-none-any.whl (75 kB)\n",
      "Requirement already satisfied: xlrd>=1.2.0 in c:\\users\\jardi\\anaconda3\\lib\\site-packages (from Orange3) (2.0.1)\n",
      "Requirement already satisfied: setuptools>=51.0.0 in c:\\users\\jardi\\anaconda3\\lib\\site-packages (from Orange3) (61.2.0)\n",
      "Requirement already satisfied: networkx in c:\\users\\jardi\\anaconda3\\lib\\site-packages (from Orange3) (2.7.1)\n",
      "Requirement already satisfied: bottleneck>=1.3.4 in c:\\users\\jardi\\anaconda3\\lib\\site-packages (from Orange3) (1.3.4)\n",
      "Requirement already satisfied: qtconsole>=4.7.2 in c:\\users\\jardi\\anaconda3\\lib\\site-packages (from Orange3) (5.3.0)\n",
      "Requirement already satisfied: keyring in c:\\users\\jardi\\anaconda3\\lib\\site-packages (from Orange3) (23.4.0)\n",
      "Collecting pyqtgraph>=0.13.1\n",
      "  Using cached pyqtgraph-0.13.4-py3-none-any.whl (975 kB)\n",
      "Requirement already satisfied: requests in c:\\users\\jardi\\anaconda3\\lib\\site-packages (from Orange3) (2.27.1)\n",
      "Collecting catboost>=1.0.1\n",
      "  Using cached catboost-1.2.3-cp39-cp39-win_amd64.whl (101.1 MB)\n",
      "Requirement already satisfied: scikit-learn!=1.2.*,<1.4,>=1.1.0 in c:\\users\\jardi\\anaconda3\\lib\\site-packages (from Orange3) (1.3.2)\n",
      "Collecting orange-canvas-core<0.2a,>=0.1.30\n",
      "  Using cached orange_canvas_core-0.1.35-py3-none-any.whl (513 kB)\n",
      "Collecting keyrings.alt\n",
      "  Using cached keyrings.alt-5.0.0-py3-none-any.whl (18 kB)\n",
      "Collecting orange-widget-base>=4.22.0\n",
      "  Using cached orange_widget_base-4.23.0-py3-none-any.whl (263 kB)\n",
      "Requirement already satisfied: joblib>=1.0.0 in c:\\users\\jardi\\anaconda3\\lib\\site-packages (from Orange3) (1.3.2)\n",
      "Requirement already satisfied: xlsxwriter in c:\\users\\jardi\\anaconda3\\lib\\site-packages (from Orange3) (3.0.3)\n",
      "Requirement already satisfied: plotly in c:\\users\\jardi\\anaconda3\\lib\\site-packages (from catboost>=1.0.1->Orange3) (5.18.0)\n",
      "Requirement already satisfied: six in c:\\users\\jardi\\anaconda3\\lib\\site-packages (from catboost>=1.0.1->Orange3) (1.16.0)\n",
      "Collecting graphviz\n",
      "  Using cached graphviz-0.20.1-py3-none-any.whl (47 kB)\n",
      "Requirement already satisfied: anyio in c:\\users\\jardi\\anaconda3\\lib\\site-packages (from httpx>=0.21.0->Orange3) (3.5.0)\n",
      "Requirement already satisfied: idna in c:\\users\\jardi\\anaconda3\\lib\\site-packages (from httpx>=0.21.0->Orange3) (3.3)\n",
      "Requirement already satisfied: certifi in c:\\users\\jardi\\anaconda3\\lib\\site-packages (from httpx>=0.21.0->Orange3) (2021.10.8)\n",
      "Requirement already satisfied: sniffio in c:\\users\\jardi\\anaconda3\\lib\\site-packages (from httpx>=0.21.0->Orange3) (1.2.0)\n",
      "Collecting httpcore==1.*\n",
      "  Using cached httpcore-1.0.4-py3-none-any.whl (77 kB)\n",
      "Requirement already satisfied: h11<0.15,>=0.13 in c:\\users\\jardi\\anaconda3\\lib\\site-packages (from httpcore==1.*->httpx>=0.21.0->Orange3) (0.14.0)\n",
      "Requirement already satisfied: kiwisolver>=1.0.1 in c:\\users\\jardi\\anaconda3\\lib\\site-packages (from matplotlib>=3.2.0->Orange3) (1.3.2)\n",
      "Requirement already satisfied: fonttools>=4.22.0 in c:\\users\\jardi\\anaconda3\\lib\\site-packages (from matplotlib>=3.2.0->Orange3) (4.25.0)\n",
      "Requirement already satisfied: cycler>=0.10 in c:\\users\\jardi\\anaconda3\\lib\\site-packages (from matplotlib>=3.2.0->Orange3) (0.11.0)\n",
      "Requirement already satisfied: python-dateutil>=2.7 in c:\\users\\jardi\\anaconda3\\lib\\site-packages (from matplotlib>=3.2.0->Orange3) (2.8.2)\n",
      "Requirement already satisfied: packaging>=20.0 in c:\\users\\jardi\\anaconda3\\lib\\site-packages (from matplotlib>=3.2.0->Orange3) (21.3)\n",
      "Requirement already satisfied: pillow>=6.2.0 in c:\\users\\jardi\\anaconda3\\lib\\site-packages (from matplotlib>=3.2.0->Orange3) (9.0.1)\n",
      "Requirement already satisfied: pyparsing>=2.2.1 in c:\\users\\jardi\\anaconda3\\lib\\site-packages (from matplotlib>=3.2.0->Orange3) (3.0.4)\n",
      "Requirement already satisfied: docutils in c:\\users\\jardi\\anaconda3\\lib\\site-packages (from orange-canvas-core<0.2a,>=0.1.30->Orange3) (0.17.1)\n",
      "Requirement already satisfied: dictdiffer in c:\\users\\jardi\\anaconda3\\lib\\site-packages (from orange-canvas-core<0.2a,>=0.1.30->Orange3) (0.9.0)\n",
      "Requirement already satisfied: requests-cache in c:\\users\\jardi\\anaconda3\\lib\\site-packages (from orange-canvas-core<0.2a,>=0.1.30->Orange3) (1.2.0)\n",
      "Requirement already satisfied: commonmark>=0.8.1 in c:\\users\\jardi\\anaconda3\\lib\\site-packages (from orange-canvas-core<0.2a,>=0.1.30->Orange3) (0.9.1)\n",
      "Requirement already satisfied: qasync>=0.10.0 in c:\\users\\jardi\\anaconda3\\lib\\site-packages (from orange-canvas-core<0.2a,>=0.1.30->Orange3) (0.27.1)\n",
      "Requirement already satisfied: typing-extensions>=3.7.4.3 in c:\\users\\jardi\\anaconda3\\lib\\site-packages (from orange-widget-base>=4.22.0->Orange3) (4.1.1)\n",
      "Collecting orange-widget-base>=4.22.0\n",
      "  Using cached orange_widget_base-4.22.0-py3-none-any.whl (263 kB)\n",
      "Requirement already satisfied: pytz>=2020.1 in c:\\users\\jardi\\anaconda3\\lib\\site-packages (from pandas!=1.5.0,!=2.0.0,>=1.4.0->Orange3) (2021.3)\n",
      "Requirement already satisfied: traitlets in c:\\users\\jardi\\anaconda3\\lib\\site-packages (from qtconsole>=4.7.2->Orange3) (5.1.1)\n",
      "Requirement already satisfied: ipython-genutils in c:\\users\\jardi\\anaconda3\\lib\\site-packages (from qtconsole>=4.7.2->Orange3) (0.2.0)\n",
      "Requirement already satisfied: ipykernel>=4.1 in c:\\users\\jardi\\anaconda3\\lib\\site-packages (from qtconsole>=4.7.2->Orange3) (6.9.1)\n",
      "Requirement already satisfied: jupyter-core in c:\\users\\jardi\\anaconda3\\lib\\site-packages (from qtconsole>=4.7.2->Orange3) (4.9.2)\n",
      "Requirement already satisfied: qtpy>=2.0.1 in c:\\users\\jardi\\anaconda3\\lib\\site-packages (from qtconsole>=4.7.2->Orange3) (2.0.1)\n",
      "Requirement already satisfied: jupyter-client>=4.1 in c:\\users\\jardi\\anaconda3\\lib\\site-packages (from qtconsole>=4.7.2->Orange3) (6.1.12)\n",
      "Requirement already satisfied: pyzmq>=17.1 in c:\\users\\jardi\\anaconda3\\lib\\site-packages (from qtconsole>=4.7.2->Orange3) (22.3.0)\n",
      "Requirement already satisfied: debugpy<2.0,>=1.0.0 in c:\\users\\jardi\\anaconda3\\lib\\site-packages (from ipykernel>=4.1->qtconsole>=4.7.2->Orange3) (1.5.1)\n",
      "Requirement already satisfied: matplotlib-inline<0.2.0,>=0.1.0 in c:\\users\\jardi\\anaconda3\\lib\\site-packages (from ipykernel>=4.1->qtconsole>=4.7.2->Orange3) (0.1.2)\n",
      "Requirement already satisfied: ipython>=7.23.1 in c:\\users\\jardi\\anaconda3\\lib\\site-packages (from ipykernel>=4.1->qtconsole>=4.7.2->Orange3) (8.2.0)\n",
      "Requirement already satisfied: tornado<7.0,>=4.2 in c:\\users\\jardi\\anaconda3\\lib\\site-packages (from ipykernel>=4.1->qtconsole>=4.7.2->Orange3) (6.1)\n",
      "Requirement already satisfied: nest-asyncio in c:\\users\\jardi\\anaconda3\\lib\\site-packages (from ipykernel>=4.1->qtconsole>=4.7.2->Orange3) (1.5.5)\n",
      "Requirement already satisfied: pickleshare in c:\\users\\jardi\\anaconda3\\lib\\site-packages (from ipython>=7.23.1->ipykernel>=4.1->qtconsole>=4.7.2->Orange3) (0.7.5)\n",
      "Requirement already satisfied: prompt-toolkit!=3.0.0,!=3.0.1,<3.1.0,>=2.0.0 in c:\\users\\jardi\\anaconda3\\lib\\site-packages (from ipython>=7.23.1->ipykernel>=4.1->qtconsole>=4.7.2->Orange3) (3.0.20)\n",
      "Requirement already satisfied: stack-data in c:\\users\\jardi\\anaconda3\\lib\\site-packages (from ipython>=7.23.1->ipykernel>=4.1->qtconsole>=4.7.2->Orange3) (0.2.0)\n",
      "Requirement already satisfied: decorator in c:\\users\\jardi\\anaconda3\\lib\\site-packages (from ipython>=7.23.1->ipykernel>=4.1->qtconsole>=4.7.2->Orange3) (5.1.1)\n",
      "Requirement already satisfied: colorama in c:\\users\\jardi\\anaconda3\\lib\\site-packages (from ipython>=7.23.1->ipykernel>=4.1->qtconsole>=4.7.2->Orange3) (0.4.4)\n",
      "Requirement already satisfied: backcall in c:\\users\\jardi\\anaconda3\\lib\\site-packages (from ipython>=7.23.1->ipykernel>=4.1->qtconsole>=4.7.2->Orange3) (0.2.0)\n",
      "Requirement already satisfied: jedi>=0.16 in c:\\users\\jardi\\anaconda3\\lib\\site-packages (from ipython>=7.23.1->ipykernel>=4.1->qtconsole>=4.7.2->Orange3) (0.18.1)\n",
      "Requirement already satisfied: parso<0.9.0,>=0.8.0 in c:\\users\\jardi\\anaconda3\\lib\\site-packages (from jedi>=0.16->ipython>=7.23.1->ipykernel>=4.1->qtconsole>=4.7.2->Orange3) (0.8.3)\n",
      "Requirement already satisfied: pywin32>=1.0 in c:\\users\\jardi\\anaconda3\\lib\\site-packages (from jupyter-core->qtconsole>=4.7.2->Orange3) (302)\n",
      "Requirement already satisfied: wcwidth in c:\\users\\jardi\\anaconda3\\lib\\site-packages (from prompt-toolkit!=3.0.0,!=3.0.1,<3.1.0,>=2.0.0->ipython>=7.23.1->ipykernel>=4.1->qtconsole>=4.7.2->Orange3) (0.2.5)\n",
      "Requirement already satisfied: threadpoolctl>=2.0.0 in c:\\users\\jardi\\anaconda3\\lib\\site-packages (from scikit-learn!=1.2.*,<1.4,>=1.1.0->Orange3) (2.2.0)\n",
      "Requirement already satisfied: importlib-metadata>=3.6 in c:\\users\\jardi\\anaconda3\\lib\\site-packages (from keyring->Orange3) (4.11.3)\n",
      "Requirement already satisfied: pywin32-ctypes!=0.1.0,!=0.1.1 in c:\\users\\jardi\\anaconda3\\lib\\site-packages (from keyring->Orange3) (0.2.0)\n",
      "Requirement already satisfied: zipp>=0.5 in c:\\users\\jardi\\anaconda3\\lib\\site-packages (from importlib-metadata>=3.6->keyring->Orange3) (3.7.0)\n",
      "Collecting jaraco.classes\n",
      "  Using cached jaraco.classes-3.3.1-py3-none-any.whl (6.8 kB)\n",
      "Requirement already satisfied: more-itertools in c:\\users\\jardi\\anaconda3\\lib\\site-packages (from jaraco.classes->keyrings.alt->Orange3) (10.2.0)\n",
      "Requirement already satisfied: et-xmlfile in c:\\users\\jardi\\anaconda3\\lib\\site-packages (from openpyxl->Orange3) (1.1.0)\n",
      "Requirement already satisfied: tenacity>=6.2.0 in c:\\users\\jardi\\anaconda3\\lib\\site-packages (from plotly->catboost>=1.0.1->Orange3) (8.0.1)\n",
      "Requirement already satisfied: charset-normalizer~=2.0.0 in c:\\users\\jardi\\anaconda3\\lib\\site-packages (from requests->Orange3) (2.0.4)\n",
      "Requirement already satisfied: urllib3<1.27,>=1.21.1 in c:\\users\\jardi\\anaconda3\\lib\\site-packages (from requests->Orange3) (1.26.9)\n",
      "Requirement already satisfied: url-normalize>=1.4 in c:\\users\\jardi\\anaconda3\\lib\\site-packages (from requests-cache->orange-canvas-core<0.2a,>=0.1.30->Orange3) (1.4.3)\n",
      "Requirement already satisfied: cattrs>=22.2 in c:\\users\\jardi\\anaconda3\\lib\\site-packages (from requests-cache->orange-canvas-core<0.2a,>=0.1.30->Orange3) (23.2.3)\n",
      "Requirement already satisfied: platformdirs>=2.5 in c:\\users\\jardi\\anaconda3\\lib\\site-packages (from requests-cache->orange-canvas-core<0.2a,>=0.1.30->Orange3) (4.2.0)\n",
      "Requirement already satisfied: attrs>=21.2 in c:\\users\\jardi\\anaconda3\\lib\\site-packages (from requests-cache->orange-canvas-core<0.2a,>=0.1.30->Orange3) (23.2.0)\n",
      "Requirement already satisfied: exceptiongroup>=1.1.1 in c:\\users\\jardi\\anaconda3\\lib\\site-packages (from cattrs>=22.2->requests-cache->orange-canvas-core<0.2a,>=0.1.30->Orange3) (1.2.0)\n",
      "Requirement already satisfied: asttokens in c:\\users\\jardi\\anaconda3\\lib\\site-packages (from stack-data->ipython>=7.23.1->ipykernel>=4.1->qtconsole>=4.7.2->Orange3) (2.0.5)\n",
      "Requirement already satisfied: executing in c:\\users\\jardi\\anaconda3\\lib\\site-packages (from stack-data->ipython>=7.23.1->ipykernel>=4.1->qtconsole>=4.7.2->Orange3) (0.8.3)\n",
      "Requirement already satisfied: pure-eval in c:\\users\\jardi\\anaconda3\\lib\\site-packages (from stack-data->ipython>=7.23.1->ipykernel>=4.1->qtconsole>=4.7.2->Orange3) (0.2.2)\n",
      "Installing collected packages: pyqtgraph, orange-canvas-core, jaraco.classes, httpcore, graphviz, xgboost, serverfiles, python-louvain, orange-widget-base, openTSNE, keyrings.alt, httpx, catboost, baycomp, Orange3\n",
      "Successfully installed Orange3-3.36.2 baycomp-1.0.3 catboost-1.2.3 graphviz-0.20.1 httpcore-1.0.4 httpx-0.27.0 jaraco.classes-3.3.1 keyrings.alt-5.0.0 openTSNE-1.0.1 orange-canvas-core-0.1.35 orange-widget-base-4.22.0 pyqtgraph-0.13.4 python-louvain-0.16 serverfiles-0.3.1 xgboost-2.0.3\n"
     ]
    }
   ],
   "source": [
    "!pip install Orange3"
   ]
  },
  {
   "cell_type": "code",
   "execution_count": 11,
   "id": "2bbe9a6e",
   "metadata": {},
   "outputs": [
    {
     "name": "stderr",
     "output_type": "stream",
     "text": [
      "C:\\Users\\Jardi\\anaconda3\\lib\\site-packages\\pyqtgraph\\colors\\palette.py:1: RuntimeWarning: PyQtGraph supports Qt version >= 5.15, but 5.9.7 detected.\n",
      "  from ..Qt import QtGui\n"
     ]
    }
   ],
   "source": [
    "import Orange"
   ]
  },
  {
   "cell_type": "code",
   "execution_count": 12,
   "id": "ad7ed712",
   "metadata": {},
   "outputs": [],
   "source": [
    "base_risco_credito = Orange.data.Table('C:/Users/Jardi/Documents/Cursos/Machine Learning/recursos do curso/Bases de dados/risco_credito_regras.csv')"
   ]
  },
  {
   "cell_type": "code",
   "execution_count": 13,
   "id": "8d8442f9",
   "metadata": {},
   "outputs": [
    {
     "data": {
      "text/plain": [
       "[[ruim, alta, nenhuma, 0_15 | alto],\n",
       " [desconhecida, alta, nenhuma, 15_35 | alto],\n",
       " [desconhecida, baixa, nenhuma, 15_35 | moderado],\n",
       " [desconhecida, baixa, nenhuma, acima_35 | alto],\n",
       " [desconhecida, baixa, nenhuma, acima_35 | baixo],\n",
       " ...\n",
       "]"
      ]
     },
     "execution_count": 13,
     "metadata": {},
     "output_type": "execute_result"
    }
   ],
   "source": [
    "base_risco_credito"
   ]
  },
  {
   "cell_type": "code",
   "execution_count": 14,
   "id": "3d1e3b05",
   "metadata": {},
   "outputs": [
    {
     "data": {
      "text/plain": [
       "[historia, divida, garantias, renda | risco]"
      ]
     },
     "execution_count": 14,
     "metadata": {},
     "output_type": "execute_result"
    }
   ],
   "source": [
    "base_risco_credito.domain"
   ]
  },
  {
   "cell_type": "code",
   "execution_count": 15,
   "id": "17ad5b36",
   "metadata": {},
   "outputs": [],
   "source": [
    "cn2 = Orange.classification.rules.CN2Learner()\n",
    "regras_risco_credito = cn2(base_risco_credito)"
   ]
  },
  {
   "cell_type": "code",
   "execution_count": 16,
   "id": "e556bc30",
   "metadata": {},
   "outputs": [
    {
     "name": "stdout",
     "output_type": "stream",
     "text": [
      "IF renda==0_15 THEN risco=alto \n",
      "IF historia==boa AND divida!=alta THEN risco=baixo \n",
      "IF historia==boa AND garantias!=nenhuma THEN risco=baixo \n",
      "IF historia==boa AND renda!=15_35 THEN risco=baixo \n",
      "IF historia==boa THEN risco=moderado \n",
      "IF divida==alta THEN risco=alto \n",
      "IF historia!=desconhecida THEN risco=moderado \n",
      "IF garantias==adequada THEN risco=baixo \n",
      "IF renda==15_35 THEN risco=moderado \n",
      "IF historia==desconhecida THEN risco=baixo \n",
      "IF TRUE THEN risco=alto \n"
     ]
    }
   ],
   "source": [
    "for regras in regras_risco_credito.rule_list:\n",
    "    print(regras)"
   ]
  },
  {
   "cell_type": "code",
   "execution_count": 19,
   "id": "95577242",
   "metadata": {},
   "outputs": [
    {
     "data": {
      "text/plain": [
       "CN2Classifier(domain=[historia, divida, garantias, renda | risco],\n",
       "              rule_list=[<Orange.classification.rules.Rule at 0x21771516cd0>,\n",
       "               <Orange.classification.rules.Rule at 0x21771516f70>,\n",
       "               <Orange.classification.rules.Rule at 0x21771516250>,\n",
       "               <Orange.classification.rules.Rule at 0x217715169a0>,\n",
       "               <Orange.classification.rules.Rule at 0x21771516f40>,\n",
       "               <Orange.classification.rules.Rule at 0x21771516af0>,\n",
       "               <Orange.classification.rules.Rule at 0x21771516b20>,\n",
       "               <Orange.classification.rules.Rule at 0x21771516a30>,\n",
       "               <Orange.classification.rules.Rule at 0x21771516c70>,\n",
       "               <Orange.classification.rules.Rule at 0x217715162e0>,\n",
       "               <Orange.classification.rules.Rule at 0x21771516d00>])"
      ]
     },
     "execution_count": 19,
     "metadata": {},
     "output_type": "execute_result"
    }
   ],
   "source": [
    "regras_risco_credito"
   ]
  },
  {
   "cell_type": "code",
   "execution_count": 24,
   "id": "a5c581f9",
   "metadata": {},
   "outputs": [
    {
     "ename": "ValueError",
     "evalue": "Value nenhum does not exist",
     "output_type": "error",
     "traceback": [
      "\u001b[1;31m---------------------------------------------------------------------------\u001b[0m",
      "\u001b[1;31mValueError\u001b[0m                                Traceback (most recent call last)",
      "Input \u001b[1;32mIn [24]\u001b[0m, in \u001b[0;36m<cell line: 1>\u001b[1;34m()\u001b[0m\n\u001b[1;32m----> 1\u001b[0m previsoes \u001b[38;5;241m=\u001b[39m \u001b[43mregras_risco_credito\u001b[49m\u001b[43m(\u001b[49m\u001b[43m[\u001b[49m\u001b[38;5;124;43m'\u001b[39;49m\u001b[38;5;124;43mboa\u001b[39;49m\u001b[38;5;124;43m'\u001b[39;49m\u001b[43m,\u001b[49m\u001b[38;5;124;43m'\u001b[39;49m\u001b[38;5;124;43malta\u001b[39;49m\u001b[38;5;124;43m'\u001b[39;49m\u001b[43m,\u001b[49m\u001b[38;5;124;43m'\u001b[39;49m\u001b[38;5;124;43mnenhum\u001b[39;49m\u001b[38;5;124;43m'\u001b[39;49m\u001b[43m,\u001b[49m\u001b[38;5;124;43m'\u001b[39;49m\u001b[38;5;124;43macima_35\u001b[39;49m\u001b[38;5;124;43m'\u001b[39;49m\u001b[43m]\u001b[49m\u001b[43m)\u001b[49m\n\u001b[0;32m      2\u001b[0m previsoes\n",
      "File \u001b[1;32m~\\anaconda3\\lib\\site-packages\\Orange\\base.py:454\u001b[0m, in \u001b[0;36mModel.__call__\u001b[1;34m(self, data, ret)\u001b[0m\n\u001b[0;32m    452\u001b[0m     prediction \u001b[38;5;241m=\u001b[39m \u001b[38;5;28mself\u001b[39m\u001b[38;5;241m.\u001b[39mpredict_storage(data)\n\u001b[0;32m    453\u001b[0m \u001b[38;5;28;01melif\u001b[39;00m \u001b[38;5;28misinstance\u001b[39m(data, (\u001b[38;5;28mlist\u001b[39m, \u001b[38;5;28mtuple\u001b[39m)):\n\u001b[1;32m--> 454\u001b[0m     data \u001b[38;5;241m=\u001b[39m \u001b[43mTable\u001b[49m\u001b[38;5;241;43m.\u001b[39;49m\u001b[43mfrom_list\u001b[49m\u001b[43m(\u001b[49m\u001b[38;5;28;43mself\u001b[39;49m\u001b[38;5;241;43m.\u001b[39;49m\u001b[43moriginal_domain\u001b[49m\u001b[43m,\u001b[49m\u001b[43m \u001b[49m\u001b[43mdata\u001b[49m\u001b[43m)\u001b[49m\n\u001b[0;32m    455\u001b[0m     data \u001b[38;5;241m=\u001b[39m data\u001b[38;5;241m.\u001b[39mtransform(\u001b[38;5;28mself\u001b[39m\u001b[38;5;241m.\u001b[39mdomain)\n\u001b[0;32m    456\u001b[0m     prediction \u001b[38;5;241m=\u001b[39m \u001b[38;5;28mself\u001b[39m\u001b[38;5;241m.\u001b[39mpredict_storage(data)\n",
      "File \u001b[1;32m~\\anaconda3\\lib\\site-packages\\Orange\\data\\table.py:994\u001b[0m, in \u001b[0;36mTable.from_list\u001b[1;34m(cls, domain, rows, weights)\u001b[0m\n\u001b[0;32m    992\u001b[0m \u001b[38;5;28;01mif\u001b[39;00m \u001b[38;5;28misinstance\u001b[39m(row, Instance):\n\u001b[0;32m    993\u001b[0m     row \u001b[38;5;241m=\u001b[39m row\u001b[38;5;241m.\u001b[39mlist\n\u001b[1;32m--> 994\u001b[0m vals \u001b[38;5;241m=\u001b[39m [var\u001b[38;5;241m.\u001b[39mto_val(val) \u001b[38;5;28;01mfor\u001b[39;00m var, val \u001b[38;5;129;01min\u001b[39;00m \u001b[38;5;28mzip\u001b[39m(all_vars, row)]\n\u001b[0;32m    995\u001b[0m \u001b[38;5;28;01mif\u001b[39;00m \u001b[38;5;28mself\u001b[39m\u001b[38;5;241m.\u001b[39mX\u001b[38;5;241m.\u001b[39msize:\n\u001b[0;32m    996\u001b[0m     \u001b[38;5;28mself\u001b[39m\u001b[38;5;241m.\u001b[39mX[i] \u001b[38;5;241m=\u001b[39m vals[:nattrs]\n",
      "File \u001b[1;32m~\\anaconda3\\lib\\site-packages\\Orange\\data\\table.py:994\u001b[0m, in \u001b[0;36m<listcomp>\u001b[1;34m(.0)\u001b[0m\n\u001b[0;32m    992\u001b[0m \u001b[38;5;28;01mif\u001b[39;00m \u001b[38;5;28misinstance\u001b[39m(row, Instance):\n\u001b[0;32m    993\u001b[0m     row \u001b[38;5;241m=\u001b[39m row\u001b[38;5;241m.\u001b[39mlist\n\u001b[1;32m--> 994\u001b[0m vals \u001b[38;5;241m=\u001b[39m [\u001b[43mvar\u001b[49m\u001b[38;5;241;43m.\u001b[39;49m\u001b[43mto_val\u001b[49m\u001b[43m(\u001b[49m\u001b[43mval\u001b[49m\u001b[43m)\u001b[49m \u001b[38;5;28;01mfor\u001b[39;00m var, val \u001b[38;5;129;01min\u001b[39;00m \u001b[38;5;28mzip\u001b[39m(all_vars, row)]\n\u001b[0;32m    995\u001b[0m \u001b[38;5;28;01mif\u001b[39;00m \u001b[38;5;28mself\u001b[39m\u001b[38;5;241m.\u001b[39mX\u001b[38;5;241m.\u001b[39msize:\n\u001b[0;32m    996\u001b[0m     \u001b[38;5;28mself\u001b[39m\u001b[38;5;241m.\u001b[39mX[i] \u001b[38;5;241m=\u001b[39m vals[:nattrs]\n",
      "File \u001b[1;32m~\\anaconda3\\lib\\site-packages\\Orange\\data\\variable.py:811\u001b[0m, in \u001b[0;36mDiscreteVariable.to_val\u001b[1;34m(self, s)\u001b[0m\n\u001b[0;32m    808\u001b[0m     \u001b[38;5;28;01mraise\u001b[39;00m \u001b[38;5;167;01mTypeError\u001b[39;00m(\u001b[38;5;124m'\u001b[39m\u001b[38;5;124mCannot convert \u001b[39m\u001b[38;5;132;01m{}\u001b[39;00m\u001b[38;5;124m to value of \u001b[39m\u001b[38;5;124m\"\u001b[39m\u001b[38;5;132;01m{}\u001b[39;00m\u001b[38;5;124m\"\u001b[39m\u001b[38;5;124m'\u001b[39m\u001b[38;5;241m.\u001b[39mformat(\n\u001b[0;32m    809\u001b[0m         \u001b[38;5;28mtype\u001b[39m(s)\u001b[38;5;241m.\u001b[39m\u001b[38;5;18m__name__\u001b[39m, \u001b[38;5;28mself\u001b[39m\u001b[38;5;241m.\u001b[39mname))\n\u001b[0;32m    810\u001b[0m \u001b[38;5;28;01mif\u001b[39;00m s \u001b[38;5;129;01mnot\u001b[39;00m \u001b[38;5;129;01min\u001b[39;00m \u001b[38;5;28mself\u001b[39m\u001b[38;5;241m.\u001b[39m_value_index:\n\u001b[1;32m--> 811\u001b[0m     \u001b[38;5;28;01mraise\u001b[39;00m \u001b[38;5;167;01mValueError\u001b[39;00m(\u001b[38;5;124mf\u001b[39m\u001b[38;5;124m\"\u001b[39m\u001b[38;5;124mValue \u001b[39m\u001b[38;5;132;01m{\u001b[39;00ms\u001b[38;5;132;01m}\u001b[39;00m\u001b[38;5;124m does not exist\u001b[39m\u001b[38;5;124m\"\u001b[39m)\n\u001b[0;32m    812\u001b[0m \u001b[38;5;28;01mreturn\u001b[39;00m \u001b[38;5;28mself\u001b[39m\u001b[38;5;241m.\u001b[39m_value_index[s]\n",
      "\u001b[1;31mValueError\u001b[0m: Value nenhum does not exist"
     ]
    }
   ],
   "source": [
    "previsoes = regras_risco_credito(['boa','alta','nenhum','acima_35'])\n",
    "previsoes"
   ]
  },
  {
   "cell_type": "code",
   "execution_count": null,
   "id": "648ca37a",
   "metadata": {},
   "outputs": [],
   "source": []
  },
  {
   "cell_type": "code",
   "execution_count": null,
   "id": "8b39792c",
   "metadata": {},
   "outputs": [],
   "source": []
  }
 ],
 "metadata": {
  "kernelspec": {
   "display_name": "Python 3 (ipykernel)",
   "language": "python",
   "name": "python3"
  },
  "language_info": {
   "codemirror_mode": {
    "name": "ipython",
    "version": 3
   },
   "file_extension": ".py",
   "mimetype": "text/x-python",
   "name": "python",
   "nbconvert_exporter": "python",
   "pygments_lexer": "ipython3",
   "version": "3.9.12"
  }
 },
 "nbformat": 4,
 "nbformat_minor": 5
}
