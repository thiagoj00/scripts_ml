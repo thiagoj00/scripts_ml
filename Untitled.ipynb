{
 "cells": [
  {
   "cell_type": "code",
   "execution_count": 1,
   "id": "c7f4b597",
   "metadata": {},
   "outputs": [],
   "source": [
    "import pickle\n",
    "with open('C:/Users/Jardi/Documents/Cursos/Machine Learning/recursos do curso/Bases de dados/census.pkl','rb') as f:\n",
    "    x_census_treinamento,y_census_treinamento,x_census_teste,y_census_teste = pickle.load(f)"
   ]
  },
  {
   "cell_type": "code",
   "execution_count": 2,
   "id": "3b9175e7",
   "metadata": {},
   "outputs": [
    {
     "data": {
      "text/plain": [
       "((27676, 108), (27676,))"
      ]
     },
     "execution_count": 2,
     "metadata": {},
     "output_type": "execute_result"
    }
   ],
   "source": [
    "x_census_treinamento.shape, y_census_treinamento.shape"
   ]
  },
  {
   "cell_type": "code",
   "execution_count": 4,
   "id": "76c16d11",
   "metadata": {},
   "outputs": [
    {
     "data": {
      "text/plain": [
       "((4885, 108), (4885,))"
      ]
     },
     "execution_count": 4,
     "metadata": {},
     "output_type": "execute_result"
    }
   ],
   "source": [
    "x_census_teste.shape,y_census_teste.shape"
   ]
  },
  {
   "cell_type": "code",
   "execution_count": 50,
   "id": "9f789f06",
   "metadata": {},
   "outputs": [],
   "source": [
    "from sklearn.neural_network import MLPClassifier\n",
    "rede_neural_census=MLPClassifier(max_iter=1000,verbose=True,tol=0.00010,solver='adam',\n",
    "                                 activation='relu',hidden_layer_sizes=((55,55)))"
   ]
  },
  {
   "cell_type": "code",
   "execution_count": 51,
   "id": "1661cec5",
   "metadata": {},
   "outputs": [
    {
     "name": "stdout",
     "output_type": "stream",
     "text": [
      "Iteration 1, loss = 0.42430623\n",
      "Iteration 2, loss = 0.32792649\n",
      "Iteration 3, loss = 0.31524729\n",
      "Iteration 4, loss = 0.30724021\n",
      "Iteration 5, loss = 0.30252009\n",
      "Iteration 6, loss = 0.29824574\n",
      "Iteration 7, loss = 0.29540263\n",
      "Iteration 8, loss = 0.29224987\n",
      "Iteration 9, loss = 0.29028894\n",
      "Iteration 10, loss = 0.28794128\n",
      "Iteration 11, loss = 0.28572224\n",
      "Iteration 12, loss = 0.28381282\n",
      "Iteration 13, loss = 0.28285741\n",
      "Iteration 14, loss = 0.28010148\n",
      "Iteration 15, loss = 0.27857246\n",
      "Iteration 16, loss = 0.27684233\n",
      "Iteration 17, loss = 0.27503582\n",
      "Iteration 18, loss = 0.27331110\n",
      "Iteration 19, loss = 0.27215902\n",
      "Iteration 20, loss = 0.27024273\n",
      "Iteration 21, loss = 0.26862176\n",
      "Iteration 22, loss = 0.26727692\n",
      "Iteration 23, loss = 0.26569699\n",
      "Iteration 24, loss = 0.26411121\n",
      "Iteration 25, loss = 0.26329586\n",
      "Iteration 26, loss = 0.26156784\n",
      "Iteration 27, loss = 0.25996740\n",
      "Iteration 28, loss = 0.25886073\n",
      "Iteration 29, loss = 0.25711807\n",
      "Iteration 30, loss = 0.25578579\n",
      "Iteration 31, loss = 0.25485089\n",
      "Iteration 32, loss = 0.25437806\n",
      "Iteration 33, loss = 0.25236525\n",
      "Iteration 34, loss = 0.25115306\n",
      "Iteration 35, loss = 0.24918161\n",
      "Iteration 36, loss = 0.24933239\n",
      "Iteration 37, loss = 0.24745908\n",
      "Iteration 38, loss = 0.24719076\n",
      "Iteration 39, loss = 0.24526109\n",
      "Iteration 40, loss = 0.24507113\n",
      "Iteration 41, loss = 0.24337096\n",
      "Iteration 42, loss = 0.24339623\n",
      "Iteration 43, loss = 0.24158728\n",
      "Iteration 44, loss = 0.24004629\n",
      "Iteration 45, loss = 0.23977274\n",
      "Iteration 46, loss = 0.23940636\n",
      "Iteration 47, loss = 0.23755788\n",
      "Iteration 48, loss = 0.23777045\n",
      "Iteration 49, loss = 0.23593231\n",
      "Iteration 50, loss = 0.23493679\n",
      "Iteration 51, loss = 0.23525921\n",
      "Iteration 52, loss = 0.23320604\n",
      "Iteration 53, loss = 0.23180692\n",
      "Iteration 54, loss = 0.23150714\n",
      "Iteration 55, loss = 0.22961231\n",
      "Iteration 56, loss = 0.23004053\n",
      "Iteration 57, loss = 0.22872140\n",
      "Iteration 58, loss = 0.22771285\n",
      "Iteration 59, loss = 0.22712271\n",
      "Iteration 60, loss = 0.22743369\n",
      "Iteration 61, loss = 0.22654819\n",
      "Iteration 62, loss = 0.22535622\n",
      "Iteration 63, loss = 0.22403434\n",
      "Iteration 64, loss = 0.22355048\n",
      "Iteration 65, loss = 0.22287273\n",
      "Iteration 66, loss = 0.22143951\n",
      "Iteration 67, loss = 0.22115775\n",
      "Iteration 68, loss = 0.22022925\n",
      "Iteration 69, loss = 0.21918025\n",
      "Iteration 70, loss = 0.21940783\n",
      "Iteration 71, loss = 0.21738539\n",
      "Iteration 72, loss = 0.21719063\n",
      "Iteration 73, loss = 0.21659998\n",
      "Iteration 74, loss = 0.21741959\n",
      "Iteration 75, loss = 0.21496899\n",
      "Iteration 76, loss = 0.21537897\n",
      "Iteration 77, loss = 0.21399148\n",
      "Iteration 78, loss = 0.21345686\n",
      "Iteration 79, loss = 0.21327035\n",
      "Iteration 80, loss = 0.21333314\n",
      "Iteration 81, loss = 0.21268683\n",
      "Iteration 82, loss = 0.21073527\n",
      "Iteration 83, loss = 0.21167330\n",
      "Iteration 84, loss = 0.21042929\n",
      "Iteration 85, loss = 0.20932005\n",
      "Iteration 86, loss = 0.21002917\n",
      "Iteration 87, loss = 0.20772993\n",
      "Iteration 88, loss = 0.20707133\n",
      "Iteration 89, loss = 0.20826331\n",
      "Iteration 90, loss = 0.20545809\n",
      "Iteration 91, loss = 0.20636487\n",
      "Iteration 92, loss = 0.20521577\n",
      "Iteration 93, loss = 0.20545841\n",
      "Iteration 94, loss = 0.20477711\n",
      "Iteration 95, loss = 0.20319217\n",
      "Iteration 96, loss = 0.20332803\n",
      "Iteration 97, loss = 0.20264780\n",
      "Iteration 98, loss = 0.20154388\n",
      "Iteration 99, loss = 0.20114799\n",
      "Iteration 100, loss = 0.20083438\n",
      "Iteration 101, loss = 0.20087496\n",
      "Iteration 102, loss = 0.19954525\n",
      "Iteration 103, loss = 0.19932750\n",
      "Iteration 104, loss = 0.19940251\n",
      "Iteration 105, loss = 0.19971669\n",
      "Iteration 106, loss = 0.19886428\n",
      "Iteration 107, loss = 0.19726383\n",
      "Iteration 108, loss = 0.19860406\n",
      "Iteration 109, loss = 0.19711796\n",
      "Iteration 110, loss = 0.19749403\n",
      "Iteration 111, loss = 0.19669544\n",
      "Iteration 112, loss = 0.19583982\n",
      "Iteration 113, loss = 0.19642416\n",
      "Iteration 114, loss = 0.19505627\n",
      "Iteration 115, loss = 0.19507543\n",
      "Iteration 116, loss = 0.19462808\n",
      "Iteration 117, loss = 0.19407494\n",
      "Iteration 118, loss = 0.19427569\n",
      "Iteration 119, loss = 0.19239183\n",
      "Iteration 120, loss = 0.19256058\n",
      "Iteration 121, loss = 0.19289116\n",
      "Iteration 122, loss = 0.19132981\n",
      "Iteration 123, loss = 0.19049460\n",
      "Iteration 124, loss = 0.19024461\n",
      "Iteration 125, loss = 0.19043337\n",
      "Iteration 126, loss = 0.18890459\n",
      "Iteration 127, loss = 0.18975055\n",
      "Iteration 128, loss = 0.18956024\n",
      "Iteration 129, loss = 0.18840905\n",
      "Iteration 130, loss = 0.18807838\n",
      "Iteration 131, loss = 0.18911864\n",
      "Iteration 132, loss = 0.18735398\n",
      "Iteration 133, loss = 0.18713423\n",
      "Iteration 134, loss = 0.18705623\n",
      "Iteration 135, loss = 0.18701217\n",
      "Iteration 136, loss = 0.18613154\n",
      "Iteration 137, loss = 0.18737187\n",
      "Iteration 138, loss = 0.18667253\n",
      "Iteration 139, loss = 0.18423667\n",
      "Iteration 140, loss = 0.18461094\n",
      "Iteration 141, loss = 0.18407569\n",
      "Iteration 142, loss = 0.18424957\n",
      "Iteration 143, loss = 0.18366504\n",
      "Iteration 144, loss = 0.18379877\n",
      "Iteration 145, loss = 0.18386463\n",
      "Iteration 146, loss = 0.18300888\n",
      "Iteration 147, loss = 0.18193709\n",
      "Iteration 148, loss = 0.18188645\n",
      "Iteration 149, loss = 0.18274338\n",
      "Iteration 150, loss = 0.18138229\n",
      "Iteration 151, loss = 0.18247358\n",
      "Iteration 152, loss = 0.18077249\n",
      "Iteration 153, loss = 0.18142483\n",
      "Iteration 154, loss = 0.18216869\n",
      "Iteration 155, loss = 0.18029590\n",
      "Iteration 156, loss = 0.17861715\n",
      "Iteration 157, loss = 0.17892222\n",
      "Iteration 158, loss = 0.17941156\n",
      "Iteration 159, loss = 0.17848987\n",
      "Iteration 160, loss = 0.17953589\n",
      "Iteration 161, loss = 0.17812405\n",
      "Iteration 162, loss = 0.17852036\n",
      "Iteration 163, loss = 0.17782643\n",
      "Iteration 164, loss = 0.17927316\n",
      "Iteration 165, loss = 0.17744592\n",
      "Iteration 166, loss = 0.17662748\n",
      "Iteration 167, loss = 0.17555379\n",
      "Iteration 168, loss = 0.17600704\n",
      "Iteration 169, loss = 0.17643284\n",
      "Iteration 170, loss = 0.17559991\n",
      "Iteration 171, loss = 0.17434316\n",
      "Iteration 172, loss = 0.17391054\n",
      "Iteration 173, loss = 0.17461700\n",
      "Iteration 174, loss = 0.17460605\n",
      "Iteration 175, loss = 0.17436115\n",
      "Iteration 176, loss = 0.17314413\n",
      "Iteration 177, loss = 0.17410276\n",
      "Iteration 178, loss = 0.17243043\n",
      "Iteration 179, loss = 0.17335025\n",
      "Iteration 180, loss = 0.17340198\n",
      "Iteration 181, loss = 0.17327672\n",
      "Iteration 182, loss = 0.17292798\n",
      "Iteration 183, loss = 0.17233443\n",
      "Iteration 184, loss = 0.17559567\n",
      "Iteration 185, loss = 0.17233253\n",
      "Iteration 186, loss = 0.17018184\n",
      "Iteration 187, loss = 0.17065464\n",
      "Iteration 188, loss = 0.16939803\n",
      "Iteration 189, loss = 0.17008621\n",
      "Iteration 190, loss = 0.16959052\n",
      "Iteration 191, loss = 0.16939520\n",
      "Iteration 192, loss = 0.16940382\n",
      "Iteration 193, loss = 0.16999829\n",
      "Iteration 194, loss = 0.16902706\n",
      "Iteration 195, loss = 0.16786456\n",
      "Iteration 196, loss = 0.16820309\n",
      "Iteration 197, loss = 0.16794950\n",
      "Iteration 198, loss = 0.17082148\n",
      "Iteration 199, loss = 0.16939441\n",
      "Iteration 200, loss = 0.16709404\n",
      "Iteration 201, loss = 0.16787584\n",
      "Iteration 202, loss = 0.16652343\n",
      "Iteration 203, loss = 0.16702170\n",
      "Iteration 204, loss = 0.16768884\n",
      "Iteration 205, loss = 0.16561975\n",
      "Iteration 206, loss = 0.16589849\n",
      "Iteration 207, loss = 0.16514481\n",
      "Iteration 208, loss = 0.16576108\n",
      "Iteration 209, loss = 0.16561949\n",
      "Iteration 210, loss = 0.16506888\n",
      "Iteration 211, loss = 0.16611340\n",
      "Iteration 212, loss = 0.16431541\n",
      "Iteration 213, loss = 0.16565836\n",
      "Iteration 214, loss = 0.16542830\n",
      "Iteration 215, loss = 0.16342698\n",
      "Iteration 216, loss = 0.16545960\n",
      "Iteration 217, loss = 0.16394633\n",
      "Iteration 218, loss = 0.16466408\n",
      "Iteration 219, loss = 0.16573159\n",
      "Iteration 220, loss = 0.16247490\n",
      "Iteration 221, loss = 0.16261889\n",
      "Iteration 222, loss = 0.16277868\n",
      "Iteration 223, loss = 0.16231623\n",
      "Iteration 224, loss = 0.16216099\n",
      "Iteration 225, loss = 0.16378541\n",
      "Iteration 226, loss = 0.16182589\n",
      "Iteration 227, loss = 0.16201081\n",
      "Iteration 228, loss = 0.16142289\n",
      "Iteration 229, loss = 0.16144644\n",
      "Iteration 230, loss = 0.15966574\n",
      "Iteration 231, loss = 0.16090762\n",
      "Iteration 232, loss = 0.16091698\n",
      "Iteration 233, loss = 0.15927028\n",
      "Iteration 234, loss = 0.15911135\n",
      "Iteration 235, loss = 0.16021455\n",
      "Iteration 236, loss = 0.15919807\n",
      "Iteration 237, loss = 0.16206959\n",
      "Iteration 238, loss = 0.15997842\n",
      "Iteration 239, loss = 0.15921654\n",
      "Iteration 240, loss = 0.15915742\n",
      "Iteration 241, loss = 0.15901353\n",
      "Iteration 242, loss = 0.15824532\n",
      "Iteration 243, loss = 0.15954633\n",
      "Iteration 244, loss = 0.15834832\n",
      "Iteration 245, loss = 0.15853531\n",
      "Iteration 246, loss = 0.15714227\n",
      "Iteration 247, loss = 0.15755189\n",
      "Iteration 248, loss = 0.15770892\n",
      "Iteration 249, loss = 0.15730968\n",
      "Iteration 250, loss = 0.15749705\n",
      "Iteration 251, loss = 0.15652578\n",
      "Iteration 252, loss = 0.15642683\n"
     ]
    },
    {
     "name": "stdout",
     "output_type": "stream",
     "text": [
      "Iteration 253, loss = 0.15613532\n",
      "Iteration 254, loss = 0.15762569\n",
      "Iteration 255, loss = 0.15585891\n",
      "Iteration 256, loss = 0.15586525\n",
      "Iteration 257, loss = 0.15557731\n",
      "Iteration 258, loss = 0.15546350\n",
      "Iteration 259, loss = 0.15615460\n",
      "Iteration 260, loss = 0.15339062\n",
      "Iteration 261, loss = 0.15447851\n",
      "Iteration 262, loss = 0.15456873\n",
      "Iteration 263, loss = 0.15475042\n",
      "Iteration 264, loss = 0.15456565\n",
      "Iteration 265, loss = 0.15491067\n",
      "Iteration 266, loss = 0.15368499\n",
      "Iteration 267, loss = 0.15516139\n",
      "Iteration 268, loss = 0.15341654\n",
      "Iteration 269, loss = 0.15509753\n",
      "Iteration 270, loss = 0.15404685\n",
      "Iteration 271, loss = 0.15387206\n",
      "Training loss did not improve more than tol=0.000100 for 10 consecutive epochs. Stopping.\n"
     ]
    },
    {
     "data": {
      "text/html": [
       "<style>#sk-container-id-9 {color: black;}#sk-container-id-9 pre{padding: 0;}#sk-container-id-9 div.sk-toggleable {background-color: white;}#sk-container-id-9 label.sk-toggleable__label {cursor: pointer;display: block;width: 100%;margin-bottom: 0;padding: 0.3em;box-sizing: border-box;text-align: center;}#sk-container-id-9 label.sk-toggleable__label-arrow:before {content: \"▸\";float: left;margin-right: 0.25em;color: #696969;}#sk-container-id-9 label.sk-toggleable__label-arrow:hover:before {color: black;}#sk-container-id-9 div.sk-estimator:hover label.sk-toggleable__label-arrow:before {color: black;}#sk-container-id-9 div.sk-toggleable__content {max-height: 0;max-width: 0;overflow: hidden;text-align: left;background-color: #f0f8ff;}#sk-container-id-9 div.sk-toggleable__content pre {margin: 0.2em;color: black;border-radius: 0.25em;background-color: #f0f8ff;}#sk-container-id-9 input.sk-toggleable__control:checked~div.sk-toggleable__content {max-height: 200px;max-width: 100%;overflow: auto;}#sk-container-id-9 input.sk-toggleable__control:checked~label.sk-toggleable__label-arrow:before {content: \"▾\";}#sk-container-id-9 div.sk-estimator input.sk-toggleable__control:checked~label.sk-toggleable__label {background-color: #d4ebff;}#sk-container-id-9 div.sk-label input.sk-toggleable__control:checked~label.sk-toggleable__label {background-color: #d4ebff;}#sk-container-id-9 input.sk-hidden--visually {border: 0;clip: rect(1px 1px 1px 1px);clip: rect(1px, 1px, 1px, 1px);height: 1px;margin: -1px;overflow: hidden;padding: 0;position: absolute;width: 1px;}#sk-container-id-9 div.sk-estimator {font-family: monospace;background-color: #f0f8ff;border: 1px dotted black;border-radius: 0.25em;box-sizing: border-box;margin-bottom: 0.5em;}#sk-container-id-9 div.sk-estimator:hover {background-color: #d4ebff;}#sk-container-id-9 div.sk-parallel-item::after {content: \"\";width: 100%;border-bottom: 1px solid gray;flex-grow: 1;}#sk-container-id-9 div.sk-label:hover label.sk-toggleable__label {background-color: #d4ebff;}#sk-container-id-9 div.sk-serial::before {content: \"\";position: absolute;border-left: 1px solid gray;box-sizing: border-box;top: 0;bottom: 0;left: 50%;z-index: 0;}#sk-container-id-9 div.sk-serial {display: flex;flex-direction: column;align-items: center;background-color: white;padding-right: 0.2em;padding-left: 0.2em;position: relative;}#sk-container-id-9 div.sk-item {position: relative;z-index: 1;}#sk-container-id-9 div.sk-parallel {display: flex;align-items: stretch;justify-content: center;background-color: white;position: relative;}#sk-container-id-9 div.sk-item::before, #sk-container-id-9 div.sk-parallel-item::before {content: \"\";position: absolute;border-left: 1px solid gray;box-sizing: border-box;top: 0;bottom: 0;left: 50%;z-index: -1;}#sk-container-id-9 div.sk-parallel-item {display: flex;flex-direction: column;z-index: 1;position: relative;background-color: white;}#sk-container-id-9 div.sk-parallel-item:first-child::after {align-self: flex-end;width: 50%;}#sk-container-id-9 div.sk-parallel-item:last-child::after {align-self: flex-start;width: 50%;}#sk-container-id-9 div.sk-parallel-item:only-child::after {width: 0;}#sk-container-id-9 div.sk-dashed-wrapped {border: 1px dashed gray;margin: 0 0.4em 0.5em 0.4em;box-sizing: border-box;padding-bottom: 0.4em;background-color: white;}#sk-container-id-9 div.sk-label label {font-family: monospace;font-weight: bold;display: inline-block;line-height: 1.2em;}#sk-container-id-9 div.sk-label-container {text-align: center;}#sk-container-id-9 div.sk-container {/* jupyter's `normalize.less` sets `[hidden] { display: none; }` but bootstrap.min.css set `[hidden] { display: none !important; }` so we also need the `!important` here to be able to override the default hidden behavior on the sphinx rendered scikit-learn.org. See: https://github.com/scikit-learn/scikit-learn/issues/21755 */display: inline-block !important;position: relative;}#sk-container-id-9 div.sk-text-repr-fallback {display: none;}</style><div id=\"sk-container-id-9\" class=\"sk-top-container\"><div class=\"sk-text-repr-fallback\"><pre>MLPClassifier(hidden_layer_sizes=(55, 55), max_iter=1000, verbose=True)</pre><b>In a Jupyter environment, please rerun this cell to show the HTML representation or trust the notebook. <br />On GitHub, the HTML representation is unable to render, please try loading this page with nbviewer.org.</b></div><div class=\"sk-container\" hidden><div class=\"sk-item\"><div class=\"sk-estimator sk-toggleable\"><input class=\"sk-toggleable__control sk-hidden--visually\" id=\"sk-estimator-id-9\" type=\"checkbox\" checked><label for=\"sk-estimator-id-9\" class=\"sk-toggleable__label sk-toggleable__label-arrow\">MLPClassifier</label><div class=\"sk-toggleable__content\"><pre>MLPClassifier(hidden_layer_sizes=(55, 55), max_iter=1000, verbose=True)</pre></div></div></div></div></div>"
      ],
      "text/plain": [
       "MLPClassifier(hidden_layer_sizes=(55, 55), max_iter=1000, verbose=True)"
      ]
     },
     "execution_count": 51,
     "metadata": {},
     "output_type": "execute_result"
    }
   ],
   "source": [
    "rede_neural_census.fit(x_census_treinamento,y_census_treinamento)"
   ]
  },
  {
   "cell_type": "code",
   "execution_count": 52,
   "id": "54325533",
   "metadata": {},
   "outputs": [],
   "source": [
    "previsao=rede_neural_census.predict(x_census_teste)"
   ]
  },
  {
   "cell_type": "code",
   "execution_count": 53,
   "id": "4d55aeae",
   "metadata": {},
   "outputs": [
    {
     "data": {
      "text/plain": [
       "0.8145342886386898"
      ]
     },
     "execution_count": 53,
     "metadata": {},
     "output_type": "execute_result"
    },
    {
     "data": {
      "image/png": "[encoded data removed]",
      "text/plain": [
       "<Figure size 800x550 with 1 Axes>"
      ]
     },
     "metadata": {},
     "output_type": "display_data"
    }
   ],
   "source": [
    "from yellowbrick.classifier import ConfusionMatrix\n",
    "cm=ConfusionMatrix(rede_neural_census)\n",
    "cm.fit(x_census_treinamento,y_census_treinamento)\n",
    "cm.score(x_census_teste,y_census_teste)"
   ]
  },
  {
   "cell_type": "code",
   "execution_count": 54,
   "id": "da8051c7",
   "metadata": {},
   "outputs": [
    {
     "name": "stdout",
     "output_type": "stream",
     "text": [
      "              precision    recall  f1-score   support\n",
      "\n",
      "       <=50K       0.88      0.88      0.88      3693\n",
      "        >50K       0.62      0.63      0.62      1192\n",
      "\n",
      "    accuracy                           0.81      4885\n",
      "   macro avg       0.75      0.75      0.75      4885\n",
      "weighted avg       0.82      0.81      0.81      4885\n",
      "\n"
     ]
    }
   ],
   "source": [
    "from sklearn.metrics import classification_report\n",
    "print(classification_report(y_census_teste,previsao))"
   ]
  },
  {
   "cell_type": "code",
   "execution_count": null,
   "id": "e616ab67",
   "metadata": {},
   "outputs": [],
   "source": []
  }
 ],
 "metadata": {
  "kernelspec": {
   "display_name": "Python 3 (ipykernel)",
   "language": "python",
   "name": "python3"
  },
  "language_info": {
   "codemirror_mode": {
    "name": "ipython",
    "version": 3
   },
   "file_extension": ".py",
   "mimetype": "text/x-python",
   "name": "python",
   "nbconvert_exporter": "python",
   "pygments_lexer": "ipython3",
   "version": "3.9.18"
  }
 },
 "nbformat": 4,
 "nbformat_minor": 5
}
