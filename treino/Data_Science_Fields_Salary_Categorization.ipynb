{
 "cells": [
  {
   "cell_type": "code",
   "execution_count": 1,
   "id": "d67abef1",
   "metadata": {},
   "outputs": [],
   "source": [
    "import pandas as pd\n",
    "import numpy as np\n",
    "import seaborn as sns\n",
    "import matplotlib.pyplot as plt\n",
    "import plotly.express as px"
   ]
  },
  {
   "cell_type": "code",
   "execution_count": 30,
   "id": "c97039d6",
   "metadata": {},
   "outputs": [],
   "source": [
    "base=pd.read_csv('C:/Users/Jardi/Documents/Cursos/Machine Learning/Pratica/treino/Data_Science_Fields_Salary_Categorization.csv',sep=';')"
   ]
  },
  {
   "cell_type": "code",
   "execution_count": 31,
   "id": "0a4ce179",
   "metadata": {},
   "outputs": [
    {
     "data": {
      "text/html": [
       "<div>\n",
       "<style scoped>\n",
       "    .dataframe tbody tr th:only-of-type {\n",
       "        vertical-align: middle;\n",
       "    }\n",
       "\n",
       "    .dataframe tbody tr th {\n",
       "        vertical-align: top;\n",
       "    }\n",
       "\n",
       "    .dataframe thead th {\n",
       "        text-align: right;\n",
       "    }\n",
       "</style>\n",
       "<table border=\"1\" class=\"dataframe\">\n",
       "  <thead>\n",
       "    <tr style=\"text-align: right;\">\n",
       "      <th></th>\n",
       "      <th>Unnamed: 0</th>\n",
       "      <th>Working_Year</th>\n",
       "      <th>Designation</th>\n",
       "      <th>Experience</th>\n",
       "      <th>Employment_Status</th>\n",
       "      <th>Salary_In_Rupees</th>\n",
       "      <th>Employee_Location</th>\n",
       "      <th>Company_Location</th>\n",
       "      <th>Company_Size</th>\n",
       "      <th>Remote_Working_Ratio</th>\n",
       "      <th>Salary_In_Rupees.1</th>\n",
       "    </tr>\n",
       "  </thead>\n",
       "  <tbody>\n",
       "    <tr>\n",
       "      <th>0</th>\n",
       "      <td>1</td>\n",
       "      <td>2020</td>\n",
       "      <td>Data Scientist</td>\n",
       "      <td>MI</td>\n",
       "      <td>FT</td>\n",
       "      <td>5MM A 10MM</td>\n",
       "      <td>DE</td>\n",
       "      <td>DE</td>\n",
       "      <td>L</td>\n",
       "      <td>0</td>\n",
       "      <td>6352272</td>\n",
       "    </tr>\n",
       "    <tr>\n",
       "      <th>1</th>\n",
       "      <td>2</td>\n",
       "      <td>2020</td>\n",
       "      <td>Machine Learning Scientist</td>\n",
       "      <td>SE</td>\n",
       "      <td>FT</td>\n",
       "      <td>20MM A 26MM</td>\n",
       "      <td>JP</td>\n",
       "      <td>JP</td>\n",
       "      <td>S</td>\n",
       "      <td>0</td>\n",
       "      <td>20688070</td>\n",
       "    </tr>\n",
       "    <tr>\n",
       "      <th>2</th>\n",
       "      <td>3</td>\n",
       "      <td>2020</td>\n",
       "      <td>Big Data Engineer</td>\n",
       "      <td>SE</td>\n",
       "      <td>FT</td>\n",
       "      <td>5MM A 10MM</td>\n",
       "      <td>GB</td>\n",
       "      <td>GB</td>\n",
       "      <td>M</td>\n",
       "      <td>50</td>\n",
       "      <td>8674985</td>\n",
       "    </tr>\n",
       "    <tr>\n",
       "      <th>3</th>\n",
       "      <td>4</td>\n",
       "      <td>2020</td>\n",
       "      <td>Product Data Analyst</td>\n",
       "      <td>MI</td>\n",
       "      <td>FT</td>\n",
       "      <td>1MM A 5MM</td>\n",
       "      <td>HN</td>\n",
       "      <td>HN</td>\n",
       "      <td>S</td>\n",
       "      <td>0</td>\n",
       "      <td>1591390</td>\n",
       "    </tr>\n",
       "    <tr>\n",
       "      <th>4</th>\n",
       "      <td>5</td>\n",
       "      <td>2020</td>\n",
       "      <td>Machine Learning Engineer</td>\n",
       "      <td>SE</td>\n",
       "      <td>FT</td>\n",
       "      <td>10MM A 15MM</td>\n",
       "      <td>US</td>\n",
       "      <td>US</td>\n",
       "      <td>L</td>\n",
       "      <td>50</td>\n",
       "      <td>11935425</td>\n",
       "    </tr>\n",
       "    <tr>\n",
       "      <th>...</th>\n",
       "      <td>...</td>\n",
       "      <td>...</td>\n",
       "      <td>...</td>\n",
       "      <td>...</td>\n",
       "      <td>...</td>\n",
       "      <td>...</td>\n",
       "      <td>...</td>\n",
       "      <td>...</td>\n",
       "      <td>...</td>\n",
       "      <td>...</td>\n",
       "      <td>...</td>\n",
       "    </tr>\n",
       "    <tr>\n",
       "      <th>602</th>\n",
       "      <td>603</td>\n",
       "      <td>2022</td>\n",
       "      <td>Data Engineer</td>\n",
       "      <td>SE</td>\n",
       "      <td>FT</td>\n",
       "      <td>10MM A 15MM</td>\n",
       "      <td>US</td>\n",
       "      <td>US</td>\n",
       "      <td>M</td>\n",
       "      <td>100</td>\n",
       "      <td>12253703</td>\n",
       "    </tr>\n",
       "    <tr>\n",
       "      <th>603</th>\n",
       "      <td>604</td>\n",
       "      <td>2022</td>\n",
       "      <td>Data Engineer</td>\n",
       "      <td>SE</td>\n",
       "      <td>FT</td>\n",
       "      <td>10MM A 15MM</td>\n",
       "      <td>US</td>\n",
       "      <td>US</td>\n",
       "      <td>M</td>\n",
       "      <td>100</td>\n",
       "      <td>10025757</td>\n",
       "    </tr>\n",
       "    <tr>\n",
       "      <th>604</th>\n",
       "      <td>605</td>\n",
       "      <td>2022</td>\n",
       "      <td>Data Analyst</td>\n",
       "      <td>SE</td>\n",
       "      <td>FT</td>\n",
       "      <td>10MM A 15MM</td>\n",
       "      <td>US</td>\n",
       "      <td>US</td>\n",
       "      <td>M</td>\n",
       "      <td>0</td>\n",
       "      <td>10264466</td>\n",
       "    </tr>\n",
       "    <tr>\n",
       "      <th>605</th>\n",
       "      <td>606</td>\n",
       "      <td>2022</td>\n",
       "      <td>Data Analyst</td>\n",
       "      <td>SE</td>\n",
       "      <td>FT</td>\n",
       "      <td>10MM A 15MM</td>\n",
       "      <td>US</td>\n",
       "      <td>US</td>\n",
       "      <td>M</td>\n",
       "      <td>100</td>\n",
       "      <td>11935425</td>\n",
       "    </tr>\n",
       "    <tr>\n",
       "      <th>606</th>\n",
       "      <td>607</td>\n",
       "      <td>2022</td>\n",
       "      <td>AI Scientist</td>\n",
       "      <td>MI</td>\n",
       "      <td>FT</td>\n",
       "      <td>15MM A 20MM</td>\n",
       "      <td>IN</td>\n",
       "      <td>US</td>\n",
       "      <td>L</td>\n",
       "      <td>100</td>\n",
       "      <td>15913900</td>\n",
       "    </tr>\n",
       "  </tbody>\n",
       "</table>\n",
       "<p>607 rows × 11 columns</p>\n",
       "</div>"
      ],
      "text/plain": [
       "     Unnamed: 0  Working_Year                 Designation Experience  \\\n",
       "0             1          2020              Data Scientist         MI   \n",
       "1             2          2020  Machine Learning Scientist         SE   \n",
       "2             3          2020           Big Data Engineer         SE   \n",
       "3             4          2020        Product Data Analyst         MI   \n",
       "4             5          2020   Machine Learning Engineer         SE   \n",
       "..          ...           ...                         ...        ...   \n",
       "602         603          2022               Data Engineer         SE   \n",
       "603         604          2022               Data Engineer         SE   \n",
       "604         605          2022                Data Analyst         SE   \n",
       "605         606          2022                Data Analyst         SE   \n",
       "606         607          2022                AI Scientist         MI   \n",
       "\n",
       "    Employment_Status Salary_In_Rupees Employee_Location Company_Location  \\\n",
       "0                  FT       5MM A 10MM                DE               DE   \n",
       "1                  FT      20MM A 26MM                JP               JP   \n",
       "2                  FT       5MM A 10MM                GB               GB   \n",
       "3                  FT        1MM A 5MM                HN               HN   \n",
       "4                  FT      10MM A 15MM                US               US   \n",
       "..                ...              ...               ...              ...   \n",
       "602                FT      10MM A 15MM                US               US   \n",
       "603                FT      10MM A 15MM                US               US   \n",
       "604                FT      10MM A 15MM                US               US   \n",
       "605                FT      10MM A 15MM                US               US   \n",
       "606                FT      15MM A 20MM                IN               US   \n",
       "\n",
       "    Company_Size  Remote_Working_Ratio  Salary_In_Rupees.1  \n",
       "0              L                     0             6352272  \n",
       "1              S                     0            20688070  \n",
       "2              M                    50             8674985  \n",
       "3              S                     0             1591390  \n",
       "4              L                    50            11935425  \n",
       "..           ...                   ...                 ...  \n",
       "602            M                   100            12253703  \n",
       "603            M                   100            10025757  \n",
       "604            M                     0            10264466  \n",
       "605            M                   100            11935425  \n",
       "606            L                   100            15913900  \n",
       "\n",
       "[607 rows x 11 columns]"
      ]
     },
     "execution_count": 31,
     "metadata": {},
     "output_type": "execute_result"
    }
   ],
   "source": [
    "base"
   ]
  },
  {
   "cell_type": "code",
   "execution_count": 32,
   "id": "6a977f90",
   "metadata": {},
   "outputs": [
    {
     "data": {
      "text/plain": [
       "<bound method NDFrame.describe of      Unnamed: 0  Working_Year                 Designation Experience  \\\n",
       "0             1          2020              Data Scientist         MI   \n",
       "1             2          2020  Machine Learning Scientist         SE   \n",
       "2             3          2020           Big Data Engineer         SE   \n",
       "3             4          2020        Product Data Analyst         MI   \n",
       "4             5          2020   Machine Learning Engineer         SE   \n",
       "..          ...           ...                         ...        ...   \n",
       "602         603          2022               Data Engineer         SE   \n",
       "603         604          2022               Data Engineer         SE   \n",
       "604         605          2022                Data Analyst         SE   \n",
       "605         606          2022                Data Analyst         SE   \n",
       "606         607          2022                AI Scientist         MI   \n",
       "\n",
       "    Employment_Status Salary_In_Rupees Employee_Location Company_Location  \\\n",
       "0                  FT       5MM A 10MM                DE               DE   \n",
       "1                  FT      20MM A 26MM                JP               JP   \n",
       "2                  FT       5MM A 10MM                GB               GB   \n",
       "3                  FT        1MM A 5MM                HN               HN   \n",
       "4                  FT      10MM A 15MM                US               US   \n",
       "..                ...              ...               ...              ...   \n",
       "602                FT      10MM A 15MM                US               US   \n",
       "603                FT      10MM A 15MM                US               US   \n",
       "604                FT      10MM A 15MM                US               US   \n",
       "605                FT      10MM A 15MM                US               US   \n",
       "606                FT      15MM A 20MM                IN               US   \n",
       "\n",
       "    Company_Size  Remote_Working_Ratio  Salary_In_Rupees.1  \n",
       "0              L                     0             6352272  \n",
       "1              S                     0            20688070  \n",
       "2              M                    50             8674985  \n",
       "3              S                     0             1591390  \n",
       "4              L                    50            11935425  \n",
       "..           ...                   ...                 ...  \n",
       "602            M                   100            12253703  \n",
       "603            M                   100            10025757  \n",
       "604            M                     0            10264466  \n",
       "605            M                   100            11935425  \n",
       "606            L                   100            15913900  \n",
       "\n",
       "[607 rows x 11 columns]>"
      ]
     },
     "execution_count": 32,
     "metadata": {},
     "output_type": "execute_result"
    }
   ],
   "source": [
    "base.describe"
   ]
  },
  {
   "cell_type": "code",
   "execution_count": 33,
   "id": "b4aefcec",
   "metadata": {},
   "outputs": [
    {
     "data": {
      "text/plain": [
       "(array(['3D Computer Vision Researcher', 'AI Scientist',\n",
       "        'Analytics Engineer', 'Applied Data Scientist',\n",
       "        'Applied Machine Learning Scientist', 'BI Data Analyst',\n",
       "        'Big Data Architect', 'Big Data Engineer', 'Business Data Analyst',\n",
       "        'Cloud Data Engineer', 'Computer Vision Engineer',\n",
       "        'Computer Vision Software Engineer', 'Data Analyst',\n",
       "        'Data Analytics Engineer', 'Data Analytics Lead',\n",
       "        'Data Analytics Manager', 'Data Architect', 'Data Engineer',\n",
       "        'Data Engineering Manager', 'Data Science Consultant',\n",
       "        'Data Science Engineer', 'Data Science Manager', 'Data Scientist',\n",
       "        'Data Specialist', 'Director of Data Engineering',\n",
       "        'Director of Data Science', 'ETL Developer',\n",
       "        'Finance Data Analyst', 'Financial Data Analyst', 'Head of Data',\n",
       "        'Head of Data Science', 'Head of Machine Learning',\n",
       "        'Lead Data Analyst', 'Lead Data Engineer', 'Lead Data Scientist',\n",
       "        'Lead Machine Learning Engineer', 'ML Engineer',\n",
       "        'Machine Learning Developer', 'Machine Learning Engineer',\n",
       "        'Machine Learning Infrastructure Engineer',\n",
       "        'Machine Learning Manager', 'Machine Learning Scientist',\n",
       "        'Marketing Data Analyst', 'NLP Engineer', 'Principal Data Analyst',\n",
       "        'Principal Data Engineer', 'Principal Data Scientist',\n",
       "        'Product Data Analyst', 'Research Scientist',\n",
       "        'Staff Data Scientist'], dtype=object),\n",
       " array([  1,   7,   4,   5,   4,   6,   1,   8,   5,   2,   6,   3,  97,\n",
       "          4,   1,   7,  11, 132,   5,   7,   3,  12, 143,   1,   2,   7,\n",
       "          2,   1,   2,   5,   4,   1,   3,   6,   3,   1,   6,   3,  41,\n",
       "          3,   1,   8,   1,   1,   2,   3,   7,   2,  16,   1], dtype=int64))"
      ]
     },
     "execution_count": 33,
     "metadata": {},
     "output_type": "execute_result"
    }
   ],
   "source": [
    "np.unique(base['Designation'],return_counts=True)"
   ]
  },
  {
   "cell_type": "code",
   "execution_count": 34,
   "id": "7419f1c7",
   "metadata": {},
   "outputs": [
    {
     "data": {
      "text/plain": [
       "array(['CT', 'FL', 'FT', 'PT'], dtype=object)"
      ]
     },
     "execution_count": 34,
     "metadata": {},
     "output_type": "execute_result"
    }
   ],
   "source": [
    "np.unique(base['Employment_Status'])"
   ]
  },
  {
   "cell_type": "code",
   "execution_count": 35,
   "id": "e2de4a8f",
   "metadata": {},
   "outputs": [],
   "source": [
    "grafico=px.scatter_matrix(base,dimensions=['Designation','Salary_In_Rupees'])"
   ]
  },
  {
   "cell_type": "code",
   "execution_count": 36,
   "id": "ee63fe27",
   "metadata": {},
   "outputs": [
    {
     "data": {
      "application/vnd.plotly.v1+json": {
       "config": {
        "plotlyServerURL": "https://plot.ly"
       },
       "data": [
        {
         "dimensions": [
          {
           "axis": {
            "matches": true
           },
           "label": "Designation",
           "values": [
            "Data Scientist",
            "Machine Learning Scientist",
            "Big Data Engineer",
            "Product Data Analyst",
            "Machine Learning Engineer",
            "Data Analyst",
            "Lead Data Scientist",
            "Data Scientist",
            "Business Data Analyst",
            "Lead Data Engineer",
            "Data Scientist",
            "Data Scientist",
            "Data Scientist",
            "Lead Data Analyst",
            "Data Analyst",
            "Data Analyst",
            "Data Engineer",
            "Big Data Engineer",
            "Data Science Consultant",
            "Lead Data Engineer",
            "Machine Learning Engineer",
            "Product Data Analyst",
            "Data Engineer",
            "BI Data Analyst",
            "Lead Data Scientist",
            "Director of Data Science",
            "Research Scientist",
            "Data Engineer",
            "Business Data Analyst",
            "Machine Learning Manager",
            "Data Engineering Manager",
            "Big Data Engineer",
            "Data Scientist",
            "Research Scientist",
            "Data Analyst",
            "Data Engineer",
            "Data Science Consultant",
            "Machine Learning Engineer",
            "Data Analyst",
            "Machine Learning Engineer",
            "Data Scientist",
            "Data Engineering Manager",
            "Machine Learning Infrastructure Engineer",
            "Data Engineer",
            "Data Engineer",
            "ML Engineer",
            "Data Scientist",
            "Data Engineer",
            "Data Scientist",
            "Data Engineer",
            "Data Analyst",
            "Data Analyst",
            "AI Scientist",
            "Data Engineer",
            "Computer Vision Engineer",
            "Principal Data Scientist",
            "Data Scientist",
            "Data Scientist",
            "Data Scientist",
            "Data Scientist",
            "Data Engineer",
            "Data Engineer",
            "Data Scientist",
            "Data Scientist",
            "Machine Learning Engineer",
            "Data Scientist",
            "Data Scientist",
            "Data Science Manager",
            "Data Scientist",
            "Data Scientist",
            "Data Scientist",
            "Data Scientist",
            "Research Scientist",
            "BI Data Analyst",
            "Head of Data",
            "Data Scientist",
            "BI Data Analyst",
            "3D Computer Vision Researcher",
            "ML Engineer",
            "Data Analyst",
            "Data Analytics Engineer",
            "Data Engineer",
            "Applied Data Scientist",
            "Machine Learning Engineer",
            "Director of Data Science",
            "Data Engineer",
            "Data Analyst",
            "Data Analytics Engineer",
            "Lead Data Analyst",
            "Data Analyst",
            "Marketing Data Analyst",
            "Data Science Consultant",
            "Lead Data Analyst",
            "Lead Data Engineer",
            "Data Scientist",
            "Cloud Data Engineer",
            "AI Scientist",
            "Financial Data Analyst",
            "Computer Vision Software Engineer",
            "Computer Vision Software Engineer",
            "Data Analyst",
            "Data Engineer",
            "BI Data Analyst",
            "Data Analyst",
            "Data Scientist",
            "Data Analyst",
            "Research Scientist",
            "Data Engineer",
            "Data Engineer",
            "Data Engineer",
            "Machine Learning Engineer",
            "Director of Data Engineering",
            "Lead Data Engineer",
            "AI Scientist",
            "Data Engineer",
            "Machine Learning Scientist",
            "Data Scientist",
            "Data Science Engineer",
            "Data Analyst",
            "Data Engineer",
            "Big Data Engineer",
            "Principal Data Engineer",
            "Data Analyst",
            "Applied Data Scientist",
            "Data Analyst",
            "Principal Data Scientist",
            "Machine Learning Scientist",
            "Data Scientist",
            "Machine Learning Engineer",
            "Lead Data Scientist",
            "Machine Learning Developer",
            "Data Scientist",
            "Applied Machine Learning Scientist",
            "Computer Vision Engineer",
            "Data Scientist",
            "Data Analyst",
            "ML Engineer",
            "ML Engineer",
            "Principal Data Scientist",
            "Data Scientist",
            "Data Analyst",
            "Data Science Manager",
            "Data Engineering Manager",
            "Data Scientist",
            "Data Engineer",
            "Machine Learning Engineer",
            "Research Scientist",
            "Data Engineer",
            "Data Engineering Manager",
            "Cloud Data Engineer",
            "Director of Data Science",
            "Data Scientist",
            "Data Scientist",
            "Data Scientist",
            "Data Science Manager",
            "Data Science Engineer",
            "Data Scientist",
            "Applied Machine Learning Scientist",
            "Data Analytics Manager",
            "Machine Learning Engineer",
            "Head of Data",
            "Head of Data Science",
            "Data Engineer",
            "Data Science Consultant",
            "Director of Data Science",
            "Data Specialist",
            "Data Engineer",
            "Director of Data Science",
            "BI Data Analyst",
            "Data Architect",
            "Data Architect",
            "Data Engineer",
            "Data Analyst",
            "Principal Data Scientist",
            "Research Scientist",
            "Data Engineering Manager",
            "Data Scientist",
            "Data Scientist",
            "Machine Learning Engineer",
            "Data Scientist",
            "Big Data Engineer",
            "Data Scientist",
            "Data Engineer",
            "Finance Data Analyst",
            "Machine Learning Scientist",
            "Data Engineer",
            "Data Analytics Engineer",
            "Data Science Consultant",
            "Data Engineer",
            "Machine Learning Engineer",
            "Data Science Manager",
            "Machine Learning Engineer",
            "Big Data Engineer",
            "Data Science Manager",
            "Research Scientist",
            "Data Scientist",
            "BI Data Analyst",
            "Machine Learning Engineer",
            "Data Science Manager",
            "Data Science Consultant",
            "Data Scientist",
            "Machine Learning Infrastructure Engineer",
            "Data Scientist",
            "Research Scientist",
            "Data Scientist",
            "Data Scientist",
            "Machine Learning Engineer",
            "Data Engineer",
            "Data Engineer",
            "Data Analytics Manager",
            "Machine Learning Engineer",
            "Research Scientist",
            "Data Engineer",
            "Big Data Engineer",
            "Machine Learning Engineer",
            "Principal Data Engineer",
            "Computer Vision Engineer",
            "Data Scientist",
            "Machine Learning Engineer",
            "Data Analytics Manager",
            "Machine Learning Engineer",
            "Data Scientist",
            "Data Scientist",
            "Data Scientist",
            "Machine Learning Scientist",
            "Principal Data Scientist",
            "Data Scientist",
            "Data Scientist",
            "Data Scientist",
            "Data Analyst",
            "Big Data Engineer",
            "ML Engineer",
            "Director of Data Engineering",
            "Data Analyst",
            "Data Architect",
            "Head of Data Science",
            "Research Scientist",
            "Data Scientist",
            "Data Scientist",
            "Data Engineer",
            "Data Scientist",
            "Data Analyst",
            "Data Engineer",
            "Data Scientist",
            "AI Scientist",
            "Data Engineer",
            "Data Scientist",
            "Data Engineer",
            "Data Engineer",
            "Principal Data Analyst",
            "Data Scientist",
            "Data Scientist",
            "Principal Data Engineer",
            "Data Scientist",
            "Data Analyst",
            "Big Data Architect",
            "Data Engineer",
            "Principal Data Scientist",
            "Machine Learning Engineer",
            "Director of Data Science",
            "Data Scientist",
            "Data Analyst",
            "Data Scientist",
            "Machine Learning Engineer",
            "Data Scientist",
            "Lead Data Engineer",
            "Data Engineer",
            "Data Engineer",
            "Data Engineer",
            "Data Engineer",
            "Data Engineer",
            "Computer Vision Engineer",
            "Data Science Consultant",
            "Machine Learning Engineer",
            "Data Scientist",
            "Data Scientist",
            "Data Scientist",
            "AI Scientist",
            "Data Scientist",
            "Business Data Analyst",
            "Data Engineer",
            "Research Scientist",
            "Data Engineer",
            "Staff Data Scientist",
            "Research Scientist",
            "Data Science Manager",
            "Head of Data",
            "Data Scientist",
            "Machine Learning Engineer",
            "Data Engineer",
            "Data Analyst",
            "Data Analyst",
            "Data Scientist",
            "Data Scientist",
            "Data Engineer",
            "Data Engineer",
            "Data Analyst",
            "Data Analyst",
            "Data Scientist",
            "Data Scientist",
            "Data Scientist",
            "Data Scientist",
            "Data Scientist",
            "Data Scientist",
            "Data Engineer",
            "Data Analyst",
            "Data Analyst",
            "Data Analyst",
            "Data Analyst",
            "Data Engineer",
            "Data Engineer",
            "Data Scientist",
            "Data Scientist",
            "Data Engineer",
            "Data Engineer",
            "Data Scientist",
            "Data Engineer",
            "Data Scientist",
            "Data Analyst",
            "Data Engineer",
            "Data Engineer",
            "Data Engineer",
            "Data Engineer",
            "Data Scientist",
            "Data Scientist",
            "Data Analyst",
            "Data Analyst",
            "Data Analyst",
            "Data Analyst",
            "Data Analyst",
            "Data Analyst",
            "Data Analyst",
            "Data Analyst",
            "Data Analyst",
            "Data Engineer",
            "Data Engineer",
            "Data Analyst",
            "Data Engineer",
            "Data Analyst",
            "Data Analyst",
            "Data Engineer",
            "Data Engineer",
            "Head of Data Science",
            "Head of Data Science",
            "Analytics Engineer",
            "Data Engineer",
            "Data Engineer",
            "Data Scientist",
            "Data Engineer",
            "Data Analyst",
            "Data Science Manager",
            "Data Science Manager",
            "Data Scientist",
            "Data Scientist",
            "Data Engineer",
            "Data Engineer",
            "Data Scientist",
            "Data Scientist",
            "Data Architect",
            "Data Architect",
            "Data Analyst",
            "Data Analyst",
            "Data Analyst",
            "Data Analyst",
            "Data Engineer",
            "Data Scientist",
            "Data Engineer",
            "Data Analyst",
            "Analytics Engineer",
            "Data Scientist",
            "Data Scientist",
            "Machine Learning Engineer",
            "Machine Learning Engineer",
            "ETL Developer",
            "ETL Developer",
            "Lead Data Engineer",
            "Data Analyst",
            "Data Engineer",
            "Data Architect",
            "Data Architect",
            "Data Engineer",
            "Data Engineer",
            "Data Analyst",
            "Data Analyst",
            "Head of Machine Learning",
            "Data Engineer",
            "Machine Learning Engineer",
            "Data Analyst",
            "Data Engineer",
            "Machine Learning Engineer",
            "Machine Learning Engineer",
            "AI Scientist",
            "Data Analyst",
            "Data Analyst",
            "Data Analytics Manager",
            "Data Analytics Manager",
            "Machine Learning Engineer",
            "Data Engineer",
            "Data Scientist",
            "Data Scientist",
            "Data Engineer",
            "Data Engineer",
            "Data Analyst",
            "Data Analyst",
            "Data Engineer",
            "Data Engineer",
            "Data Analyst",
            "Data Engineer",
            "Data Analyst",
            "Data Scientist",
            "Data Scientist",
            "Data Scientist",
            "Data Engineer",
            "Data Engineer",
            "Data Engineer",
            "Data Engineer",
            "Data Scientist",
            "Data Science Engineer",
            "Data Engineer",
            "Machine Learning Scientist",
            "Machine Learning Scientist",
            "Data Science Manager",
            "Data Science Manager",
            "Data Scientist",
            "Data Scientist",
            "Data Engineer",
            "Data Engineer",
            "Data Engineer",
            "Data Scientist",
            "Data Analyst",
            "Data Analyst",
            "Data Analyst",
            "Data Engineer",
            "Data Engineer",
            "Data Engineer",
            "Data Engineer",
            "Data Engineer",
            "Data Engineer",
            "Machine Learning Engineer",
            "Machine Learning Engineer",
            "Data Analyst",
            "Data Analyst",
            "Data Engineer",
            "Data Engineer",
            "Data Scientist",
            "Data Engineer",
            "Data Engineer",
            "Data Engineer",
            "Data Engineer",
            "ML Engineer",
            "Data Engineer",
            "Machine Learning Developer",
            "Director of Data Science",
            "Machine Learning Engineer",
            "Computer Vision Engineer",
            "NLP Engineer",
            "Data Engineer",
            "Lead Machine Learning Engineer",
            "Business Data Analyst",
            "Data Scientist",
            "Machine Learning Infrastructure Engineer",
            "Financial Data Analyst",
            "Data Engineer",
            "Data Scientist",
            "Principal Data Scientist",
            "Data Engineer",
            "Research Scientist",
            "Data Scientist",
            "Data Engineer",
            "Data Scientist",
            "Data Analyst",
            "Data Analyst",
            "Data Scientist",
            "Data Scientist",
            "Data Scientist",
            "Data Scientist",
            "Data Scientist",
            "Machine Learning Engineer",
            "Data Scientist",
            "Data Scientist",
            "Machine Learning Engineer",
            "Machine Learning Engineer",
            "Data Engineer",
            "Data Engineer",
            "Data Engineer",
            "Machine Learning Engineer",
            "Data Scientist",
            "Data Scientist",
            "Data Scientist",
            "Applied Machine Learning Scientist",
            "Head of Data",
            "Principal Data Analyst",
            "Data Scientist",
            "Machine Learning Developer",
            "Data Scientist",
            "Machine Learning Scientist",
            "Data Engineer",
            "Data Scientist",
            "Research Scientist",
            "Data Scientist",
            "Machine Learning Engineer",
            "Head of Data",
            "Data Scientist",
            "Machine Learning Engineer",
            "Data Engineer",
            "Data Scientist",
            "Applied Machine Learning Scientist",
            "Research Scientist",
            "Research Scientist",
            "Applied Data Scientist",
            "Computer Vision Software Engineer",
            "Business Data Analyst",
            "Data Engineer",
            "Machine Learning Engineer",
            "Data Analytics Engineer",
            "Data Scientist",
            "Data Science Manager",
            "Data Engineer",
            "Data Scientist",
            "Applied Data Scientist",
            "Data Scientist",
            "Computer Vision Engineer",
            "Data Analyst",
            "Data Analytics Lead",
            "Data Scientist",
            "Applied Data Scientist",
            "Data Scientist",
            "Data Analyst",
            "Data Analyst",
            "Data Analyst",
            "Data Analyst",
            "Data Analyst",
            "Machine Learning Engineer",
            "Machine Learning Engineer",
            "Data Architect",
            "Data Architect",
            "Data Analyst",
            "Data Engineer",
            "Data Scientist",
            "Data Scientist",
            "Data Analyst",
            "Data Analyst",
            "Data Engineer",
            "Data Engineer",
            "Data Engineer",
            "Data Engineer",
            "Data Engineer",
            "Data Engineer",
            "Data Analyst",
            "Data Engineer",
            "Data Scientist",
            "Data Scientist",
            "Data Scientist",
            "Data Scientist",
            "Data Engineer",
            "Data Engineer",
            "Data Engineer",
            "Data Engineer",
            "Data Scientist",
            "Data Scientist",
            "Analytics Engineer",
            "Analytics Engineer",
            "Data Engineer",
            "Data Engineer",
            "Data Analyst",
            "Data Engineer",
            "Data Analyst",
            "Data Analyst",
            "Data Analyst",
            "Data Scientist",
            "Data Scientist",
            "Data Scientist",
            "Data Analyst",
            "Data Analyst",
            "Data Scientist",
            "Data Scientist",
            "Data Scientist",
            "Data Analyst",
            "Data Engineer",
            "Data Engineer",
            "Data Analyst",
            "Data Analyst",
            "Data Engineer",
            "Data Engineer",
            "Data Analyst",
            "Data Analyst",
            "Data Analyst",
            "Data Scientist",
            "Data Analyst",
            "Data Analyst",
            "Data Architect",
            "Data Architect",
            "Data Scientist",
            "Data Scientist",
            "Data Analytics Manager",
            "Data Analytics Manager",
            "Data Scientist",
            "Data Analyst",
            "Data Scientist",
            "Data Scientist",
            "Data Analyst",
            "Data Analyst",
            "Data Engineer",
            "Data Engineer",
            "Data Analyst",
            "Data Analyst",
            "AI Scientist"
           ]
          },
          {
           "axis": {
            "matches": true
           },
           "label": "Salary_In_Rupees",
           "values": [
            "5MM A 10MM",
            "20MM A 26MM",
            "5MM A 10MM",
            "1MM A 5MM",
            "10MM A 15MM",
            "5MM A 10MM",
            "15MM A 20MM",
            "1MM A 5MM",
            "10MM A 15MM",
            "5MM A 10MM",
            "1MM A 5MM",
            "1MM A 5MM",
            "1MM A 5MM",
            "5MM A 10MM",
            "5MM A 10MM",
            "1MM A 5MM",
            "1MM A 5MM",
            "5MM A 10MM",
            "1MM A 5MM",
            "1MM A 5MM",
            "1MM A 5MM",
            "1MM A 5MM",
            "1MM A 5MM",
            "5MM A 10MM",
            "5MM A 10MM",
            "20MM A 26MM",
            "1MM A 5MM",
            "1MM A 5MM",
            "5MM A 10MM",
            "5MM A 10MM",
            "1MM A 5MM",
            "5MM A 10MM",
            "5MM A 10MM",
            "ACIMA DE 26MM",
            "1MM A 5MM",
            "5MM A 10MM",
            "5MM A 10MM",
            "15MM A 20MM",
            "1MM A 5MM",
            "10MM A 15MM",
            "1MM A 5MM",
            "5MM A 10MM",
            "1MM A 5MM",
            "5MM A 10MM",
            "5MM A 10MM",
            "1MM A 5MM",
            "5MM A 10MM",
            "10MM A 15MM",
            "5MM A 10MM",
            "5MM A 10MM",
            "1MM A 5MM",
            "5MM A 10MM",
            "1MM A 5MM",
            "1MM A 5MM",
            "1MM A 5MM",
            "10MM A 15MM",
            "1MM A 5MM",
            "5MM A 10MM",
            "5MM A 10MM",
            "10MM A 15MM",
            "5MM A 10MM",
            "10MM A 15MM",
            "1MM A 5MM",
            "ACIMA DE 26MM",
            "1MM A 5MM",
            "1MM A 5MM",
            "1MM A 5MM",
            "15MM A 20MM",
            "5MM A 10MM",
            "5MM A 10MM",
            "1MM A 5MM",
            "1MM A 5MM",
            "5MM A 10MM",
            "10MM A 15MM",
            "15MM A 20MM",
            "1MM A 5MM",
            "5MM A 10MM",
            "1MM A 5MM",
            "20MM A 26MM",
            "5MM A 10MM",
            "5MM A 10MM",
            "10MM A 15MM",
            "1MM A 5MM",
            "1MM A 5MM",
            "10MM A 15MM",
            "1MM A 5MM",
            "1MM A 5MM",
            "5MM A 10MM",
            "10MM A 15MM",
            "5MM A 10MM",
            "5MM A 10MM",
            "5MM A 10MM",
            "1MM A 5MM",
            "20MM A 26MM",
            "1MM A 5MM",
            "5MM A 10MM",
            "1MM A 5MM",
            "ACIMA DE 26MM",
            "5MM A 10MM",
            "5MM A 10MM",
            "5MM A 10MM",
            "10MM A 15MM",
            "1MM A 5MM",
            "1MM A 5MM",
            "5MM A 10MM",
            "1MM A 5MM",
            "10MM A 15MM",
            "5MM A 10MM",
            "10MM A 15MM",
            "1MM A 5MM",
            "5MM A 10MM",
            "5MM A 10MM",
            "5MM A 10MM",
            "1MM A 5MM",
            "1MM A 5MM",
            "15MM A 20MM",
            "1MM A 5MM",
            "1MM A 5MM",
            "5MM A 10MM",
            "15MM A 20MM",
            "1MM A 5MM",
            "15MM A 20MM",
            "1MM A 5MM",
            "5MM A 10MM",
            "1MM A 5MM",
            "10MM A 15MM",
            "5MM A 10MM",
            "1MM A 5MM",
            "1MM A 5MM",
            "1MM A 5MM",
            "5MM A 10MM",
            "1MM A 5MM",
            "1MM A 5MM",
            "1MM A 5MM",
            "5MM A 10MM",
            "5MM A 10MM",
            "5MM A 10MM",
            "5MM A 10MM",
            "15MM A 20MM",
            "5MM A 10MM",
            "10MM A 15MM",
            "15MM A 20MM",
            "10MM A 15MM",
            "5MM A 10MM",
            "5MM A 10MM",
            "5MM A 10MM",
            "1MM A 5MM",
            "5MM A 10MM",
            "10MM A 15MM",
            "10MM A 15MM",
            "10MM A 15MM",
            "10MM A 15MM",
            "5MM A 10MM",
            "1MM A 5MM",
            "10MM A 15MM",
            "10MM A 15MM",
            "5MM A 10MM",
            "ACIMA DE 26MM",
            "5MM A 10MM",
            "5MM A 10MM",
            "15MM A 20MM",
            "5MM A 10MM",
            "1MM A 5MM",
            "5MM A 10MM",
            "10MM A 15MM",
            "10MM A 15MM",
            "5MM A 10MM",
            "15MM A 20MM",
            "1MM A 5MM",
            "10MM A 15MM",
            "10MM A 15MM",
            "5MM A 10MM",
            "1MM A 5MM",
            "15MM A 20MM",
            "1MM A 5MM",
            "10MM A 15MM",
            "1MM A 5MM",
            "1MM A 5MM",
            "5MM A 10MM",
            "1MM A 5MM",
            "1MM A 5MM",
            "5MM A 10MM",
            "1MM A 5MM",
            "1MM A 5MM",
            "1MM A 5MM",
            "1MM A 5MM",
            "1MM A 5MM",
            "5MM A 10MM",
            "5MM A 10MM",
            "5MM A 10MM",
            "10MM A 15MM",
            "1MM A 5MM",
            "1MM A 5MM",
            "10MM A 15MM",
            "5MM A 10MM",
            "10MM A 15MM",
            "1MM A 5MM",
            "1MM A 5MM",
            "1MM A 5MM",
            "5MM A 10MM",
            "1MM A 5MM",
            "15MM A 20MM",
            "1MM A 5MM",
            "1MM A 5MM",
            "10MM A 15MM",
            "1MM A 5MM",
            "15MM A 20MM",
            "10MM A 15MM",
            "1MM A 5MM",
            "5MM A 10MM",
            "1MM A 5MM",
            "1MM A 5MM",
            "5MM A 10MM",
            "1MM A 5MM",
            "1MM A 5MM",
            "10MM A 15MM",
            "1MM A 5MM",
            "5MM A 10MM",
            "5MM A 10MM",
            "10MM A 15MM",
            "1MM A 5MM",
            "5MM A 10MM",
            "1MM A 5MM",
            "1MM A 5MM",
            "15MM A 20MM",
            "ACIMA DE 26MM",
            "5MM A 10MM",
            "5MM A 10MM",
            "10MM A 15MM",
            "5MM A 10MM",
            "1MM A 5MM",
            "20MM A 26MM",
            "15MM A 20MM",
            "15MM A 20MM",
            "10MM A 15MM",
            "5MM A 10MM",
            "5MM A 10MM",
            "1MM A 5MM",
            "1MM A 5MM",
            "1MM A 5MM",
            "5MM A 10MM",
            "5MM A 10MM",
            "5MM A 10MM",
            "10MM A 15MM",
            "1MM A 5MM",
            "5MM A 10MM",
            "1MM A 5MM",
            "1MM A 5MM",
            "5MM A 10MM",
            "10MM A 15MM",
            "5MM A 10MM",
            "5MM A 10MM",
            "ACIMA DE 26MM",
            "1MM A 5MM",
            "5MM A 10MM",
            "5MM A 10MM",
            "15MM A 20MM",
            "10MM A 15MM",
            "10MM A 15MM",
            "10MM A 15MM",
            "10MM A 15MM",
            "5MM A 10MM",
            "1MM A 5MM",
            "5MM A 10MM",
            "1MM A 5MM",
            "10MM A 15MM",
            "5MM A 10MM",
            "5MM A 10MM",
            "1MM A 5MM",
            "5MM A 10MM",
            "5MM A 10MM",
            "1MM A 5MM",
            "5MM A 10MM",
            "5MM A 10MM",
            "5MM A 10MM",
            "5MM A 10MM",
            "1MM A 5MM",
            "1MM A 5MM",
            "1MM A 5MM",
            "1MM A 5MM",
            "5MM A 10MM",
            "5MM A 10MM",
            "5MM A 10MM",
            "5MM A 10MM",
            "5MM A 10MM",
            "5MM A 10MM",
            "5MM A 10MM",
            "5MM A 10MM",
            "1MM A 5MM",
            "10MM A 15MM",
            "10MM A 15MM",
            "5MM A 10MM",
            "10MM A 15MM",
            "5MM A 10MM",
            "10MM A 15MM",
            "10MM A 15MM",
            "5MM A 10MM",
            "5MM A 10MM",
            "10MM A 15MM",
            "5MM A 10MM",
            "5MM A 10MM",
            "5MM A 10MM",
            "10MM A 15MM",
            "5MM A 10MM",
            "1MM A 5MM",
            "5MM A 10MM",
            "5MM A 10MM",
            "5MM A 10MM",
            "10MM A 15MM",
            "15MM A 20MM",
            "15MM A 20MM",
            "5MM A 10MM",
            "1MM A 5MM",
            "5MM A 10MM",
            "1MM A 5MM",
            "10MM A 15MM",
            "1MM A 5MM",
            "5MM A 10MM",
            "5MM A 10MM",
            "10MM A 15MM",
            "10MM A 15MM",
            "15MM A 20MM",
            "10MM A 15MM",
            "10MM A 15MM",
            "5MM A 10MM",
            "5MM A 10MM",
            "10MM A 15MM",
            "5MM A 10MM",
            "10MM A 15MM",
            "5MM A 10MM",
            "5MM A 10MM",
            "5MM A 10MM",
            "5MM A 10MM",
            "5MM A 10MM",
            "10MM A 15MM",
            "10MM A 15MM",
            "10MM A 15MM",
            "15MM A 20MM",
            "10MM A 15MM",
            "5MM A 10MM",
            "10MM A 15MM",
            "5MM A 10MM",
            "15MM A 20MM",
            "10MM A 15MM",
            "10MM A 15MM",
            "10MM A 15MM",
            "5MM A 10MM",
            "5MM A 10MM",
            "5MM A 10MM",
            "10MM A 15MM",
            "10MM A 15MM",
            "10MM A 15MM",
            "10MM A 15MM",
            "5MM A 10MM",
            "5MM A 10MM",
            "5MM A 10MM",
            "10MM A 15MM",
            "15MM A 20MM",
            "15MM A 20MM",
            "5MM A 10MM",
            "10MM A 15MM",
            "1MM A 5MM",
            "10MM A 15MM",
            "1MM A 5MM",
            "10MM A 15MM",
            "10MM A 15MM",
            "10MM A 15MM",
            "1MM A 5MM",
            "10MM A 15MM",
            "10MM A 15MM",
            "5MM A 10MM",
            "15MM A 20MM",
            "10MM A 15MM",
            "1MM A 5MM",
            "1MM A 5MM",
            "5MM A 10MM",
            "10MM A 15MM",
            "10MM A 15MM",
            "15MM A 20MM",
            "10MM A 15MM",
            "10MM A 15MM",
            "5MM A 10MM",
            "10MM A 15MM",
            "5MM A 10MM",
            "5MM A 10MM",
            "10MM A 15MM",
            "1MM A 5MM",
            "10MM A 15MM",
            "10MM A 15MM",
            "5MM A 10MM",
            "5MM A 10MM",
            "5MM A 10MM",
            "5MM A 10MM",
            "5MM A 10MM",
            "10MM A 15MM",
            "5MM A 10MM",
            "5MM A 10MM",
            "5MM A 10MM",
            "15MM A 20MM",
            "10MM A 15MM",
            "15MM A 20MM",
            "10MM A 15MM",
            "5MM A 10MM",
            "5MM A 10MM",
            "10MM A 15MM",
            "5MM A 10MM",
            "1MM A 5MM",
            "10MM A 15MM",
            "1MM A 5MM",
            "10MM A 15MM",
            "5MM A 10MM",
            "1MM A 5MM",
            "5MM A 10MM",
            "1MM A 5MM",
            "5MM A 10MM",
            "1MM A 5MM",
            "20MM A 26MM",
            "1MM A 5MM",
            "5MM A 10MM",
            "10MM A 15MM",
            "5MM A 10MM",
            "15MM A 20MM",
            "10MM A 15MM",
            "10MM A 15MM",
            "5MM A 10MM",
            "5MM A 10MM",
            "5MM A 10MM",
            "1MM A 5MM",
            "10MM A 15MM",
            "1MM A 5MM",
            "1MM A 5MM",
            "1MM A 5MM",
            "5MM A 10MM",
            "5MM A 10MM",
            "5MM A 10MM",
            "5MM A 10MM",
            "5MM A 10MM",
            "5MM A 10MM",
            "15MM A 20MM",
            "10MM A 15MM",
            "1MM A 5MM",
            "1MM A 5MM",
            "5MM A 10MM",
            "5MM A 10MM",
            "15MM A 20MM",
            "5MM A 10MM",
            "15MM A 20MM",
            "10MM A 15MM",
            "10MM A 15MM",
            "1MM A 5MM",
            "5MM A 10MM",
            "5MM A 10MM",
            "15MM A 20MM",
            "5MM A 10MM",
            "5MM A 10MM",
            "1MM A 5MM",
            "5MM A 10MM",
            "5MM A 10MM",
            "1MM A 5MM",
            "1MM A 5MM",
            "1MM A 5MM",
            "5MM A 10MM",
            "1MM A 5MM",
            "1MM A 5MM",
            "10MM A 15MM",
            "5MM A 10MM",
            "10MM A 15MM",
            "5MM A 10MM",
            "5MM A 10MM",
            "10MM A 15MM",
            "10MM A 15MM",
            "1MM A 5MM",
            "15MM A 20MM",
            "10MM A 15MM",
            "10MM A 15MM",
            "5MM A 10MM",
            "10MM A 15MM",
            "15MM A 20MM",
            "15MM A 20MM",
            "5MM A 10MM",
            "5MM A 10MM",
            "5MM A 10MM",
            "20MM A 26MM",
            "15MM A 20MM",
            "15MM A 20MM",
            "5MM A 10MM",
            "15MM A 20MM",
            "5MM A 10MM",
            "5MM A 10MM",
            "1MM A 5MM",
            "15MM A 20MM",
            "5MM A 10MM",
            "1MM A 5MM",
            "5MM A 10MM",
            "5MM A 10MM",
            "10MM A 15MM",
            "1MM A 5MM",
            "10MM A 15MM",
            "5MM A 10MM",
            "1MM A 5MM",
            "1MM A 5MM",
            "1MM A 5MM",
            "1MM A 5MM",
            "5MM A 10MM",
            "5MM A 10MM",
            "5MM A 10MM",
            "5MM A 10MM",
            "5MM A 10MM",
            "5MM A 10MM",
            "10MM A 15MM",
            "10MM A 15MM",
            "5MM A 10MM",
            "5MM A 10MM",
            "5MM A 10MM",
            "1MM A 5MM",
            "1MM A 5MM",
            "10MM A 15MM",
            "5MM A 10MM",
            "5MM A 10MM",
            "ACIMA DE 26MM",
            "5MM A 10MM",
            "1MM A 5MM",
            "1MM A 5MM",
            "ACIMA DE 26MM",
            "10MM A 15MM",
            "10MM A 15MM",
            "5MM A 10MM",
            "10MM A 15MM",
            "5MM A 10MM",
            "5MM A 10MM",
            "5MM A 10MM",
            "5MM A 10MM",
            "15MM A 20MM",
            "15MM A 20MM",
            "20MM A 26MM",
            "15MM A 20MM",
            "5MM A 10MM",
            "10MM A 15MM",
            "10MM A 15MM",
            "5MM A 10MM",
            "5MM A 10MM",
            "5MM A 10MM",
            "15MM A 20MM",
            "5MM A 10MM",
            "10MM A 15MM",
            "5MM A 10MM",
            "5MM A 10MM",
            "10MM A 15MM",
            "5MM A 10MM",
            "10MM A 15MM",
            "15MM A 20MM",
            "10MM A 15MM",
            "10MM A 15MM",
            "10MM A 15MM",
            "15MM A 20MM",
            "10MM A 15MM",
            "10MM A 15MM",
            "5MM A 10MM",
            "15MM A 20MM",
            "10MM A 15MM",
            "15MM A 20MM",
            "10MM A 15MM",
            "10MM A 15MM",
            "10MM A 15MM",
            "5MM A 10MM",
            "1MM A 5MM",
            "10MM A 15MM",
            "5MM A 10MM",
            "5MM A 10MM",
            "10MM A 15MM",
            "15MM A 20MM",
            "10MM A 15MM",
            "5MM A 10MM",
            "5MM A 10MM",
            "15MM A 20MM",
            "10MM A 15MM",
            "15MM A 20MM",
            "10MM A 15MM",
            "5MM A 10MM",
            "1MM A 5MM",
            "10MM A 15MM",
            "5MM A 10MM",
            "15MM A 20MM",
            "10MM A 15MM",
            "5MM A 10MM",
            "5MM A 10MM",
            "1MM A 5MM",
            "10MM A 15MM",
            "5MM A 10MM",
            "1MM A 5MM",
            "15MM A 20MM",
            "10MM A 15MM",
            "15MM A 20MM",
            "10MM A 15MM",
            "10MM A 15MM",
            "5MM A 10MM",
            "15MM A 20MM",
            "10MM A 15MM",
            "10MM A 15MM",
            "10MM A 15MM",
            "5MM A 10MM",
            "1MM A 5MM",
            "10MM A 15MM",
            "10MM A 15MM",
            "10MM A 15MM",
            "10MM A 15MM",
            "15MM A 20MM"
           ]
          }
         ],
         "hovertemplate": "%{xaxis.title.text}=%{x}<br>%{yaxis.title.text}=%{y}<extra></extra>",
         "legendgroup": "",
         "marker": {
          "color": "#636efa",
          "symbol": "circle"
         },
         "name": "",
         "showlegend": false,
         "type": "splom"
        }
       ],
       "layout": {
        "dragmode": "select",
        "legend": {
         "tracegroupgap": 0
        },
        "margin": {
         "t": 60
        },
        "template": {
         "data": {
          "bar": [
           {
            "error_x": {
             "color": "#2a3f5f"
            },
            "error_y": {
             "color": "#2a3f5f"
            },
            "marker": {
             "line": {
              "color": "#E5ECF6",
              "width": 0.5
             },
             "pattern": {
              "fillmode": "overlay",
              "size": 10,
              "solidity": 0.2
             }
            },
            "type": "bar"
           }
          ],
          "barpolar": [
           {
            "marker": {
             "line": {
              "color": "#E5ECF6",
              "width": 0.5
             },
             "pattern": {
              "fillmode": "overlay",
              "size": 10,
              "solidity": 0.2
             }
            },
            "type": "barpolar"
           }
          ],
          "carpet": [
           {
            "aaxis": {
             "endlinecolor": "#2a3f5f",
             "gridcolor": "white",
             "linecolor": "white",
             "minorgridcolor": "white",
             "startlinecolor": "#2a3f5f"
            },
            "baxis": {
             "endlinecolor": "#2a3f5f",
             "gridcolor": "white",
             "linecolor": "white",
             "minorgridcolor": "white",
             "startlinecolor": "#2a3f5f"
            },
            "type": "carpet"
           }
          ],
          "choropleth": [
           {
            "colorbar": {
             "outlinewidth": 0,
             "ticks": ""
            },
            "type": "choropleth"
           }
          ],
          "contour": [
           {
            "colorbar": {
             "outlinewidth": 0,
             "ticks": ""
            },
            "colorscale": [
             [
              0,
              "#0d0887"
             ],
             [
              0.1111111111111111,
              "#46039f"
             ],
             [
              0.2222222222222222,
              "#7201a8"
             ],
             [
              0.3333333333333333,
              "#9c179e"
             ],
             [
              0.4444444444444444,
              "#bd3786"
             ],
             [
              0.5555555555555556,
              "#d8576b"
             ],
             [
              0.6666666666666666,
              "#ed7953"
             ],
             [
              0.7777777777777778,
              "#fb9f3a"
             ],
             [
              0.8888888888888888,
              "#fdca26"
             ],
             [
              1,
              "#f0f921"
             ]
            ],
            "type": "contour"
           }
          ],
          "contourcarpet": [
           {
            "colorbar": {
             "outlinewidth": 0,
             "ticks": ""
            },
            "type": "contourcarpet"
           }
          ],
          "heatmap": [
           {
            "colorbar": {
             "outlinewidth": 0,
             "ticks": ""
            },
            "colorscale": [
             [
              0,
              "#0d0887"
             ],
             [
              0.1111111111111111,
              "#46039f"
             ],
             [
              0.2222222222222222,
              "#7201a8"
             ],
             [
              0.3333333333333333,
              "#9c179e"
             ],
             [
              0.4444444444444444,
              "#bd3786"
             ],
             [
              0.5555555555555556,
              "#d8576b"
             ],
             [
              0.6666666666666666,
              "#ed7953"
             ],
             [
              0.7777777777777778,
              "#fb9f3a"
             ],
             [
              0.8888888888888888,
              "#fdca26"
             ],
             [
              1,
              "#f0f921"
             ]
            ],
            "type": "heatmap"
           }
          ],
          "heatmapgl": [
           {
            "colorbar": {
             "outlinewidth": 0,
             "ticks": ""
            },
            "colorscale": [
             [
              0,
              "#0d0887"
             ],
             [
              0.1111111111111111,
              "#46039f"
             ],
             [
              0.2222222222222222,
              "#7201a8"
             ],
             [
              0.3333333333333333,
              "#9c179e"
             ],
             [
              0.4444444444444444,
              "#bd3786"
             ],
             [
              0.5555555555555556,
              "#d8576b"
             ],
             [
              0.6666666666666666,
              "#ed7953"
             ],
             [
              0.7777777777777778,
              "#fb9f3a"
             ],
             [
              0.8888888888888888,
              "#fdca26"
             ],
             [
              1,
              "#f0f921"
             ]
            ],
            "type": "heatmapgl"
           }
          ],
          "histogram": [
           {
            "marker": {
             "pattern": {
              "fillmode": "overlay",
              "size": 10,
              "solidity": 0.2
             }
            },
            "type": "histogram"
           }
          ],
          "histogram2d": [
           {
            "colorbar": {
             "outlinewidth": 0,
             "ticks": ""
            },
            "colorscale": [
             [
              0,
              "#0d0887"
             ],
             [
              0.1111111111111111,
              "#46039f"
             ],
             [
              0.2222222222222222,
              "#7201a8"
             ],
             [
              0.3333333333333333,
              "#9c179e"
             ],
             [
              0.4444444444444444,
              "#bd3786"
             ],
             [
              0.5555555555555556,
              "#d8576b"
             ],
             [
              0.6666666666666666,
              "#ed7953"
             ],
             [
              0.7777777777777778,
              "#fb9f3a"
             ],
             [
              0.8888888888888888,
              "#fdca26"
             ],
             [
              1,
              "#f0f921"
             ]
            ],
            "type": "histogram2d"
           }
          ],
          "histogram2dcontour": [
           {
            "colorbar": {
             "outlinewidth": 0,
             "ticks": ""
            },
            "colorscale": [
             [
              0,
              "#0d0887"
             ],
             [
              0.1111111111111111,
              "#46039f"
             ],
             [
              0.2222222222222222,
              "#7201a8"
             ],
             [
              0.3333333333333333,
              "#9c179e"
             ],
             [
              0.4444444444444444,
              "#bd3786"
             ],
             [
              0.5555555555555556,
              "#d8576b"
             ],
             [
              0.6666666666666666,
              "#ed7953"
             ],
             [
              0.7777777777777778,
              "#fb9f3a"
             ],
             [
              0.8888888888888888,
              "#fdca26"
             ],
             [
              1,
              "#f0f921"
             ]
            ],
            "type": "histogram2dcontour"
           }
          ],
          "mesh3d": [
           {
            "colorbar": {
             "outlinewidth": 0,
             "ticks": ""
            },
            "type": "mesh3d"
           }
          ],
          "parcoords": [
           {
            "line": {
             "colorbar": {
              "outlinewidth": 0,
              "ticks": ""
             }
            },
            "type": "parcoords"
           }
          ],
          "pie": [
           {
            "automargin": true,
            "type": "pie"
           }
          ],
          "scatter": [
           {
            "fillpattern": {
             "fillmode": "overlay",
             "size": 10,
             "solidity": 0.2
            },
            "type": "scatter"
           }
          ],
          "scatter3d": [
           {
            "line": {
             "colorbar": {
              "outlinewidth": 0,
              "ticks": ""
             }
            },
            "marker": {
             "colorbar": {
              "outlinewidth": 0,
              "ticks": ""
             }
            },
            "type": "scatter3d"
           }
          ],
          "scattercarpet": [
           {
            "marker": {
             "colorbar": {
              "outlinewidth": 0,
              "ticks": ""
             }
            },
            "type": "scattercarpet"
           }
          ],
          "scattergeo": [
           {
            "marker": {
             "colorbar": {
              "outlinewidth": 0,
              "ticks": ""
             }
            },
            "type": "scattergeo"
           }
          ],
          "scattergl": [
           {
            "marker": {
             "colorbar": {
              "outlinewidth": 0,
              "ticks": ""
             }
            },
            "type": "scattergl"
           }
          ],
          "scattermapbox": [
           {
            "marker": {
             "colorbar": {
              "outlinewidth": 0,
              "ticks": ""
             }
            },
            "type": "scattermapbox"
           }
          ],
          "scatterpolar": [
           {
            "marker": {
             "colorbar": {
              "outlinewidth": 0,
              "ticks": ""
             }
            },
            "type": "scatterpolar"
           }
          ],
          "scatterpolargl": [
           {
            "marker": {
             "colorbar": {
              "outlinewidth": 0,
              "ticks": ""
             }
            },
            "type": "scatterpolargl"
           }
          ],
          "scatterternary": [
           {
            "marker": {
             "colorbar": {
              "outlinewidth": 0,
              "ticks": ""
             }
            },
            "type": "scatterternary"
           }
          ],
          "surface": [
           {
            "colorbar": {
             "outlinewidth": 0,
             "ticks": ""
            },
            "colorscale": [
             [
              0,
              "#0d0887"
             ],
             [
              0.1111111111111111,
              "#46039f"
             ],
             [
              0.2222222222222222,
              "#7201a8"
             ],
             [
              0.3333333333333333,
              "#9c179e"
             ],
             [
              0.4444444444444444,
              "#bd3786"
             ],
             [
              0.5555555555555556,
              "#d8576b"
             ],
             [
              0.6666666666666666,
              "#ed7953"
             ],
             [
              0.7777777777777778,
              "#fb9f3a"
             ],
             [
              0.8888888888888888,
              "#fdca26"
             ],
             [
              1,
              "#f0f921"
             ]
            ],
            "type": "surface"
           }
          ],
          "table": [
           {
            "cells": {
             "fill": {
              "color": "#EBF0F8"
             },
             "line": {
              "color": "white"
             }
            },
            "header": {
             "fill": {
              "color": "#C8D4E3"
             },
             "line": {
              "color": "white"
             }
            },
            "type": "table"
           }
          ]
         },
         "layout": {
          "annotationdefaults": {
           "arrowcolor": "#2a3f5f",
           "arrowhead": 0,
           "arrowwidth": 1
          },
          "autotypenumbers": "strict",
          "coloraxis": {
           "colorbar": {
            "outlinewidth": 0,
            "ticks": ""
           }
          },
          "colorscale": {
           "diverging": [
            [
             0,
             "#8e0152"
            ],
            [
             0.1,
             "#c51b7d"
            ],
            [
             0.2,
             "#de77ae"
            ],
            [
             0.3,
             "#f1b6da"
            ],
            [
             0.4,
             "#fde0ef"
            ],
            [
             0.5,
             "#f7f7f7"
            ],
            [
             0.6,
             "#e6f5d0"
            ],
            [
             0.7,
             "#b8e186"
            ],
            [
             0.8,
             "#7fbc41"
            ],
            [
             0.9,
             "#4d9221"
            ],
            [
             1,
             "#276419"
            ]
           ],
           "sequential": [
            [
             0,
             "#0d0887"
            ],
            [
             0.1111111111111111,
             "#46039f"
            ],
            [
             0.2222222222222222,
             "#7201a8"
            ],
            [
             0.3333333333333333,
             "#9c179e"
            ],
            [
             0.4444444444444444,
             "#bd3786"
            ],
            [
             0.5555555555555556,
             "#d8576b"
            ],
            [
             0.6666666666666666,
             "#ed7953"
            ],
            [
             0.7777777777777778,
             "#fb9f3a"
            ],
            [
             0.8888888888888888,
             "#fdca26"
            ],
            [
             1,
             "#f0f921"
            ]
           ],
           "sequentialminus": [
            [
             0,
             "#0d0887"
            ],
            [
             0.1111111111111111,
             "#46039f"
            ],
            [
             0.2222222222222222,
             "#7201a8"
            ],
            [
             0.3333333333333333,
             "#9c179e"
            ],
            [
             0.4444444444444444,
             "#bd3786"
            ],
            [
             0.5555555555555556,
             "#d8576b"
            ],
            [
             0.6666666666666666,
             "#ed7953"
            ],
            [
             0.7777777777777778,
             "#fb9f3a"
            ],
            [
             0.8888888888888888,
             "#fdca26"
            ],
            [
             1,
             "#f0f921"
            ]
           ]
          },
          "colorway": [
           "#636efa",
           "#EF553B",
           "#00cc96",
           "#ab63fa",
           "#FFA15A",
           "#19d3f3",
           "#FF6692",
           "#B6E880",
           "#FF97FF",
           "#FECB52"
          ],
          "font": {
           "color": "#2a3f5f"
          },
          "geo": {
           "bgcolor": "white",
           "lakecolor": "white",
           "landcolor": "#E5ECF6",
           "showlakes": true,
           "showland": true,
           "subunitcolor": "white"
          },
          "hoverlabel": {
           "align": "left"
          },
          "hovermode": "closest",
          "mapbox": {
           "style": "light"
          },
          "paper_bgcolor": "white",
          "plot_bgcolor": "#E5ECF6",
          "polar": {
           "angularaxis": {
            "gridcolor": "white",
            "linecolor": "white",
            "ticks": ""
           },
           "bgcolor": "#E5ECF6",
           "radialaxis": {
            "gridcolor": "white",
            "linecolor": "white",
            "ticks": ""
           }
          },
          "scene": {
           "xaxis": {
            "backgroundcolor": "#E5ECF6",
            "gridcolor": "white",
            "gridwidth": 2,
            "linecolor": "white",
            "showbackground": true,
            "ticks": "",
            "zerolinecolor": "white"
           },
           "yaxis": {
            "backgroundcolor": "#E5ECF6",
            "gridcolor": "white",
            "gridwidth": 2,
            "linecolor": "white",
            "showbackground": true,
            "ticks": "",
            "zerolinecolor": "white"
           },
           "zaxis": {
            "backgroundcolor": "#E5ECF6",
            "gridcolor": "white",
            "gridwidth": 2,
            "linecolor": "white",
            "showbackground": true,
            "ticks": "",
            "zerolinecolor": "white"
           }
          },
          "shapedefaults": {
           "line": {
            "color": "#2a3f5f"
           }
          },
          "ternary": {
           "aaxis": {
            "gridcolor": "white",
            "linecolor": "white",
            "ticks": ""
           },
           "baxis": {
            "gridcolor": "white",
            "linecolor": "white",
            "ticks": ""
           },
           "bgcolor": "#E5ECF6",
           "caxis": {
            "gridcolor": "white",
            "linecolor": "white",
            "ticks": ""
           }
          },
          "title": {
           "x": 0.05
          },
          "xaxis": {
           "automargin": true,
           "gridcolor": "white",
           "linecolor": "white",
           "ticks": "",
           "title": {
            "standoff": 15
           },
           "zerolinecolor": "white",
           "zerolinewidth": 2
          },
          "yaxis": {
           "automargin": true,
           "gridcolor": "white",
           "linecolor": "white",
           "ticks": "",
           "title": {
            "standoff": 15
           },
           "zerolinecolor": "white",
           "zerolinewidth": 2
          }
         }
        }
       }
      },
      "text/html": [
       "<div>                            <div id=\"a5df673c-308a-4bdb-9b17-fc07c2261310\" class=\"plotly-graph-div\" style=\"height:525px; width:100%;\"></div>            <script type=\"text/javascript\">                require([\"plotly\"], function(Plotly) {                    window.PLOTLYENV=window.PLOTLYENV || {};                                    if (document.getElementById(\"a5df673c-308a-4bdb-9b17-fc07c2261310\")) {                    Plotly.newPlot(                        \"a5df673c-308a-4bdb-9b17-fc07c2261310\",                        [{\"dimensions\":[{\"axis\":{\"matches\":true},\"label\":\"Designation\",\"values\":[\"Data Scientist\",\"Machine Learning Scientist\",\"Big Data Engineer\",\"Product Data Analyst\",\"Machine Learning Engineer\",\"Data Analyst\",\"Lead Data Scientist\",\"Data Scientist\",\"Business Data Analyst\",\"Lead Data Engineer\",\"Data Scientist\",\"Data Scientist\",\"Data Scientist\",\"Lead Data Analyst\",\"Data Analyst\",\"Data Analyst\",\"Data Engineer\",\"Big Data Engineer\",\"Data Science Consultant\",\"Lead Data Engineer\",\"Machine Learning Engineer\",\"Product Data Analyst\",\"Data Engineer\",\"BI Data Analyst\",\"Lead Data Scientist\",\"Director of Data Science\",\"Research Scientist\",\"Data Engineer\",\"Business Data Analyst\",\"Machine Learning Manager\",\"Data Engineering Manager\",\"Big Data Engineer\",\"Data Scientist\",\"Research Scientist\",\"Data Analyst\",\"Data Engineer\",\"Data Science Consultant\",\"Machine Learning Engineer\",\"Data Analyst\",\"Machine Learning Engineer\",\"Data Scientist\",\"Data Engineering Manager\",\"Machine Learning Infrastructure Engineer\",\"Data Engineer\",\"Data Engineer\",\"ML Engineer\",\"Data Scientist\",\"Data Engineer\",\"Data Scientist\",\"Data Engineer\",\"Data Analyst\",\"Data Analyst\",\"AI Scientist\",\"Data Engineer\",\"Computer Vision Engineer\",\"Principal Data Scientist\",\"Data Scientist\",\"Data Scientist\",\"Data Scientist\",\"Data Scientist\",\"Data Engineer\",\"Data Engineer\",\"Data Scientist\",\"Data Scientist\",\"Machine Learning Engineer\",\"Data Scientist\",\"Data Scientist\",\"Data Science Manager\",\"Data Scientist\",\"Data Scientist\",\"Data Scientist\",\"Data Scientist\",\"Research Scientist\",\"BI Data Analyst\",\"Head of Data\",\"Data Scientist\",\"BI Data Analyst\",\"3D Computer Vision Researcher\",\"ML Engineer\",\"Data Analyst\",\"Data Analytics Engineer\",\"Data Engineer\",\"Applied Data Scientist\",\"Machine Learning Engineer\",\"Director of Data Science\",\"Data Engineer\",\"Data Analyst\",\"Data Analytics Engineer\",\"Lead Data Analyst\",\"Data Analyst\",\"Marketing Data Analyst\",\"Data Science Consultant\",\"Lead Data Analyst\",\"Lead Data Engineer\",\"Data Scientist\",\"Cloud Data Engineer\",\"AI Scientist\",\"Financial Data Analyst\",\"Computer Vision Software Engineer\",\"Computer Vision Software Engineer\",\"Data Analyst\",\"Data Engineer\",\"BI Data Analyst\",\"Data Analyst\",\"Data Scientist\",\"Data Analyst\",\"Research Scientist\",\"Data Engineer\",\"Data Engineer\",\"Data Engineer\",\"Machine Learning Engineer\",\"Director of Data Engineering\",\"Lead Data Engineer\",\"AI Scientist\",\"Data Engineer\",\"Machine Learning Scientist\",\"Data Scientist\",\"Data Science Engineer\",\"Data Analyst\",\"Data Engineer\",\"Big Data Engineer\",\"Principal Data Engineer\",\"Data Analyst\",\"Applied Data Scientist\",\"Data Analyst\",\"Principal Data Scientist\",\"Machine Learning Scientist\",\"Data Scientist\",\"Machine Learning Engineer\",\"Lead Data Scientist\",\"Machine Learning Developer\",\"Data Scientist\",\"Applied Machine Learning Scientist\",\"Computer Vision Engineer\",\"Data Scientist\",\"Data Analyst\",\"ML Engineer\",\"ML Engineer\",\"Principal Data Scientist\",\"Data Scientist\",\"Data Analyst\",\"Data Science Manager\",\"Data Engineering Manager\",\"Data Scientist\",\"Data Engineer\",\"Machine Learning Engineer\",\"Research Scientist\",\"Data Engineer\",\"Data Engineering Manager\",\"Cloud Data Engineer\",\"Director of Data Science\",\"Data Scientist\",\"Data Scientist\",\"Data Scientist\",\"Data Science Manager\",\"Data Science Engineer\",\"Data Scientist\",\"Applied Machine Learning Scientist\",\"Data Analytics Manager\",\"Machine Learning Engineer\",\"Head of Data\",\"Head of Data Science\",\"Data Engineer\",\"Data Science Consultant\",\"Director of Data Science\",\"Data Specialist\",\"Data Engineer\",\"Director of Data Science\",\"BI Data Analyst\",\"Data Architect\",\"Data Architect\",\"Data Engineer\",\"Data Analyst\",\"Principal Data Scientist\",\"Research Scientist\",\"Data Engineering Manager\",\"Data Scientist\",\"Data Scientist\",\"Machine Learning Engineer\",\"Data Scientist\",\"Big Data Engineer\",\"Data Scientist\",\"Data Engineer\",\"Finance Data Analyst\",\"Machine Learning Scientist\",\"Data Engineer\",\"Data Analytics Engineer\",\"Data Science Consultant\",\"Data Engineer\",\"Machine Learning Engineer\",\"Data Science Manager\",\"Machine Learning Engineer\",\"Big Data Engineer\",\"Data Science Manager\",\"Research Scientist\",\"Data Scientist\",\"BI Data Analyst\",\"Machine Learning Engineer\",\"Data Science Manager\",\"Data Science Consultant\",\"Data Scientist\",\"Machine Learning Infrastructure Engineer\",\"Data Scientist\",\"Research Scientist\",\"Data Scientist\",\"Data Scientist\",\"Machine Learning Engineer\",\"Data Engineer\",\"Data Engineer\",\"Data Analytics Manager\",\"Machine Learning Engineer\",\"Research Scientist\",\"Data Engineer\",\"Big Data Engineer\",\"Machine Learning Engineer\",\"Principal Data Engineer\",\"Computer Vision Engineer\",\"Data Scientist\",\"Machine Learning Engineer\",\"Data Analytics Manager\",\"Machine Learning Engineer\",\"Data Scientist\",\"Data Scientist\",\"Data Scientist\",\"Machine Learning Scientist\",\"Principal Data Scientist\",\"Data Scientist\",\"Data Scientist\",\"Data Scientist\",\"Data Analyst\",\"Big Data Engineer\",\"ML Engineer\",\"Director of Data Engineering\",\"Data Analyst\",\"Data Architect\",\"Head of Data Science\",\"Research Scientist\",\"Data Scientist\",\"Data Scientist\",\"Data Engineer\",\"Data Scientist\",\"Data Analyst\",\"Data Engineer\",\"Data Scientist\",\"AI Scientist\",\"Data Engineer\",\"Data Scientist\",\"Data Engineer\",\"Data Engineer\",\"Principal Data Analyst\",\"Data Scientist\",\"Data Scientist\",\"Principal Data Engineer\",\"Data Scientist\",\"Data Analyst\",\"Big Data Architect\",\"Data Engineer\",\"Principal Data Scientist\",\"Machine Learning Engineer\",\"Director of Data Science\",\"Data Scientist\",\"Data Analyst\",\"Data Scientist\",\"Machine Learning Engineer\",\"Data Scientist\",\"Lead Data Engineer\",\"Data Engineer\",\"Data Engineer\",\"Data Engineer\",\"Data Engineer\",\"Data Engineer\",\"Computer Vision Engineer\",\"Data Science Consultant\",\"Machine Learning Engineer\",\"Data Scientist\",\"Data Scientist\",\"Data Scientist\",\"AI Scientist\",\"Data Scientist\",\"Business Data Analyst\",\"Data Engineer\",\"Research Scientist\",\"Data Engineer\",\"Staff Data Scientist\",\"Research Scientist\",\"Data Science Manager\",\"Head of Data\",\"Data Scientist\",\"Machine Learning Engineer\",\"Data Engineer\",\"Data Analyst\",\"Data Analyst\",\"Data Scientist\",\"Data Scientist\",\"Data Engineer\",\"Data Engineer\",\"Data Analyst\",\"Data Analyst\",\"Data Scientist\",\"Data Scientist\",\"Data Scientist\",\"Data Scientist\",\"Data Scientist\",\"Data Scientist\",\"Data Engineer\",\"Data Analyst\",\"Data Analyst\",\"Data Analyst\",\"Data Analyst\",\"Data Engineer\",\"Data Engineer\",\"Data Scientist\",\"Data Scientist\",\"Data Engineer\",\"Data Engineer\",\"Data Scientist\",\"Data Engineer\",\"Data Scientist\",\"Data Analyst\",\"Data Engineer\",\"Data Engineer\",\"Data Engineer\",\"Data Engineer\",\"Data Scientist\",\"Data Scientist\",\"Data Analyst\",\"Data Analyst\",\"Data Analyst\",\"Data Analyst\",\"Data Analyst\",\"Data Analyst\",\"Data Analyst\",\"Data Analyst\",\"Data Analyst\",\"Data Engineer\",\"Data Engineer\",\"Data Analyst\",\"Data Engineer\",\"Data Analyst\",\"Data Analyst\",\"Data Engineer\",\"Data Engineer\",\"Head of Data Science\",\"Head of Data Science\",\"Analytics Engineer\",\"Data Engineer\",\"Data Engineer\",\"Data Scientist\",\"Data Engineer\",\"Data Analyst\",\"Data Science Manager\",\"Data Science Manager\",\"Data Scientist\",\"Data Scientist\",\"Data Engineer\",\"Data Engineer\",\"Data Scientist\",\"Data Scientist\",\"Data Architect\",\"Data Architect\",\"Data Analyst\",\"Data Analyst\",\"Data Analyst\",\"Data Analyst\",\"Data Engineer\",\"Data Scientist\",\"Data Engineer\",\"Data Analyst\",\"Analytics Engineer\",\"Data Scientist\",\"Data Scientist\",\"Machine Learning Engineer\",\"Machine Learning Engineer\",\"ETL Developer\",\"ETL Developer\",\"Lead Data Engineer\",\"Data Analyst\",\"Data Engineer\",\"Data Architect\",\"Data Architect\",\"Data Engineer\",\"Data Engineer\",\"Data Analyst\",\"Data Analyst\",\"Head of Machine Learning\",\"Data Engineer\",\"Machine Learning Engineer\",\"Data Analyst\",\"Data Engineer\",\"Machine Learning Engineer\",\"Machine Learning Engineer\",\"AI Scientist\",\"Data Analyst\",\"Data Analyst\",\"Data Analytics Manager\",\"Data Analytics Manager\",\"Machine Learning Engineer\",\"Data Engineer\",\"Data Scientist\",\"Data Scientist\",\"Data Engineer\",\"Data Engineer\",\"Data Analyst\",\"Data Analyst\",\"Data Engineer\",\"Data Engineer\",\"Data Analyst\",\"Data Engineer\",\"Data Analyst\",\"Data Scientist\",\"Data Scientist\",\"Data Scientist\",\"Data Engineer\",\"Data Engineer\",\"Data Engineer\",\"Data Engineer\",\"Data Scientist\",\"Data Science Engineer\",\"Data Engineer\",\"Machine Learning Scientist\",\"Machine Learning Scientist\",\"Data Science Manager\",\"Data Science Manager\",\"Data Scientist\",\"Data Scientist\",\"Data Engineer\",\"Data Engineer\",\"Data Engineer\",\"Data Scientist\",\"Data Analyst\",\"Data Analyst\",\"Data Analyst\",\"Data Engineer\",\"Data Engineer\",\"Data Engineer\",\"Data Engineer\",\"Data Engineer\",\"Data Engineer\",\"Machine Learning Engineer\",\"Machine Learning Engineer\",\"Data Analyst\",\"Data Analyst\",\"Data Engineer\",\"Data Engineer\",\"Data Scientist\",\"Data Engineer\",\"Data Engineer\",\"Data Engineer\",\"Data Engineer\",\"ML Engineer\",\"Data Engineer\",\"Machine Learning Developer\",\"Director of Data Science\",\"Machine Learning Engineer\",\"Computer Vision Engineer\",\"NLP Engineer\",\"Data Engineer\",\"Lead Machine Learning Engineer\",\"Business Data Analyst\",\"Data Scientist\",\"Machine Learning Infrastructure Engineer\",\"Financial Data Analyst\",\"Data Engineer\",\"Data Scientist\",\"Principal Data Scientist\",\"Data Engineer\",\"Research Scientist\",\"Data Scientist\",\"Data Engineer\",\"Data Scientist\",\"Data Analyst\",\"Data Analyst\",\"Data Scientist\",\"Data Scientist\",\"Data Scientist\",\"Data Scientist\",\"Data Scientist\",\"Machine Learning Engineer\",\"Data Scientist\",\"Data Scientist\",\"Machine Learning Engineer\",\"Machine Learning Engineer\",\"Data Engineer\",\"Data Engineer\",\"Data Engineer\",\"Machine Learning Engineer\",\"Data Scientist\",\"Data Scientist\",\"Data Scientist\",\"Applied Machine Learning Scientist\",\"Head of Data\",\"Principal Data Analyst\",\"Data Scientist\",\"Machine Learning Developer\",\"Data Scientist\",\"Machine Learning Scientist\",\"Data Engineer\",\"Data Scientist\",\"Research Scientist\",\"Data Scientist\",\"Machine Learning Engineer\",\"Head of Data\",\"Data Scientist\",\"Machine Learning Engineer\",\"Data Engineer\",\"Data Scientist\",\"Applied Machine Learning Scientist\",\"Research Scientist\",\"Research Scientist\",\"Applied Data Scientist\",\"Computer Vision Software Engineer\",\"Business Data Analyst\",\"Data Engineer\",\"Machine Learning Engineer\",\"Data Analytics Engineer\",\"Data Scientist\",\"Data Science Manager\",\"Data Engineer\",\"Data Scientist\",\"Applied Data Scientist\",\"Data Scientist\",\"Computer Vision Engineer\",\"Data Analyst\",\"Data Analytics Lead\",\"Data Scientist\",\"Applied Data Scientist\",\"Data Scientist\",\"Data Analyst\",\"Data Analyst\",\"Data Analyst\",\"Data Analyst\",\"Data Analyst\",\"Machine Learning Engineer\",\"Machine Learning Engineer\",\"Data Architect\",\"Data Architect\",\"Data Analyst\",\"Data Engineer\",\"Data Scientist\",\"Data Scientist\",\"Data Analyst\",\"Data Analyst\",\"Data Engineer\",\"Data Engineer\",\"Data Engineer\",\"Data Engineer\",\"Data Engineer\",\"Data Engineer\",\"Data Analyst\",\"Data Engineer\",\"Data Scientist\",\"Data Scientist\",\"Data Scientist\",\"Data Scientist\",\"Data Engineer\",\"Data Engineer\",\"Data Engineer\",\"Data Engineer\",\"Data Scientist\",\"Data Scientist\",\"Analytics Engineer\",\"Analytics Engineer\",\"Data Engineer\",\"Data Engineer\",\"Data Analyst\",\"Data Engineer\",\"Data Analyst\",\"Data Analyst\",\"Data Analyst\",\"Data Scientist\",\"Data Scientist\",\"Data Scientist\",\"Data Analyst\",\"Data Analyst\",\"Data Scientist\",\"Data Scientist\",\"Data Scientist\",\"Data Analyst\",\"Data Engineer\",\"Data Engineer\",\"Data Analyst\",\"Data Analyst\",\"Data Engineer\",\"Data Engineer\",\"Data Analyst\",\"Data Analyst\",\"Data Analyst\",\"Data Scientist\",\"Data Analyst\",\"Data Analyst\",\"Data Architect\",\"Data Architect\",\"Data Scientist\",\"Data Scientist\",\"Data Analytics Manager\",\"Data Analytics Manager\",\"Data Scientist\",\"Data Analyst\",\"Data Scientist\",\"Data Scientist\",\"Data Analyst\",\"Data Analyst\",\"Data Engineer\",\"Data Engineer\",\"Data Analyst\",\"Data Analyst\",\"AI Scientist\"]},{\"axis\":{\"matches\":true},\"label\":\"Salary_In_Rupees\",\"values\":[\"5MM A 10MM\",\"20MM A 26MM\",\"5MM A 10MM\",\"1MM A 5MM\",\"10MM A 15MM\",\"5MM A 10MM\",\"15MM A 20MM\",\"1MM A 5MM\",\"10MM A 15MM\",\"5MM A 10MM\",\"1MM A 5MM\",\"1MM A 5MM\",\"1MM A 5MM\",\"5MM A 10MM\",\"5MM A 10MM\",\"1MM A 5MM\",\"1MM A 5MM\",\"5MM A 10MM\",\"1MM A 5MM\",\"1MM A 5MM\",\"1MM A 5MM\",\"1MM A 5MM\",\"1MM A 5MM\",\"5MM A 10MM\",\"5MM A 10MM\",\"20MM A 26MM\",\"1MM A 5MM\",\"1MM A 5MM\",\"5MM A 10MM\",\"5MM A 10MM\",\"1MM A 5MM\",\"5MM A 10MM\",\"5MM A 10MM\",\"ACIMA DE 26MM\",\"1MM A 5MM\",\"5MM A 10MM\",\"5MM A 10MM\",\"15MM A 20MM\",\"1MM A 5MM\",\"10MM A 15MM\",\"1MM A 5MM\",\"5MM A 10MM\",\"1MM A 5MM\",\"5MM A 10MM\",\"5MM A 10MM\",\"1MM A 5MM\",\"5MM A 10MM\",\"10MM A 15MM\",\"5MM A 10MM\",\"5MM A 10MM\",\"1MM A 5MM\",\"5MM A 10MM\",\"1MM A 5MM\",\"1MM A 5MM\",\"1MM A 5MM\",\"10MM A 15MM\",\"1MM A 5MM\",\"5MM A 10MM\",\"5MM A 10MM\",\"10MM A 15MM\",\"5MM A 10MM\",\"10MM A 15MM\",\"1MM A 5MM\",\"ACIMA DE 26MM\",\"1MM A 5MM\",\"1MM A 5MM\",\"1MM A 5MM\",\"15MM A 20MM\",\"5MM A 10MM\",\"5MM A 10MM\",\"1MM A 5MM\",\"1MM A 5MM\",\"5MM A 10MM\",\"10MM A 15MM\",\"15MM A 20MM\",\"1MM A 5MM\",\"5MM A 10MM\",\"1MM A 5MM\",\"20MM A 26MM\",\"5MM A 10MM\",\"5MM A 10MM\",\"10MM A 15MM\",\"1MM A 5MM\",\"1MM A 5MM\",\"10MM A 15MM\",\"1MM A 5MM\",\"1MM A 5MM\",\"5MM A 10MM\",\"10MM A 15MM\",\"5MM A 10MM\",\"5MM A 10MM\",\"5MM A 10MM\",\"1MM A 5MM\",\"20MM A 26MM\",\"1MM A 5MM\",\"5MM A 10MM\",\"1MM A 5MM\",\"ACIMA DE 26MM\",\"5MM A 10MM\",\"5MM A 10MM\",\"5MM A 10MM\",\"10MM A 15MM\",\"1MM A 5MM\",\"1MM A 5MM\",\"5MM A 10MM\",\"1MM A 5MM\",\"10MM A 15MM\",\"5MM A 10MM\",\"10MM A 15MM\",\"1MM A 5MM\",\"5MM A 10MM\",\"5MM A 10MM\",\"5MM A 10MM\",\"1MM A 5MM\",\"1MM A 5MM\",\"15MM A 20MM\",\"1MM A 5MM\",\"1MM A 5MM\",\"5MM A 10MM\",\"15MM A 20MM\",\"1MM A 5MM\",\"15MM A 20MM\",\"1MM A 5MM\",\"5MM A 10MM\",\"1MM A 5MM\",\"10MM A 15MM\",\"5MM A 10MM\",\"1MM A 5MM\",\"1MM A 5MM\",\"1MM A 5MM\",\"5MM A 10MM\",\"1MM A 5MM\",\"1MM A 5MM\",\"1MM A 5MM\",\"5MM A 10MM\",\"5MM A 10MM\",\"5MM A 10MM\",\"5MM A 10MM\",\"15MM A 20MM\",\"5MM A 10MM\",\"10MM A 15MM\",\"15MM A 20MM\",\"10MM A 15MM\",\"5MM A 10MM\",\"5MM A 10MM\",\"5MM A 10MM\",\"1MM A 5MM\",\"5MM A 10MM\",\"10MM A 15MM\",\"10MM A 15MM\",\"10MM A 15MM\",\"10MM A 15MM\",\"5MM A 10MM\",\"1MM A 5MM\",\"10MM A 15MM\",\"10MM A 15MM\",\"5MM A 10MM\",\"ACIMA DE 26MM\",\"5MM A 10MM\",\"5MM A 10MM\",\"15MM A 20MM\",\"5MM A 10MM\",\"1MM A 5MM\",\"5MM A 10MM\",\"10MM A 15MM\",\"10MM A 15MM\",\"5MM A 10MM\",\"15MM A 20MM\",\"1MM A 5MM\",\"10MM A 15MM\",\"10MM A 15MM\",\"5MM A 10MM\",\"1MM A 5MM\",\"15MM A 20MM\",\"1MM A 5MM\",\"10MM A 15MM\",\"1MM A 5MM\",\"1MM A 5MM\",\"5MM A 10MM\",\"1MM A 5MM\",\"1MM A 5MM\",\"5MM A 10MM\",\"1MM A 5MM\",\"1MM A 5MM\",\"1MM A 5MM\",\"1MM A 5MM\",\"1MM A 5MM\",\"5MM A 10MM\",\"5MM A 10MM\",\"5MM A 10MM\",\"10MM A 15MM\",\"1MM A 5MM\",\"1MM A 5MM\",\"10MM A 15MM\",\"5MM A 10MM\",\"10MM A 15MM\",\"1MM A 5MM\",\"1MM A 5MM\",\"1MM A 5MM\",\"5MM A 10MM\",\"1MM A 5MM\",\"15MM A 20MM\",\"1MM A 5MM\",\"1MM A 5MM\",\"10MM A 15MM\",\"1MM A 5MM\",\"15MM A 20MM\",\"10MM A 15MM\",\"1MM A 5MM\",\"5MM A 10MM\",\"1MM A 5MM\",\"1MM A 5MM\",\"5MM A 10MM\",\"1MM A 5MM\",\"1MM A 5MM\",\"10MM A 15MM\",\"1MM A 5MM\",\"5MM A 10MM\",\"5MM A 10MM\",\"10MM A 15MM\",\"1MM A 5MM\",\"5MM A 10MM\",\"1MM A 5MM\",\"1MM A 5MM\",\"15MM A 20MM\",\"ACIMA DE 26MM\",\"5MM A 10MM\",\"5MM A 10MM\",\"10MM A 15MM\",\"5MM A 10MM\",\"1MM A 5MM\",\"20MM A 26MM\",\"15MM A 20MM\",\"15MM A 20MM\",\"10MM A 15MM\",\"5MM A 10MM\",\"5MM A 10MM\",\"1MM A 5MM\",\"1MM A 5MM\",\"1MM A 5MM\",\"5MM A 10MM\",\"5MM A 10MM\",\"5MM A 10MM\",\"10MM A 15MM\",\"1MM A 5MM\",\"5MM A 10MM\",\"1MM A 5MM\",\"1MM A 5MM\",\"5MM A 10MM\",\"10MM A 15MM\",\"5MM A 10MM\",\"5MM A 10MM\",\"ACIMA DE 26MM\",\"1MM A 5MM\",\"5MM A 10MM\",\"5MM A 10MM\",\"15MM A 20MM\",\"10MM A 15MM\",\"10MM A 15MM\",\"10MM A 15MM\",\"10MM A 15MM\",\"5MM A 10MM\",\"1MM A 5MM\",\"5MM A 10MM\",\"1MM A 5MM\",\"10MM A 15MM\",\"5MM A 10MM\",\"5MM A 10MM\",\"1MM A 5MM\",\"5MM A 10MM\",\"5MM A 10MM\",\"1MM A 5MM\",\"5MM A 10MM\",\"5MM A 10MM\",\"5MM A 10MM\",\"5MM A 10MM\",\"1MM A 5MM\",\"1MM A 5MM\",\"1MM A 5MM\",\"1MM A 5MM\",\"5MM A 10MM\",\"5MM A 10MM\",\"5MM A 10MM\",\"5MM A 10MM\",\"5MM A 10MM\",\"5MM A 10MM\",\"5MM A 10MM\",\"5MM A 10MM\",\"1MM A 5MM\",\"10MM A 15MM\",\"10MM A 15MM\",\"5MM A 10MM\",\"10MM A 15MM\",\"5MM A 10MM\",\"10MM A 15MM\",\"10MM A 15MM\",\"5MM A 10MM\",\"5MM A 10MM\",\"10MM A 15MM\",\"5MM A 10MM\",\"5MM A 10MM\",\"5MM A 10MM\",\"10MM A 15MM\",\"5MM A 10MM\",\"1MM A 5MM\",\"5MM A 10MM\",\"5MM A 10MM\",\"5MM A 10MM\",\"10MM A 15MM\",\"15MM A 20MM\",\"15MM A 20MM\",\"5MM A 10MM\",\"1MM A 5MM\",\"5MM A 10MM\",\"1MM A 5MM\",\"10MM A 15MM\",\"1MM A 5MM\",\"5MM A 10MM\",\"5MM A 10MM\",\"10MM A 15MM\",\"10MM A 15MM\",\"15MM A 20MM\",\"10MM A 15MM\",\"10MM A 15MM\",\"5MM A 10MM\",\"5MM A 10MM\",\"10MM A 15MM\",\"5MM A 10MM\",\"10MM A 15MM\",\"5MM A 10MM\",\"5MM A 10MM\",\"5MM A 10MM\",\"5MM A 10MM\",\"5MM A 10MM\",\"10MM A 15MM\",\"10MM A 15MM\",\"10MM A 15MM\",\"15MM A 20MM\",\"10MM A 15MM\",\"5MM A 10MM\",\"10MM A 15MM\",\"5MM A 10MM\",\"15MM A 20MM\",\"10MM A 15MM\",\"10MM A 15MM\",\"10MM A 15MM\",\"5MM A 10MM\",\"5MM A 10MM\",\"5MM A 10MM\",\"10MM A 15MM\",\"10MM A 15MM\",\"10MM A 15MM\",\"10MM A 15MM\",\"5MM A 10MM\",\"5MM A 10MM\",\"5MM A 10MM\",\"10MM A 15MM\",\"15MM A 20MM\",\"15MM A 20MM\",\"5MM A 10MM\",\"10MM A 15MM\",\"1MM A 5MM\",\"10MM A 15MM\",\"1MM A 5MM\",\"10MM A 15MM\",\"10MM A 15MM\",\"10MM A 15MM\",\"1MM A 5MM\",\"10MM A 15MM\",\"10MM A 15MM\",\"5MM A 10MM\",\"15MM A 20MM\",\"10MM A 15MM\",\"1MM A 5MM\",\"1MM A 5MM\",\"5MM A 10MM\",\"10MM A 15MM\",\"10MM A 15MM\",\"15MM A 20MM\",\"10MM A 15MM\",\"10MM A 15MM\",\"5MM A 10MM\",\"10MM A 15MM\",\"5MM A 10MM\",\"5MM A 10MM\",\"10MM A 15MM\",\"1MM A 5MM\",\"10MM A 15MM\",\"10MM A 15MM\",\"5MM A 10MM\",\"5MM A 10MM\",\"5MM A 10MM\",\"5MM A 10MM\",\"5MM A 10MM\",\"10MM A 15MM\",\"5MM A 10MM\",\"5MM A 10MM\",\"5MM A 10MM\",\"15MM A 20MM\",\"10MM A 15MM\",\"15MM A 20MM\",\"10MM A 15MM\",\"5MM A 10MM\",\"5MM A 10MM\",\"10MM A 15MM\",\"5MM A 10MM\",\"1MM A 5MM\",\"10MM A 15MM\",\"1MM A 5MM\",\"10MM A 15MM\",\"5MM A 10MM\",\"1MM A 5MM\",\"5MM A 10MM\",\"1MM A 5MM\",\"5MM A 10MM\",\"1MM A 5MM\",\"20MM A 26MM\",\"1MM A 5MM\",\"5MM A 10MM\",\"10MM A 15MM\",\"5MM A 10MM\",\"15MM A 20MM\",\"10MM A 15MM\",\"10MM A 15MM\",\"5MM A 10MM\",\"5MM A 10MM\",\"5MM A 10MM\",\"1MM A 5MM\",\"10MM A 15MM\",\"1MM A 5MM\",\"1MM A 5MM\",\"1MM A 5MM\",\"5MM A 10MM\",\"5MM A 10MM\",\"5MM A 10MM\",\"5MM A 10MM\",\"5MM A 10MM\",\"5MM A 10MM\",\"15MM A 20MM\",\"10MM A 15MM\",\"1MM A 5MM\",\"1MM A 5MM\",\"5MM A 10MM\",\"5MM A 10MM\",\"15MM A 20MM\",\"5MM A 10MM\",\"15MM A 20MM\",\"10MM A 15MM\",\"10MM A 15MM\",\"1MM A 5MM\",\"5MM A 10MM\",\"5MM A 10MM\",\"15MM A 20MM\",\"5MM A 10MM\",\"5MM A 10MM\",\"1MM A 5MM\",\"5MM A 10MM\",\"5MM A 10MM\",\"1MM A 5MM\",\"1MM A 5MM\",\"1MM A 5MM\",\"5MM A 10MM\",\"1MM A 5MM\",\"1MM A 5MM\",\"10MM A 15MM\",\"5MM A 10MM\",\"10MM A 15MM\",\"5MM A 10MM\",\"5MM A 10MM\",\"10MM A 15MM\",\"10MM A 15MM\",\"1MM A 5MM\",\"15MM A 20MM\",\"10MM A 15MM\",\"10MM A 15MM\",\"5MM A 10MM\",\"10MM A 15MM\",\"15MM A 20MM\",\"15MM A 20MM\",\"5MM A 10MM\",\"5MM A 10MM\",\"5MM A 10MM\",\"20MM A 26MM\",\"15MM A 20MM\",\"15MM A 20MM\",\"5MM A 10MM\",\"15MM A 20MM\",\"5MM A 10MM\",\"5MM A 10MM\",\"1MM A 5MM\",\"15MM A 20MM\",\"5MM A 10MM\",\"1MM A 5MM\",\"5MM A 10MM\",\"5MM A 10MM\",\"10MM A 15MM\",\"1MM A 5MM\",\"10MM A 15MM\",\"5MM A 10MM\",\"1MM A 5MM\",\"1MM A 5MM\",\"1MM A 5MM\",\"1MM A 5MM\",\"5MM A 10MM\",\"5MM A 10MM\",\"5MM A 10MM\",\"5MM A 10MM\",\"5MM A 10MM\",\"5MM A 10MM\",\"10MM A 15MM\",\"10MM A 15MM\",\"5MM A 10MM\",\"5MM A 10MM\",\"5MM A 10MM\",\"1MM A 5MM\",\"1MM A 5MM\",\"10MM A 15MM\",\"5MM A 10MM\",\"5MM A 10MM\",\"ACIMA DE 26MM\",\"5MM A 10MM\",\"1MM A 5MM\",\"1MM A 5MM\",\"ACIMA DE 26MM\",\"10MM A 15MM\",\"10MM A 15MM\",\"5MM A 10MM\",\"10MM A 15MM\",\"5MM A 10MM\",\"5MM A 10MM\",\"5MM A 10MM\",\"5MM A 10MM\",\"15MM A 20MM\",\"15MM A 20MM\",\"20MM A 26MM\",\"15MM A 20MM\",\"5MM A 10MM\",\"10MM A 15MM\",\"10MM A 15MM\",\"5MM A 10MM\",\"5MM A 10MM\",\"5MM A 10MM\",\"15MM A 20MM\",\"5MM A 10MM\",\"10MM A 15MM\",\"5MM A 10MM\",\"5MM A 10MM\",\"10MM A 15MM\",\"5MM A 10MM\",\"10MM A 15MM\",\"15MM A 20MM\",\"10MM A 15MM\",\"10MM A 15MM\",\"10MM A 15MM\",\"15MM A 20MM\",\"10MM A 15MM\",\"10MM A 15MM\",\"5MM A 10MM\",\"15MM A 20MM\",\"10MM A 15MM\",\"15MM A 20MM\",\"10MM A 15MM\",\"10MM A 15MM\",\"10MM A 15MM\",\"5MM A 10MM\",\"1MM A 5MM\",\"10MM A 15MM\",\"5MM A 10MM\",\"5MM A 10MM\",\"10MM A 15MM\",\"15MM A 20MM\",\"10MM A 15MM\",\"5MM A 10MM\",\"5MM A 10MM\",\"15MM A 20MM\",\"10MM A 15MM\",\"15MM A 20MM\",\"10MM A 15MM\",\"5MM A 10MM\",\"1MM A 5MM\",\"10MM A 15MM\",\"5MM A 10MM\",\"15MM A 20MM\",\"10MM A 15MM\",\"5MM A 10MM\",\"5MM A 10MM\",\"1MM A 5MM\",\"10MM A 15MM\",\"5MM A 10MM\",\"1MM A 5MM\",\"15MM A 20MM\",\"10MM A 15MM\",\"15MM A 20MM\",\"10MM A 15MM\",\"10MM A 15MM\",\"5MM A 10MM\",\"15MM A 20MM\",\"10MM A 15MM\",\"10MM A 15MM\",\"10MM A 15MM\",\"5MM A 10MM\",\"1MM A 5MM\",\"10MM A 15MM\",\"10MM A 15MM\",\"10MM A 15MM\",\"10MM A 15MM\",\"15MM A 20MM\"]}],\"hovertemplate\":\"%{xaxis.title.text}=%{x}\\u003cbr\\u003e%{yaxis.title.text}=%{y}\\u003cextra\\u003e\\u003c\\u002fextra\\u003e\",\"legendgroup\":\"\",\"marker\":{\"color\":\"#636efa\",\"symbol\":\"circle\"},\"name\":\"\",\"showlegend\":false,\"type\":\"splom\"}],                        {\"template\":{\"data\":{\"histogram2dcontour\":[{\"type\":\"histogram2dcontour\",\"colorbar\":{\"outlinewidth\":0,\"ticks\":\"\"},\"colorscale\":[[0.0,\"#0d0887\"],[0.1111111111111111,\"#46039f\"],[0.2222222222222222,\"#7201a8\"],[0.3333333333333333,\"#9c179e\"],[0.4444444444444444,\"#bd3786\"],[0.5555555555555556,\"#d8576b\"],[0.6666666666666666,\"#ed7953\"],[0.7777777777777778,\"#fb9f3a\"],[0.8888888888888888,\"#fdca26\"],[1.0,\"#f0f921\"]]}],\"choropleth\":[{\"type\":\"choropleth\",\"colorbar\":{\"outlinewidth\":0,\"ticks\":\"\"}}],\"histogram2d\":[{\"type\":\"histogram2d\",\"colorbar\":{\"outlinewidth\":0,\"ticks\":\"\"},\"colorscale\":[[0.0,\"#0d0887\"],[0.1111111111111111,\"#46039f\"],[0.2222222222222222,\"#7201a8\"],[0.3333333333333333,\"#9c179e\"],[0.4444444444444444,\"#bd3786\"],[0.5555555555555556,\"#d8576b\"],[0.6666666666666666,\"#ed7953\"],[0.7777777777777778,\"#fb9f3a\"],[0.8888888888888888,\"#fdca26\"],[1.0,\"#f0f921\"]]}],\"heatmap\":[{\"type\":\"heatmap\",\"colorbar\":{\"outlinewidth\":0,\"ticks\":\"\"},\"colorscale\":[[0.0,\"#0d0887\"],[0.1111111111111111,\"#46039f\"],[0.2222222222222222,\"#7201a8\"],[0.3333333333333333,\"#9c179e\"],[0.4444444444444444,\"#bd3786\"],[0.5555555555555556,\"#d8576b\"],[0.6666666666666666,\"#ed7953\"],[0.7777777777777778,\"#fb9f3a\"],[0.8888888888888888,\"#fdca26\"],[1.0,\"#f0f921\"]]}],\"heatmapgl\":[{\"type\":\"heatmapgl\",\"colorbar\":{\"outlinewidth\":0,\"ticks\":\"\"},\"colorscale\":[[0.0,\"#0d0887\"],[0.1111111111111111,\"#46039f\"],[0.2222222222222222,\"#7201a8\"],[0.3333333333333333,\"#9c179e\"],[0.4444444444444444,\"#bd3786\"],[0.5555555555555556,\"#d8576b\"],[0.6666666666666666,\"#ed7953\"],[0.7777777777777778,\"#fb9f3a\"],[0.8888888888888888,\"#fdca26\"],[1.0,\"#f0f921\"]]}],\"contourcarpet\":[{\"type\":\"contourcarpet\",\"colorbar\":{\"outlinewidth\":0,\"ticks\":\"\"}}],\"contour\":[{\"type\":\"contour\",\"colorbar\":{\"outlinewidth\":0,\"ticks\":\"\"},\"colorscale\":[[0.0,\"#0d0887\"],[0.1111111111111111,\"#46039f\"],[0.2222222222222222,\"#7201a8\"],[0.3333333333333333,\"#9c179e\"],[0.4444444444444444,\"#bd3786\"],[0.5555555555555556,\"#d8576b\"],[0.6666666666666666,\"#ed7953\"],[0.7777777777777778,\"#fb9f3a\"],[0.8888888888888888,\"#fdca26\"],[1.0,\"#f0f921\"]]}],\"surface\":[{\"type\":\"surface\",\"colorbar\":{\"outlinewidth\":0,\"ticks\":\"\"},\"colorscale\":[[0.0,\"#0d0887\"],[0.1111111111111111,\"#46039f\"],[0.2222222222222222,\"#7201a8\"],[0.3333333333333333,\"#9c179e\"],[0.4444444444444444,\"#bd3786\"],[0.5555555555555556,\"#d8576b\"],[0.6666666666666666,\"#ed7953\"],[0.7777777777777778,\"#fb9f3a\"],[0.8888888888888888,\"#fdca26\"],[1.0,\"#f0f921\"]]}],\"mesh3d\":[{\"type\":\"mesh3d\",\"colorbar\":{\"outlinewidth\":0,\"ticks\":\"\"}}],\"scatter\":[{\"fillpattern\":{\"fillmode\":\"overlay\",\"size\":10,\"solidity\":0.2},\"type\":\"scatter\"}],\"parcoords\":[{\"type\":\"parcoords\",\"line\":{\"colorbar\":{\"outlinewidth\":0,\"ticks\":\"\"}}}],\"scatterpolargl\":[{\"type\":\"scatterpolargl\",\"marker\":{\"colorbar\":{\"outlinewidth\":0,\"ticks\":\"\"}}}],\"bar\":[{\"error_x\":{\"color\":\"#2a3f5f\"},\"error_y\":{\"color\":\"#2a3f5f\"},\"marker\":{\"line\":{\"color\":\"#E5ECF6\",\"width\":0.5},\"pattern\":{\"fillmode\":\"overlay\",\"size\":10,\"solidity\":0.2}},\"type\":\"bar\"}],\"scattergeo\":[{\"type\":\"scattergeo\",\"marker\":{\"colorbar\":{\"outlinewidth\":0,\"ticks\":\"\"}}}],\"scatterpolar\":[{\"type\":\"scatterpolar\",\"marker\":{\"colorbar\":{\"outlinewidth\":0,\"ticks\":\"\"}}}],\"histogram\":[{\"marker\":{\"pattern\":{\"fillmode\":\"overlay\",\"size\":10,\"solidity\":0.2}},\"type\":\"histogram\"}],\"scattergl\":[{\"type\":\"scattergl\",\"marker\":{\"colorbar\":{\"outlinewidth\":0,\"ticks\":\"\"}}}],\"scatter3d\":[{\"type\":\"scatter3d\",\"line\":{\"colorbar\":{\"outlinewidth\":0,\"ticks\":\"\"}},\"marker\":{\"colorbar\":{\"outlinewidth\":0,\"ticks\":\"\"}}}],\"scattermapbox\":[{\"type\":\"scattermapbox\",\"marker\":{\"colorbar\":{\"outlinewidth\":0,\"ticks\":\"\"}}}],\"scatterternary\":[{\"type\":\"scatterternary\",\"marker\":{\"colorbar\":{\"outlinewidth\":0,\"ticks\":\"\"}}}],\"scattercarpet\":[{\"type\":\"scattercarpet\",\"marker\":{\"colorbar\":{\"outlinewidth\":0,\"ticks\":\"\"}}}],\"carpet\":[{\"aaxis\":{\"endlinecolor\":\"#2a3f5f\",\"gridcolor\":\"white\",\"linecolor\":\"white\",\"minorgridcolor\":\"white\",\"startlinecolor\":\"#2a3f5f\"},\"baxis\":{\"endlinecolor\":\"#2a3f5f\",\"gridcolor\":\"white\",\"linecolor\":\"white\",\"minorgridcolor\":\"white\",\"startlinecolor\":\"#2a3f5f\"},\"type\":\"carpet\"}],\"table\":[{\"cells\":{\"fill\":{\"color\":\"#EBF0F8\"},\"line\":{\"color\":\"white\"}},\"header\":{\"fill\":{\"color\":\"#C8D4E3\"},\"line\":{\"color\":\"white\"}},\"type\":\"table\"}],\"barpolar\":[{\"marker\":{\"line\":{\"color\":\"#E5ECF6\",\"width\":0.5},\"pattern\":{\"fillmode\":\"overlay\",\"size\":10,\"solidity\":0.2}},\"type\":\"barpolar\"}],\"pie\":[{\"automargin\":true,\"type\":\"pie\"}]},\"layout\":{\"autotypenumbers\":\"strict\",\"colorway\":[\"#636efa\",\"#EF553B\",\"#00cc96\",\"#ab63fa\",\"#FFA15A\",\"#19d3f3\",\"#FF6692\",\"#B6E880\",\"#FF97FF\",\"#FECB52\"],\"font\":{\"color\":\"#2a3f5f\"},\"hovermode\":\"closest\",\"hoverlabel\":{\"align\":\"left\"},\"paper_bgcolor\":\"white\",\"plot_bgcolor\":\"#E5ECF6\",\"polar\":{\"bgcolor\":\"#E5ECF6\",\"angularaxis\":{\"gridcolor\":\"white\",\"linecolor\":\"white\",\"ticks\":\"\"},\"radialaxis\":{\"gridcolor\":\"white\",\"linecolor\":\"white\",\"ticks\":\"\"}},\"ternary\":{\"bgcolor\":\"#E5ECF6\",\"aaxis\":{\"gridcolor\":\"white\",\"linecolor\":\"white\",\"ticks\":\"\"},\"baxis\":{\"gridcolor\":\"white\",\"linecolor\":\"white\",\"ticks\":\"\"},\"caxis\":{\"gridcolor\":\"white\",\"linecolor\":\"white\",\"ticks\":\"\"}},\"coloraxis\":{\"colorbar\":{\"outlinewidth\":0,\"ticks\":\"\"}},\"colorscale\":{\"sequential\":[[0.0,\"#0d0887\"],[0.1111111111111111,\"#46039f\"],[0.2222222222222222,\"#7201a8\"],[0.3333333333333333,\"#9c179e\"],[0.4444444444444444,\"#bd3786\"],[0.5555555555555556,\"#d8576b\"],[0.6666666666666666,\"#ed7953\"],[0.7777777777777778,\"#fb9f3a\"],[0.8888888888888888,\"#fdca26\"],[1.0,\"#f0f921\"]],\"sequentialminus\":[[0.0,\"#0d0887\"],[0.1111111111111111,\"#46039f\"],[0.2222222222222222,\"#7201a8\"],[0.3333333333333333,\"#9c179e\"],[0.4444444444444444,\"#bd3786\"],[0.5555555555555556,\"#d8576b\"],[0.6666666666666666,\"#ed7953\"],[0.7777777777777778,\"#fb9f3a\"],[0.8888888888888888,\"#fdca26\"],[1.0,\"#f0f921\"]],\"diverging\":[[0,\"#8e0152\"],[0.1,\"#c51b7d\"],[0.2,\"#de77ae\"],[0.3,\"#f1b6da\"],[0.4,\"#fde0ef\"],[0.5,\"#f7f7f7\"],[0.6,\"#e6f5d0\"],[0.7,\"#b8e186\"],[0.8,\"#7fbc41\"],[0.9,\"#4d9221\"],[1,\"#276419\"]]},\"xaxis\":{\"gridcolor\":\"white\",\"linecolor\":\"white\",\"ticks\":\"\",\"title\":{\"standoff\":15},\"zerolinecolor\":\"white\",\"automargin\":true,\"zerolinewidth\":2},\"yaxis\":{\"gridcolor\":\"white\",\"linecolor\":\"white\",\"ticks\":\"\",\"title\":{\"standoff\":15},\"zerolinecolor\":\"white\",\"automargin\":true,\"zerolinewidth\":2},\"scene\":{\"xaxis\":{\"backgroundcolor\":\"#E5ECF6\",\"gridcolor\":\"white\",\"linecolor\":\"white\",\"showbackground\":true,\"ticks\":\"\",\"zerolinecolor\":\"white\",\"gridwidth\":2},\"yaxis\":{\"backgroundcolor\":\"#E5ECF6\",\"gridcolor\":\"white\",\"linecolor\":\"white\",\"showbackground\":true,\"ticks\":\"\",\"zerolinecolor\":\"white\",\"gridwidth\":2},\"zaxis\":{\"backgroundcolor\":\"#E5ECF6\",\"gridcolor\":\"white\",\"linecolor\":\"white\",\"showbackground\":true,\"ticks\":\"\",\"zerolinecolor\":\"white\",\"gridwidth\":2}},\"shapedefaults\":{\"line\":{\"color\":\"#2a3f5f\"}},\"annotationdefaults\":{\"arrowcolor\":\"#2a3f5f\",\"arrowhead\":0,\"arrowwidth\":1},\"geo\":{\"bgcolor\":\"white\",\"landcolor\":\"#E5ECF6\",\"subunitcolor\":\"white\",\"showland\":true,\"showlakes\":true,\"lakecolor\":\"white\"},\"title\":{\"x\":0.05},\"mapbox\":{\"style\":\"light\"}}},\"legend\":{\"tracegroupgap\":0},\"margin\":{\"t\":60},\"dragmode\":\"select\"},                        {\"responsive\": true}                    ).then(function(){\n",
       "                            \n",
       "var gd = document.getElementById('a5df673c-308a-4bdb-9b17-fc07c2261310');\n",
       "var x = new MutationObserver(function (mutations, observer) {{\n",
       "        var display = window.getComputedStyle(gd).display;\n",
       "        if (!display || display === 'none') {{\n",
       "            console.log([gd, 'removed!']);\n",
       "            Plotly.purge(gd);\n",
       "            observer.disconnect();\n",
       "        }}\n",
       "}});\n",
       "\n",
       "// Listen for the removal of the full notebook cells\n",
       "var notebookContainer = gd.closest('#notebook-container');\n",
       "if (notebookContainer) {{\n",
       "    x.observe(notebookContainer, {childList: true});\n",
       "}}\n",
       "\n",
       "// Listen for the clearing of the current output cell\n",
       "var outputEl = gd.closest('.output');\n",
       "if (outputEl) {{\n",
       "    x.observe(outputEl, {childList: true});\n",
       "}}\n",
       "\n",
       "                        })                };                });            </script>        </div>"
      ]
     },
     "metadata": {},
     "output_type": "display_data"
    }
   ],
   "source": [
    "grafico.show()"
   ]
  },
  {
   "cell_type": "code",
   "execution_count": 37,
   "id": "8b95a0cb",
   "metadata": {},
   "outputs": [
    {
     "data": {
      "text/plain": [
       "Unnamed: 0              0\n",
       "Working_Year            0\n",
       "Designation             0\n",
       "Experience              0\n",
       "Employment_Status       0\n",
       "Salary_In_Rupees        0\n",
       "Employee_Location       0\n",
       "Company_Location        0\n",
       "Company_Size            0\n",
       "Remote_Working_Ratio    0\n",
       "Salary_In_Rupees.1      0\n",
       "dtype: int64"
      ]
     },
     "execution_count": 37,
     "metadata": {},
     "output_type": "execute_result"
    }
   ],
   "source": [
    "base.isnull().sum()"
   ]
  },
  {
   "cell_type": "code",
   "execution_count": 38,
   "id": "c8948e16",
   "metadata": {},
   "outputs": [
    {
     "data": {
      "text/plain": [
       "<AxesSubplot:xlabel='Salary_In_Rupees', ylabel='count'>"
      ]
     },
     "execution_count": 38,
     "metadata": {},
     "output_type": "execute_result"
    },
    {
     "data": {
      "image/png": "[encoded data removed]",
      "text/plain": [
       "<Figure size 432x288 with 1 Axes>"
      ]
     },
     "metadata": {
      "needs_background": "light"
     },
     "output_type": "display_data"
    }
   ],
   "source": [
    "sns.countplot(x=base['Salary_In_Rupees'])"
   ]
  },
  {
   "cell_type": "code",
   "execution_count": 39,
   "id": "6d2bad1e",
   "metadata": {},
   "outputs": [
    {
     "data": {
      "text/plain": [
       "(array(['10MM A 15MM', '15MM A 20MM', '1MM A 5MM', '20MM A 26MM',\n",
       "        '5MM A 10MM', 'ACIMA DE 26MM'], dtype=object),\n",
       " array([148,  57, 153,   8, 233,   8], dtype=int64))"
      ]
     },
     "execution_count": 39,
     "metadata": {},
     "output_type": "execute_result"
    }
   ],
   "source": [
    "np.unique(base['Salary_In_Rupees'],return_counts=True)"
   ]
  },
  {
   "cell_type": "code",
   "execution_count": 49,
   "id": "6459e34f",
   "metadata": {},
   "outputs": [],
   "source": [
    "faixa_1=base[base['Salary_In_Rupees']=='10MM A 15MM'].sample(57)"
   ]
  },
  {
   "cell_type": "code",
   "execution_count": 50,
   "id": "e7a1f10d",
   "metadata": {},
   "outputs": [],
   "source": [
    "faixa_2=base[base['Salary_In_Rupees']=='15MM A 20MM'].sample(57)"
   ]
  },
  {
   "cell_type": "code",
   "execution_count": 51,
   "id": "c2641e1c",
   "metadata": {},
   "outputs": [],
   "source": [
    "faixa_3=base[base['Salary_In_Rupees']=='1MM A 5MM'].sample(57)"
   ]
  },
  {
   "cell_type": "code",
   "execution_count": 52,
   "id": "e55bb265",
   "metadata": {},
   "outputs": [],
   "source": [
    "faixa_4=base[base['Salary_In_Rupees']=='5MM A 10MM'].sample(57)"
   ]
  },
  {
   "cell_type": "code",
   "execution_count": null,
   "id": "ea30b1af",
   "metadata": {},
   "outputs": [],
   "source": []
  },
  {
   "cell_type": "code",
   "execution_count": 65,
   "id": "6c9271fb",
   "metadata": {},
   "outputs": [],
   "source": [
    "base_pre=pd.concat([faixa_1,faixa_2,faixa_3,faixa_4])"
   ]
  },
  {
   "cell_type": "code",
   "execution_count": 66,
   "id": "5e2cdcfe",
   "metadata": {},
   "outputs": [
    {
     "data": {
      "text/html": [
       "<div>\n",
       "<style scoped>\n",
       "    .dataframe tbody tr th:only-of-type {\n",
       "        vertical-align: middle;\n",
       "    }\n",
       "\n",
       "    .dataframe tbody tr th {\n",
       "        vertical-align: top;\n",
       "    }\n",
       "\n",
       "    .dataframe thead th {\n",
       "        text-align: right;\n",
       "    }\n",
       "</style>\n",
       "<table border=\"1\" class=\"dataframe\">\n",
       "  <thead>\n",
       "    <tr style=\"text-align: right;\">\n",
       "      <th></th>\n",
       "      <th>Unnamed: 0</th>\n",
       "      <th>Working_Year</th>\n",
       "      <th>Designation</th>\n",
       "      <th>Experience</th>\n",
       "      <th>Employment_Status</th>\n",
       "      <th>Salary_In_Rupees</th>\n",
       "      <th>Employee_Location</th>\n",
       "      <th>Company_Location</th>\n",
       "      <th>Company_Size</th>\n",
       "      <th>Remote_Working_Ratio</th>\n",
       "      <th>Salary_In_Rupees.1</th>\n",
       "    </tr>\n",
       "  </thead>\n",
       "  <tbody>\n",
       "    <tr>\n",
       "      <th>351</th>\n",
       "      <td>352</td>\n",
       "      <td>2022</td>\n",
       "      <td>Data Science Manager</td>\n",
       "      <td>SE</td>\n",
       "      <td>FT</td>\n",
       "      <td>10MM A 15MM</td>\n",
       "      <td>US</td>\n",
       "      <td>US</td>\n",
       "      <td>M</td>\n",
       "      <td>100</td>\n",
       "      <td>10912241</td>\n",
       "    </tr>\n",
       "    <tr>\n",
       "      <th>228</th>\n",
       "      <td>229</td>\n",
       "      <td>2021</td>\n",
       "      <td>Data Scientist</td>\n",
       "      <td>SE</td>\n",
       "      <td>FT</td>\n",
       "      <td>10MM A 15MM</td>\n",
       "      <td>US</td>\n",
       "      <td>US</td>\n",
       "      <td>L</td>\n",
       "      <td>0</td>\n",
       "      <td>10741883</td>\n",
       "    </tr>\n",
       "    <tr>\n",
       "      <th>259</th>\n",
       "      <td>260</td>\n",
       "      <td>2021</td>\n",
       "      <td>Director of Data Science</td>\n",
       "      <td>EX</td>\n",
       "      <td>FT</td>\n",
       "      <td>10MM A 15MM</td>\n",
       "      <td>DE</td>\n",
       "      <td>DE</td>\n",
       "      <td>L</td>\n",
       "      <td>0</td>\n",
       "      <td>11286615</td>\n",
       "    </tr>\n",
       "    <tr>\n",
       "      <th>551</th>\n",
       "      <td>552</td>\n",
       "      <td>2022</td>\n",
       "      <td>Data Scientist</td>\n",
       "      <td>SE</td>\n",
       "      <td>FT</td>\n",
       "      <td>10MM A 15MM</td>\n",
       "      <td>US</td>\n",
       "      <td>US</td>\n",
       "      <td>L</td>\n",
       "      <td>0</td>\n",
       "      <td>11171558</td>\n",
       "    </tr>\n",
       "    <tr>\n",
       "      <th>388</th>\n",
       "      <td>389</td>\n",
       "      <td>2022</td>\n",
       "      <td>Data Engineer</td>\n",
       "      <td>SE</td>\n",
       "      <td>FT</td>\n",
       "      <td>10MM A 15MM</td>\n",
       "      <td>US</td>\n",
       "      <td>US</td>\n",
       "      <td>M</td>\n",
       "      <td>100</td>\n",
       "      <td>12333273</td>\n",
       "    </tr>\n",
       "    <tr>\n",
       "      <th>...</th>\n",
       "      <td>...</td>\n",
       "      <td>...</td>\n",
       "      <td>...</td>\n",
       "      <td>...</td>\n",
       "      <td>...</td>\n",
       "      <td>...</td>\n",
       "      <td>...</td>\n",
       "      <td>...</td>\n",
       "      <td>...</td>\n",
       "      <td>...</td>\n",
       "      <td>...</td>\n",
       "    </tr>\n",
       "    <tr>\n",
       "      <th>468</th>\n",
       "      <td>469</td>\n",
       "      <td>2022</td>\n",
       "      <td>Data Engineer</td>\n",
       "      <td>SE</td>\n",
       "      <td>FT</td>\n",
       "      <td>5MM A 10MM</td>\n",
       "      <td>US</td>\n",
       "      <td>US</td>\n",
       "      <td>M</td>\n",
       "      <td>100</td>\n",
       "      <td>7956950</td>\n",
       "    </tr>\n",
       "    <tr>\n",
       "      <th>49</th>\n",
       "      <td>50</td>\n",
       "      <td>2020</td>\n",
       "      <td>Data Engineer</td>\n",
       "      <td>MI</td>\n",
       "      <td>FT</td>\n",
       "      <td>5MM A 10MM</td>\n",
       "      <td>FR</td>\n",
       "      <td>FR</td>\n",
       "      <td>L</td>\n",
       "      <td>50</td>\n",
       "      <td>5580925</td>\n",
       "    </tr>\n",
       "    <tr>\n",
       "      <th>414</th>\n",
       "      <td>415</td>\n",
       "      <td>2022</td>\n",
       "      <td>Data Engineer</td>\n",
       "      <td>MI</td>\n",
       "      <td>FT</td>\n",
       "      <td>5MM A 10MM</td>\n",
       "      <td>GB</td>\n",
       "      <td>GB</td>\n",
       "      <td>M</td>\n",
       "      <td>100</td>\n",
       "      <td>6248275</td>\n",
       "    </tr>\n",
       "    <tr>\n",
       "      <th>283</th>\n",
       "      <td>284</td>\n",
       "      <td>2021</td>\n",
       "      <td>Staff Data Scientist</td>\n",
       "      <td>SE</td>\n",
       "      <td>CT</td>\n",
       "      <td>5MM A 10MM</td>\n",
       "      <td>US</td>\n",
       "      <td>US</td>\n",
       "      <td>M</td>\n",
       "      <td>100</td>\n",
       "      <td>8354798</td>\n",
       "    </tr>\n",
       "    <tr>\n",
       "      <th>95</th>\n",
       "      <td>96</td>\n",
       "      <td>2021</td>\n",
       "      <td>Cloud Data Engineer</td>\n",
       "      <td>MI</td>\n",
       "      <td>FT</td>\n",
       "      <td>5MM A 10MM</td>\n",
       "      <td>SG</td>\n",
       "      <td>SG</td>\n",
       "      <td>L</td>\n",
       "      <td>50</td>\n",
       "      <td>7105079</td>\n",
       "    </tr>\n",
       "  </tbody>\n",
       "</table>\n",
       "<p>228 rows × 11 columns</p>\n",
       "</div>"
      ],
      "text/plain": [
       "     Unnamed: 0  Working_Year               Designation Experience  \\\n",
       "351         352          2022      Data Science Manager         SE   \n",
       "228         229          2021            Data Scientist         SE   \n",
       "259         260          2021  Director of Data Science         EX   \n",
       "551         552          2022            Data Scientist         SE   \n",
       "388         389          2022             Data Engineer         SE   \n",
       "..          ...           ...                       ...        ...   \n",
       "468         469          2022             Data Engineer         SE   \n",
       "49           50          2020             Data Engineer         MI   \n",
       "414         415          2022             Data Engineer         MI   \n",
       "283         284          2021      Staff Data Scientist         SE   \n",
       "95           96          2021       Cloud Data Engineer         MI   \n",
       "\n",
       "    Employment_Status Salary_In_Rupees Employee_Location Company_Location  \\\n",
       "351                FT      10MM A 15MM                US               US   \n",
       "228                FT      10MM A 15MM                US               US   \n",
       "259                FT      10MM A 15MM                DE               DE   \n",
       "551                FT      10MM A 15MM                US               US   \n",
       "388                FT      10MM A 15MM                US               US   \n",
       "..                ...              ...               ...              ...   \n",
       "468                FT       5MM A 10MM                US               US   \n",
       "49                 FT       5MM A 10MM                FR               FR   \n",
       "414                FT       5MM A 10MM                GB               GB   \n",
       "283                CT       5MM A 10MM                US               US   \n",
       "95                 FT       5MM A 10MM                SG               SG   \n",
       "\n",
       "    Company_Size  Remote_Working_Ratio  Salary_In_Rupees.1  \n",
       "351            M                   100            10912241  \n",
       "228            L                     0            10741883  \n",
       "259            L                     0            11286615  \n",
       "551            L                     0            11171558  \n",
       "388            M                   100            12333273  \n",
       "..           ...                   ...                 ...  \n",
       "468            M                   100             7956950  \n",
       "49             L                    50             5580925  \n",
       "414            M                   100             6248275  \n",
       "283            M                   100             8354798  \n",
       "95             L                    50             7105079  \n",
       "\n",
       "[228 rows x 11 columns]"
      ]
     },
     "execution_count": 66,
     "metadata": {},
     "output_type": "execute_result"
    }
   ],
   "source": [
    "base_pre"
   ]
  },
  {
   "cell_type": "code",
   "execution_count": 67,
   "id": "34673b81",
   "metadata": {},
   "outputs": [
    {
     "data": {
      "text/plain": [
       "<AxesSubplot:xlabel='Salary_In_Rupees', ylabel='count'>"
      ]
     },
     "execution_count": 67,
     "metadata": {},
     "output_type": "execute_result"
    },
    {
     "data": {
      "image/png": "[encoded data removed]",
      "text/plain": [
       "<Figure size 432x288 with 1 Axes>"
      ]
     },
     "metadata": {
      "needs_background": "light"
     },
     "output_type": "display_data"
    }
   ],
   "source": [
    "sns.countplot(x=base_pre['Salary_In_Rupees'])"
   ]
  },
  {
   "cell_type": "code",
   "execution_count": 105,
   "id": "11618417",
   "metadata": {},
   "outputs": [],
   "source": [
    "x_base_pre=base_pre.iloc[:,[3,4,8,9]].values"
   ]
  },
  {
   "cell_type": "code",
   "execution_count": 106,
   "id": "eb606aac",
   "metadata": {},
   "outputs": [
    {
     "data": {
      "text/plain": [
       "array([['SE', 'FT', 'M', 100],\n",
       "       ['SE', 'FT', 'L', 0],\n",
       "       ['EX', 'FT', 'L', 0],\n",
       "       ['SE', 'FT', 'L', 0],\n",
       "       ['SE', 'FT', 'M', 100],\n",
       "       ['MI', 'FT', 'M', 100],\n",
       "       ['MI', 'FT', 'M', 100],\n",
       "       ['SE', 'FT', 'L', 100],\n",
       "       ['MI', 'FT', 'L', 100],\n",
       "       ['MI', 'FT', 'L', 50],\n",
       "       ['MI', 'FT', 'L', 100],\n",
       "       ['SE', 'FT', 'M', 100],\n",
       "       ['SE', 'FT', 'M', 100],\n",
       "       ['SE', 'FT', 'L', 50],\n",
       "       ['SE', 'FT', 'M', 100],\n",
       "       ['SE', 'FT', 'M', 100],\n",
       "       ['SE', 'FT', 'L', 50],\n",
       "       ['SE', 'FT', 'M', 0],\n",
       "       ['SE', 'FT', 'M', 0],\n",
       "       ['MI', 'FT', 'L', 100],\n",
       "       ['SE', 'FT', 'M', 100],\n",
       "       ['SE', 'FT', 'L', 100],\n",
       "       ['SE', 'FT', 'M', 100],\n",
       "       ['EN', 'FT', 'S', 100],\n",
       "       ['SE', 'FT', 'M', 100],\n",
       "       ['MI', 'FT', 'L', 100],\n",
       "       ['SE', 'FT', 'M', 100],\n",
       "       ['SE', 'FT', 'M', 100],\n",
       "       ['MI', 'FT', 'M', 100],\n",
       "       ['SE', 'FT', 'M', 100],\n",
       "       ['SE', 'FT', 'L', 100],\n",
       "       ['EX', 'FT', 'L', 100],\n",
       "       ['SE', 'FT', 'L', 100],\n",
       "       ['SE', 'FT', 'L', 100],\n",
       "       ['SE', 'FT', 'L', 100],\n",
       "       ['SE', 'FT', 'L', 100],\n",
       "       ['SE', 'FT', 'M', 0],\n",
       "       ['SE', 'FT', 'L', 0],\n",
       "       ['SE', 'FT', 'M', 0],\n",
       "       ['SE', 'FT', 'L', 100],\n",
       "       ['SE', 'FT', 'M', 100],\n",
       "       ['SE', 'FT', 'M', 100],\n",
       "       ['SE', 'FT', 'L', 100],\n",
       "       ['MI', 'FT', 'L', 100],\n",
       "       ['SE', 'FT', 'M', 100],\n",
       "       ['SE', 'FT', 'M', 100],\n",
       "       ['MI', 'FT', 'M', 0],\n",
       "       ['MI', 'FT', 'M', 0],\n",
       "       ['SE', 'FT', 'L', 0],\n",
       "       ['SE', 'FT', 'M', 100],\n",
       "       ['SE', 'FT', 'M', 100],\n",
       "       ['SE', 'FT', 'L', 100],\n",
       "       ['SE', 'FT', 'M', 100],\n",
       "       ['SE', 'FT', 'M', 100],\n",
       "       ['SE', 'FT', 'M', 100],\n",
       "       ['SE', 'FT', 'L', 100],\n",
       "       ['SE', 'FT', 'M', 100],\n",
       "       ['EX', 'FT', 'L', 100],\n",
       "       ['EN', 'FT', 'L', 50],\n",
       "       ['EX', 'FT', 'M', 100],\n",
       "       ['SE', 'FT', 'M', 0],\n",
       "       ['SE', 'FT', 'M', 100],\n",
       "       ['SE', 'FT', 'M', 100],\n",
       "       ['SE', 'FT', 'M', 100],\n",
       "       ['SE', 'FT', 'M', 100],\n",
       "       ['MI', 'FT', 'L', 100],\n",
       "       ['MI', 'FT', 'L', 100],\n",
       "       ['SE', 'FT', 'M', 100],\n",
       "       ['SE', 'FT', 'M', 100],\n",
       "       ['SE', 'FT', 'L', 100],\n",
       "       ['EN', 'FT', 'L', 100],\n",
       "       ['MI', 'FT', 'L', 100],\n",
       "       ['MI', 'FT', 'M', 100],\n",
       "       ['SE', 'FT', 'L', 100],\n",
       "       ['SE', 'FT', 'M', 100],\n",
       "       ['EX', 'FT', 'L', 50],\n",
       "       ['SE', 'FT', 'M', 0],\n",
       "       ['SE', 'FT', 'M', 100],\n",
       "       ['SE', 'FT', 'M', 100],\n",
       "       ['EX', 'FT', 'M', 100],\n",
       "       ['EX', 'FT', 'L', 50],\n",
       "       ['SE', 'FT', 'M', 100],\n",
       "       ['SE', 'FT', 'M', 100],\n",
       "       ['MI', 'FT', 'M', 100],\n",
       "       ['SE', 'FT', 'M', 100],\n",
       "       ['SE', 'FT', 'L', 0],\n",
       "       ['SE', 'FT', 'M', 100],\n",
       "       ['SE', 'FT', 'L', 100],\n",
       "       ['SE', 'FT', 'L', 100],\n",
       "       ['SE', 'FT', 'M', 100],\n",
       "       ['EX', 'FT', 'M', 100],\n",
       "       ['MI', 'FT', 'M', 0],\n",
       "       ['SE', 'FT', 'L', 100],\n",
       "       ['SE', 'FT', 'S', 100],\n",
       "       ['EX', 'FT', 'M', 100],\n",
       "       ['SE', 'FT', 'L', 100],\n",
       "       ['SE', 'FT', 'M', 100],\n",
       "       ['SE', 'FT', 'M', 0],\n",
       "       ['SE', 'FT', 'L', 0],\n",
       "       ['SE', 'FT', 'L', 0],\n",
       "       ['SE', 'FT', 'M', 100],\n",
       "       ['EX', 'FT', 'L', 0],\n",
       "       ['SE', 'FT', 'M', 100],\n",
       "       ['SE', 'FT', 'M', 100],\n",
       "       ['SE', 'FT', 'M', 100],\n",
       "       ['SE', 'FT', 'M', 0],\n",
       "       ['SE', 'FT', 'L', 100],\n",
       "       ['SE', 'FT', 'M', 100],\n",
       "       ['SE', 'FT', 'M', 100],\n",
       "       ['SE', 'FT', 'M', 0],\n",
       "       ['SE', 'FT', 'M', 100],\n",
       "       ['SE', 'FT', 'M', 100],\n",
       "       ['SE', 'FT', 'L', 0],\n",
       "       ['SE', 'FT', 'L', 100],\n",
       "       ['MI', 'FT', 'L', 50],\n",
       "       ['EN', 'FT', 'M', 100],\n",
       "       ['MI', 'FT', 'M', 0],\n",
       "       ['SE', 'FT', 'L', 50],\n",
       "       ['EN', 'FT', 'M', 100],\n",
       "       ['SE', 'FT', 'M', 0],\n",
       "       ['EN', 'FT', 'L', 100],\n",
       "       ['EN', 'FT', 'S', 0],\n",
       "       ['SE', 'FT', 'L', 100],\n",
       "       ['MI', 'FT', 'L', 50],\n",
       "       ['MI', 'FT', 'M', 100],\n",
       "       ['MI', 'FT', 'L', 50],\n",
       "       ['MI', 'FT', 'L', 100],\n",
       "       ['MI', 'FT', 'L', 50],\n",
       "       ['EN', 'FT', 'M', 0],\n",
       "       ['MI', 'FT', 'M', 100],\n",
       "       ['EN', 'FT', 'S', 100],\n",
       "       ['MI', 'FT', 'S', 50],\n",
       "       ['MI', 'FT', 'L', 50],\n",
       "       ['MI', 'FT', 'L', 0],\n",
       "       ['MI', 'FT', 'S', 50],\n",
       "       ['MI', 'FT', 'M', 100],\n",
       "       ['EN', 'FT', 'S', 50],\n",
       "       ['EN', 'PT', 'M', 50],\n",
       "       ['EN', 'CT', 'M', 100],\n",
       "       ['MI', 'FT', 'L', 100],\n",
       "       ['EN', 'FT', 'M', 50],\n",
       "       ['MI', 'FT', 'M', 0],\n",
       "       ['SE', 'FT', 'L', 50],\n",
       "       ['MI', 'FT', 'S', 100],\n",
       "       ['EN', 'FT', 'L', 50],\n",
       "       ['MI', 'FT', 'S', 100],\n",
       "       ['MI', 'FT', 'S', 100],\n",
       "       ['MI', 'FT', 'L', 50],\n",
       "       ['MI', 'PT', 'M', 50],\n",
       "       ['MI', 'FT', 'L', 100],\n",
       "       ['SE', 'FT', 'M', 100],\n",
       "       ['MI', 'FT', 'M', 50],\n",
       "       ['EN', 'FT', 'S', 100],\n",
       "       ['SE', 'FT', 'M', 100],\n",
       "       ['MI', 'FT', 'M', 100],\n",
       "       ['MI', 'FT', 'L', 100],\n",
       "       ['EN', 'FT', 'M', 0],\n",
       "       ['SE', 'FT', 'L', 50],\n",
       "       ['MI', 'FT', 'M', 50],\n",
       "       ['MI', 'FT', 'M', 0],\n",
       "       ['MI', 'FT', 'M', 0],\n",
       "       ['MI', 'FL', 'M', 50],\n",
       "       ['EN', 'FT', 'M', 100],\n",
       "       ['MI', 'FT', 'M', 100],\n",
       "       ['MI', 'FT', 'M', 0],\n",
       "       ['MI', 'FT', 'S', 0],\n",
       "       ['MI', 'FT', 'M', 0],\n",
       "       ['MI', 'FT', 'S', 100],\n",
       "       ['EN', 'FT', 'S', 0],\n",
       "       ['SE', 'FT', 'L', 100],\n",
       "       ['EN', 'FT', 'M', 100],\n",
       "       ['SE', 'FT', 'M', 100],\n",
       "       ['SE', 'FT', 'L', 100],\n",
       "       ['MI', 'FT', 'L', 50],\n",
       "       ['SE', 'FT', 'S', 100],\n",
       "       ['MI', 'FT', 'L', 50],\n",
       "       ['MI', 'FT', 'M', 0],\n",
       "       ['EN', 'FT', 'L', 100],\n",
       "       ['EN', 'FT', 'L', 0],\n",
       "       ['MI', 'FT', 'L', 50],\n",
       "       ['SE', 'FT', 'M', 100],\n",
       "       ['EN', 'FT', 'L', 100],\n",
       "       ['MI', 'FT', 'M', 100],\n",
       "       ['SE', 'FT', 'M', 100],\n",
       "       ['SE', 'FT', 'M', 0],\n",
       "       ['MI', 'FT', 'S', 100],\n",
       "       ['MI', 'FT', 'M', 100],\n",
       "       ['MI', 'FT', 'L', 0],\n",
       "       ['MI', 'FT', 'M', 0],\n",
       "       ['EN', 'FT', 'S', 100],\n",
       "       ['MI', 'FT', 'L', 100],\n",
       "       ['EN', 'PT', 'M', 50],\n",
       "       ['SE', 'FT', 'M', 50],\n",
       "       ['MI', 'FT', 'L', 0],\n",
       "       ['SE', 'FT', 'S', 50],\n",
       "       ['EN', 'FT', 'M', 0],\n",
       "       ['MI', 'FT', 'S', 50],\n",
       "       ['EX', 'FT', 'M', 0],\n",
       "       ['MI', 'FT', 'M', 100],\n",
       "       ['EX', 'FT', 'M', 100],\n",
       "       ['MI', 'FT', 'S', 50],\n",
       "       ['SE', 'FT', 'M', 100],\n",
       "       ['SE', 'FT', 'M', 100],\n",
       "       ['SE', 'FT', 'M', 100],\n",
       "       ['SE', 'FT', 'L', 100],\n",
       "       ['SE', 'FT', 'M', 100],\n",
       "       ['MI', 'FT', 'M', 100],\n",
       "       ['EN', 'FT', 'S', 100],\n",
       "       ['SE', 'FT', 'M', 0],\n",
       "       ['SE', 'FT', 'M', 100],\n",
       "       ['MI', 'FT', 'M', 100],\n",
       "       ['EX', 'FT', 'S', 100],\n",
       "       ['SE', 'FT', 'L', 50],\n",
       "       ['SE', 'FT', 'S', 100],\n",
       "       ['MI', 'FT', 'L', 100],\n",
       "       ['EN', 'FT', 'M', 100],\n",
       "       ['MI', 'FT', 'M', 100],\n",
       "       ['EN', 'FT', 'L', 50],\n",
       "       ['MI', 'FT', 'L', 0],\n",
       "       ['SE', 'FT', 'M', 100],\n",
       "       ['MI', 'FT', 'M', 0],\n",
       "       ['MI', 'FT', 'M', 0],\n",
       "       ['EN', 'FT', 'L', 100],\n",
       "       ['SE', 'FT', 'M', 100],\n",
       "       ['MI', 'FT', 'L', 50],\n",
       "       ['MI', 'FT', 'M', 100],\n",
       "       ['SE', 'CT', 'M', 100],\n",
       "       ['MI', 'FT', 'L', 50]], dtype=object)"
      ]
     },
     "execution_count": 106,
     "metadata": {},
     "output_type": "execute_result"
    }
   ],
   "source": [
    "x_base_pre"
   ]
  },
  {
   "cell_type": "code",
   "execution_count": 107,
   "id": "1654143d",
   "metadata": {},
   "outputs": [],
   "source": [
    "y_base_pre=base_pre.iloc[:,5].values"
   ]
  },
  {
   "cell_type": "code",
   "execution_count": 108,
   "id": "e88a91d6",
   "metadata": {},
   "outputs": [
    {
     "data": {
      "text/plain": [
       "array(['10MM A 15MM', '10MM A 15MM', '10MM A 15MM', '10MM A 15MM',\n",
       "       '10MM A 15MM', '10MM A 15MM', '10MM A 15MM', '10MM A 15MM',\n",
       "       '10MM A 15MM', '10MM A 15MM', '10MM A 15MM', '10MM A 15MM',\n",
       "       '10MM A 15MM', '10MM A 15MM', '10MM A 15MM', '10MM A 15MM',\n",
       "       '10MM A 15MM', '10MM A 15MM', '10MM A 15MM', '10MM A 15MM',\n",
       "       '10MM A 15MM', '10MM A 15MM', '10MM A 15MM', '10MM A 15MM',\n",
       "       '10MM A 15MM', '10MM A 15MM', '10MM A 15MM', '10MM A 15MM',\n",
       "       '10MM A 15MM', '10MM A 15MM', '10MM A 15MM', '10MM A 15MM',\n",
       "       '10MM A 15MM', '10MM A 15MM', '10MM A 15MM', '10MM A 15MM',\n",
       "       '10MM A 15MM', '10MM A 15MM', '10MM A 15MM', '10MM A 15MM',\n",
       "       '10MM A 15MM', '10MM A 15MM', '10MM A 15MM', '10MM A 15MM',\n",
       "       '10MM A 15MM', '10MM A 15MM', '10MM A 15MM', '10MM A 15MM',\n",
       "       '10MM A 15MM', '10MM A 15MM', '10MM A 15MM', '10MM A 15MM',\n",
       "       '10MM A 15MM', '10MM A 15MM', '10MM A 15MM', '10MM A 15MM',\n",
       "       '10MM A 15MM', '15MM A 20MM', '15MM A 20MM', '15MM A 20MM',\n",
       "       '15MM A 20MM', '15MM A 20MM', '15MM A 20MM', '15MM A 20MM',\n",
       "       '15MM A 20MM', '15MM A 20MM', '15MM A 20MM', '15MM A 20MM',\n",
       "       '15MM A 20MM', '15MM A 20MM', '15MM A 20MM', '15MM A 20MM',\n",
       "       '15MM A 20MM', '15MM A 20MM', '15MM A 20MM', '15MM A 20MM',\n",
       "       '15MM A 20MM', '15MM A 20MM', '15MM A 20MM', '15MM A 20MM',\n",
       "       '15MM A 20MM', '15MM A 20MM', '15MM A 20MM', '15MM A 20MM',\n",
       "       '15MM A 20MM', '15MM A 20MM', '15MM A 20MM', '15MM A 20MM',\n",
       "       '15MM A 20MM', '15MM A 20MM', '15MM A 20MM', '15MM A 20MM',\n",
       "       '15MM A 20MM', '15MM A 20MM', '15MM A 20MM', '15MM A 20MM',\n",
       "       '15MM A 20MM', '15MM A 20MM', '15MM A 20MM', '15MM A 20MM',\n",
       "       '15MM A 20MM', '15MM A 20MM', '15MM A 20MM', '15MM A 20MM',\n",
       "       '15MM A 20MM', '15MM A 20MM', '15MM A 20MM', '15MM A 20MM',\n",
       "       '15MM A 20MM', '15MM A 20MM', '15MM A 20MM', '15MM A 20MM',\n",
       "       '15MM A 20MM', '15MM A 20MM', '1MM A 5MM', '1MM A 5MM',\n",
       "       '1MM A 5MM', '1MM A 5MM', '1MM A 5MM', '1MM A 5MM', '1MM A 5MM',\n",
       "       '1MM A 5MM', '1MM A 5MM', '1MM A 5MM', '1MM A 5MM', '1MM A 5MM',\n",
       "       '1MM A 5MM', '1MM A 5MM', '1MM A 5MM', '1MM A 5MM', '1MM A 5MM',\n",
       "       '1MM A 5MM', '1MM A 5MM', '1MM A 5MM', '1MM A 5MM', '1MM A 5MM',\n",
       "       '1MM A 5MM', '1MM A 5MM', '1MM A 5MM', '1MM A 5MM', '1MM A 5MM',\n",
       "       '1MM A 5MM', '1MM A 5MM', '1MM A 5MM', '1MM A 5MM', '1MM A 5MM',\n",
       "       '1MM A 5MM', '1MM A 5MM', '1MM A 5MM', '1MM A 5MM', '1MM A 5MM',\n",
       "       '1MM A 5MM', '1MM A 5MM', '1MM A 5MM', '1MM A 5MM', '1MM A 5MM',\n",
       "       '1MM A 5MM', '1MM A 5MM', '1MM A 5MM', '1MM A 5MM', '1MM A 5MM',\n",
       "       '1MM A 5MM', '1MM A 5MM', '1MM A 5MM', '1MM A 5MM', '1MM A 5MM',\n",
       "       '1MM A 5MM', '1MM A 5MM', '1MM A 5MM', '1MM A 5MM', '1MM A 5MM',\n",
       "       '5MM A 10MM', '5MM A 10MM', '5MM A 10MM', '5MM A 10MM',\n",
       "       '5MM A 10MM', '5MM A 10MM', '5MM A 10MM', '5MM A 10MM',\n",
       "       '5MM A 10MM', '5MM A 10MM', '5MM A 10MM', '5MM A 10MM',\n",
       "       '5MM A 10MM', '5MM A 10MM', '5MM A 10MM', '5MM A 10MM',\n",
       "       '5MM A 10MM', '5MM A 10MM', '5MM A 10MM', '5MM A 10MM',\n",
       "       '5MM A 10MM', '5MM A 10MM', '5MM A 10MM', '5MM A 10MM',\n",
       "       '5MM A 10MM', '5MM A 10MM', '5MM A 10MM', '5MM A 10MM',\n",
       "       '5MM A 10MM', '5MM A 10MM', '5MM A 10MM', '5MM A 10MM',\n",
       "       '5MM A 10MM', '5MM A 10MM', '5MM A 10MM', '5MM A 10MM',\n",
       "       '5MM A 10MM', '5MM A 10MM', '5MM A 10MM', '5MM A 10MM',\n",
       "       '5MM A 10MM', '5MM A 10MM', '5MM A 10MM', '5MM A 10MM',\n",
       "       '5MM A 10MM', '5MM A 10MM', '5MM A 10MM', '5MM A 10MM',\n",
       "       '5MM A 10MM', '5MM A 10MM', '5MM A 10MM', '5MM A 10MM',\n",
       "       '5MM A 10MM', '5MM A 10MM', '5MM A 10MM', '5MM A 10MM',\n",
       "       '5MM A 10MM'], dtype=object)"
      ]
     },
     "execution_count": 108,
     "metadata": {},
     "output_type": "execute_result"
    }
   ],
   "source": [
    "y_base_pre"
   ]
  },
  {
   "cell_type": "code",
   "execution_count": 78,
   "id": "006b3d27",
   "metadata": {},
   "outputs": [],
   "source": [
    "from sklearn.preprocessing import LabelEncoder"
   ]
  },
  {
   "cell_type": "code",
   "execution_count": 109,
   "id": "6a91f0c3",
   "metadata": {},
   "outputs": [],
   "source": [
    "Experience_label_encoder=LabelEncoder()\n",
    "Employment_Status_label_encoder=LabelEncoder()\n",
    "Company_Size_label_encoder=LabelEncoder()\n",
    "Remote_Working_Ratio_label_encoder=LabelEncoder()"
   ]
  },
  {
   "cell_type": "code",
   "execution_count": 110,
   "id": "255fe758",
   "metadata": {},
   "outputs": [],
   "source": [
    "x_base_pre[:,0]=Experience_label_encoder.fit_transform(x_base_pre[:,0])\n",
    "x_base_pre[:,1]=Employment_Status_label_encoder.fit_transform(x_base_pre[:,1])\n",
    "x_base_pre[:,2]=Company_Size_label_encoder.fit_transform(x_base_pre[:,2])\n",
    "x_base_pre[:,3]=Remote_Working_Ratio_label_encoder.fit_transform(x_base_pre[:,3])"
   ]
  },
  {
   "cell_type": "code",
   "execution_count": 116,
   "id": "774b2773",
   "metadata": {},
   "outputs": [
    {
     "data": {
      "text/plain": [
       "array([[3, 2, 1, 2],\n",
       "       [3, 2, 0, 0],\n",
       "       [1, 2, 0, 0],\n",
       "       [3, 2, 0, 0],\n",
       "       [3, 2, 1, 2],\n",
       "       [2, 2, 1, 2],\n",
       "       [2, 2, 1, 2],\n",
       "       [3, 2, 0, 2],\n",
       "       [2, 2, 0, 2],\n",
       "       [2, 2, 0, 1],\n",
       "       [2, 2, 0, 2],\n",
       "       [3, 2, 1, 2],\n",
       "       [3, 2, 1, 2],\n",
       "       [3, 2, 0, 1],\n",
       "       [3, 2, 1, 2],\n",
       "       [3, 2, 1, 2],\n",
       "       [3, 2, 0, 1],\n",
       "       [3, 2, 1, 0],\n",
       "       [3, 2, 1, 0],\n",
       "       [2, 2, 0, 2],\n",
       "       [3, 2, 1, 2],\n",
       "       [3, 2, 0, 2],\n",
       "       [3, 2, 1, 2],\n",
       "       [0, 2, 2, 2],\n",
       "       [3, 2, 1, 2],\n",
       "       [2, 2, 0, 2],\n",
       "       [3, 2, 1, 2],\n",
       "       [3, 2, 1, 2],\n",
       "       [2, 2, 1, 2],\n",
       "       [3, 2, 1, 2],\n",
       "       [3, 2, 0, 2],\n",
       "       [1, 2, 0, 2],\n",
       "       [3, 2, 0, 2],\n",
       "       [3, 2, 0, 2],\n",
       "       [3, 2, 0, 2],\n",
       "       [3, 2, 0, 2],\n",
       "       [3, 2, 1, 0],\n",
       "       [3, 2, 0, 0],\n",
       "       [3, 2, 1, 0],\n",
       "       [3, 2, 0, 2],\n",
       "       [3, 2, 1, 2],\n",
       "       [3, 2, 1, 2],\n",
       "       [3, 2, 0, 2],\n",
       "       [2, 2, 0, 2],\n",
       "       [3, 2, 1, 2],\n",
       "       [3, 2, 1, 2],\n",
       "       [2, 2, 1, 0],\n",
       "       [2, 2, 1, 0],\n",
       "       [3, 2, 0, 0],\n",
       "       [3, 2, 1, 2],\n",
       "       [3, 2, 1, 2],\n",
       "       [3, 2, 0, 2],\n",
       "       [3, 2, 1, 2],\n",
       "       [3, 2, 1, 2],\n",
       "       [3, 2, 1, 2],\n",
       "       [3, 2, 0, 2],\n",
       "       [3, 2, 1, 2],\n",
       "       [1, 2, 0, 2],\n",
       "       [0, 2, 0, 1],\n",
       "       [1, 2, 1, 2],\n",
       "       [3, 2, 1, 0],\n",
       "       [3, 2, 1, 2],\n",
       "       [3, 2, 1, 2],\n",
       "       [3, 2, 1, 2],\n",
       "       [3, 2, 1, 2],\n",
       "       [2, 2, 0, 2],\n",
       "       [2, 2, 0, 2],\n",
       "       [3, 2, 1, 2],\n",
       "       [3, 2, 1, 2],\n",
       "       [3, 2, 0, 2],\n",
       "       [0, 2, 0, 2],\n",
       "       [2, 2, 0, 2],\n",
       "       [2, 2, 1, 2],\n",
       "       [3, 2, 0, 2],\n",
       "       [3, 2, 1, 2],\n",
       "       [1, 2, 0, 1],\n",
       "       [3, 2, 1, 0],\n",
       "       [3, 2, 1, 2],\n",
       "       [3, 2, 1, 2],\n",
       "       [1, 2, 1, 2],\n",
       "       [1, 2, 0, 1],\n",
       "       [3, 2, 1, 2],\n",
       "       [3, 2, 1, 2],\n",
       "       [2, 2, 1, 2],\n",
       "       [3, 2, 1, 2],\n",
       "       [3, 2, 0, 0],\n",
       "       [3, 2, 1, 2],\n",
       "       [3, 2, 0, 2],\n",
       "       [3, 2, 0, 2],\n",
       "       [3, 2, 1, 2],\n",
       "       [1, 2, 1, 2],\n",
       "       [2, 2, 1, 0],\n",
       "       [3, 2, 0, 2],\n",
       "       [3, 2, 2, 2],\n",
       "       [1, 2, 1, 2],\n",
       "       [3, 2, 0, 2],\n",
       "       [3, 2, 1, 2],\n",
       "       [3, 2, 1, 0],\n",
       "       [3, 2, 0, 0],\n",
       "       [3, 2, 0, 0],\n",
       "       [3, 2, 1, 2],\n",
       "       [1, 2, 0, 0],\n",
       "       [3, 2, 1, 2],\n",
       "       [3, 2, 1, 2],\n",
       "       [3, 2, 1, 2],\n",
       "       [3, 2, 1, 0],\n",
       "       [3, 2, 0, 2],\n",
       "       [3, 2, 1, 2],\n",
       "       [3, 2, 1, 2],\n",
       "       [3, 2, 1, 0],\n",
       "       [3, 2, 1, 2],\n",
       "       [3, 2, 1, 2],\n",
       "       [3, 2, 0, 0],\n",
       "       [3, 2, 0, 2],\n",
       "       [2, 2, 0, 1],\n",
       "       [0, 2, 1, 2],\n",
       "       [2, 2, 1, 0],\n",
       "       [3, 2, 0, 1],\n",
       "       [0, 2, 1, 2],\n",
       "       [3, 2, 1, 0],\n",
       "       [0, 2, 0, 2],\n",
       "       [0, 2, 2, 0],\n",
       "       [3, 2, 0, 2],\n",
       "       [2, 2, 0, 1],\n",
       "       [2, 2, 1, 2],\n",
       "       [2, 2, 0, 1],\n",
       "       [2, 2, 0, 2],\n",
       "       [2, 2, 0, 1],\n",
       "       [0, 2, 1, 0],\n",
       "       [2, 2, 1, 2],\n",
       "       [0, 2, 2, 2],\n",
       "       [2, 2, 2, 1],\n",
       "       [2, 2, 0, 1],\n",
       "       [2, 2, 0, 0],\n",
       "       [2, 2, 2, 1],\n",
       "       [2, 2, 1, 2],\n",
       "       [0, 2, 2, 1],\n",
       "       [0, 3, 1, 1],\n",
       "       [0, 0, 1, 2],\n",
       "       [2, 2, 0, 2],\n",
       "       [0, 2, 1, 1],\n",
       "       [2, 2, 1, 0],\n",
       "       [3, 2, 0, 1],\n",
       "       [2, 2, 2, 2],\n",
       "       [0, 2, 0, 1],\n",
       "       [2, 2, 2, 2],\n",
       "       [2, 2, 2, 2],\n",
       "       [2, 2, 0, 1],\n",
       "       [2, 3, 1, 1],\n",
       "       [2, 2, 0, 2],\n",
       "       [3, 2, 1, 2],\n",
       "       [2, 2, 1, 1],\n",
       "       [0, 2, 2, 2],\n",
       "       [3, 2, 1, 2],\n",
       "       [2, 2, 1, 2],\n",
       "       [2, 2, 0, 2],\n",
       "       [0, 2, 1, 0],\n",
       "       [3, 2, 0, 1],\n",
       "       [2, 2, 1, 1],\n",
       "       [2, 2, 1, 0],\n",
       "       [2, 2, 1, 0],\n",
       "       [2, 1, 1, 1],\n",
       "       [0, 2, 1, 2],\n",
       "       [2, 2, 1, 2],\n",
       "       [2, 2, 1, 0],\n",
       "       [2, 2, 2, 0],\n",
       "       [2, 2, 1, 0],\n",
       "       [2, 2, 2, 2],\n",
       "       [0, 2, 2, 0],\n",
       "       [3, 2, 0, 2],\n",
       "       [0, 2, 1, 2],\n",
       "       [3, 2, 1, 2],\n",
       "       [3, 2, 0, 2],\n",
       "       [2, 2, 0, 1],\n",
       "       [3, 2, 2, 2],\n",
       "       [2, 2, 0, 1],\n",
       "       [2, 2, 1, 0],\n",
       "       [0, 2, 0, 2],\n",
       "       [0, 2, 0, 0],\n",
       "       [2, 2, 0, 1],\n",
       "       [3, 2, 1, 2],\n",
       "       [0, 2, 0, 2],\n",
       "       [2, 2, 1, 2],\n",
       "       [3, 2, 1, 2],\n",
       "       [3, 2, 1, 0],\n",
       "       [2, 2, 2, 2],\n",
       "       [2, 2, 1, 2],\n",
       "       [2, 2, 0, 0],\n",
       "       [2, 2, 1, 0],\n",
       "       [0, 2, 2, 2],\n",
       "       [2, 2, 0, 2],\n",
       "       [0, 3, 1, 1],\n",
       "       [3, 2, 1, 1],\n",
       "       [2, 2, 0, 0],\n",
       "       [3, 2, 2, 1],\n",
       "       [0, 2, 1, 0],\n",
       "       [2, 2, 2, 1],\n",
       "       [1, 2, 1, 0],\n",
       "       [2, 2, 1, 2],\n",
       "       [1, 2, 1, 2],\n",
       "       [2, 2, 2, 1],\n",
       "       [3, 2, 1, 2],\n",
       "       [3, 2, 1, 2],\n",
       "       [3, 2, 1, 2],\n",
       "       [3, 2, 0, 2],\n",
       "       [3, 2, 1, 2],\n",
       "       [2, 2, 1, 2],\n",
       "       [0, 2, 2, 2],\n",
       "       [3, 2, 1, 0],\n",
       "       [3, 2, 1, 2],\n",
       "       [2, 2, 1, 2],\n",
       "       [1, 2, 2, 2],\n",
       "       [3, 2, 0, 1],\n",
       "       [3, 2, 2, 2],\n",
       "       [2, 2, 0, 2],\n",
       "       [0, 2, 1, 2],\n",
       "       [2, 2, 1, 2],\n",
       "       [0, 2, 0, 1],\n",
       "       [2, 2, 0, 0],\n",
       "       [3, 2, 1, 2],\n",
       "       [2, 2, 1, 0],\n",
       "       [2, 2, 1, 0],\n",
       "       [0, 2, 0, 2],\n",
       "       [3, 2, 1, 2],\n",
       "       [2, 2, 0, 1],\n",
       "       [2, 2, 1, 2],\n",
       "       [3, 0, 1, 2],\n",
       "       [2, 2, 0, 1]], dtype=object)"
      ]
     },
     "execution_count": 116,
     "metadata": {},
     "output_type": "execute_result"
    }
   ],
   "source": [
    "x_base_pre"
   ]
  },
  {
   "cell_type": "code",
   "execution_count": 127,
   "id": "58abd036",
   "metadata": {},
   "outputs": [],
   "source": [
    "base_pre.iloc[:,[3,4,8,9]].to_csv('C:/Users/Jardi/Documents/Cursos/Machine Learning/Pratica/treino/base_pre.csv')"
   ]
  },
  {
   "cell_type": "code",
   "execution_count": null,
   "id": "168cebbc",
   "metadata": {},
   "outputs": [],
   "source": [
    "Experience \tEmployment_Status Company_Size \tRemote_Working_Ratio"
   ]
  },
  {
   "cell_type": "code",
   "execution_count": null,
   "id": "6912c67c",
   "metadata": {},
   "outputs": [],
   "source": []
  },
  {
   "cell_type": "code",
   "execution_count": 117,
   "id": "7d9a78f0",
   "metadata": {},
   "outputs": [],
   "source": [
    "from sklearn.model_selection import train_test_split"
   ]
  },
  {
   "cell_type": "code",
   "execution_count": 118,
   "id": "5e642d0b",
   "metadata": {},
   "outputs": [],
   "source": [
    "x_treinamento,x_teste,y_treinamento,y_teste=train_test_split(x_base_pre,y_base_pre,test_size=0.25,random_state=0)"
   ]
  },
  {
   "cell_type": "code",
   "execution_count": 119,
   "id": "9c03f92d",
   "metadata": {},
   "outputs": [
    {
     "data": {
      "text/plain": [
       "(array([[2, 1, 1, 1],\n",
       "        [3, 2, 1, 0],\n",
       "        [3, 2, 1, 2],\n",
       "        [3, 2, 0, 2],\n",
       "        [2, 2, 0, 2],\n",
       "        [3, 2, 1, 2],\n",
       "        [3, 2, 1, 2],\n",
       "        [3, 2, 1, 2],\n",
       "        [3, 2, 1, 2],\n",
       "        [3, 2, 1, 2],\n",
       "        [3, 2, 1, 2],\n",
       "        [3, 2, 1, 2],\n",
       "        [2, 2, 0, 2],\n",
       "        [3, 2, 1, 2],\n",
       "        [2, 2, 1, 2],\n",
       "        [3, 2, 1, 2],\n",
       "        [3, 2, 0, 1],\n",
       "        [0, 2, 0, 1],\n",
       "        [1, 2, 1, 2],\n",
       "        [3, 2, 1, 2],\n",
       "        [3, 2, 0, 2],\n",
       "        [2, 2, 1, 2],\n",
       "        [3, 2, 1, 0],\n",
       "        [3, 2, 1, 2],\n",
       "        [2, 2, 0, 1],\n",
       "        [2, 2, 0, 0],\n",
       "        [2, 2, 0, 2],\n",
       "        [3, 2, 1, 2],\n",
       "        [2, 2, 1, 1],\n",
       "        [3, 2, 1, 2],\n",
       "        [3, 2, 1, 2],\n",
       "        [1, 2, 0, 1],\n",
       "        [3, 2, 0, 2],\n",
       "        [2, 2, 0, 1],\n",
       "        [3, 2, 0, 1],\n",
       "        [2, 2, 1, 0],\n",
       "        [3, 2, 1, 2],\n",
       "        [0, 2, 1, 2],\n",
       "        [0, 2, 2, 2],\n",
       "        [0, 2, 1, 2],\n",
       "        [1, 2, 1, 2],\n",
       "        [3, 2, 1, 2],\n",
       "        [3, 2, 1, 2],\n",
       "        [3, 2, 1, 2],\n",
       "        [3, 2, 1, 2],\n",
       "        [2, 2, 1, 2],\n",
       "        [3, 2, 1, 2],\n",
       "        [0, 2, 2, 2],\n",
       "        [2, 2, 1, 0],\n",
       "        [0, 2, 1, 0],\n",
       "        [3, 2, 1, 2],\n",
       "        [2, 2, 0, 1],\n",
       "        [2, 2, 1, 0],\n",
       "        [3, 2, 1, 2],\n",
       "        [2, 2, 0, 2],\n",
       "        [1, 2, 0, 0],\n",
       "        [1, 2, 1, 2],\n",
       "        [3, 2, 1, 2],\n",
       "        [3, 2, 0, 1],\n",
       "        [2, 2, 0, 2],\n",
       "        [2, 2, 0, 1],\n",
       "        [2, 2, 0, 2],\n",
       "        [0, 2, 2, 0],\n",
       "        [3, 2, 0, 2],\n",
       "        [2, 2, 0, 0],\n",
       "        [2, 2, 1, 0],\n",
       "        [3, 2, 0, 0],\n",
       "        [3, 2, 1, 2],\n",
       "        [2, 2, 1, 0],\n",
       "        [3, 2, 0, 0],\n",
       "        [3, 2, 0, 0],\n",
       "        [3, 2, 2, 2],\n",
       "        [0, 3, 1, 1],\n",
       "        [0, 2, 0, 1],\n",
       "        [3, 2, 0, 2],\n",
       "        [3, 2, 1, 2],\n",
       "        [1, 2, 1, 2],\n",
       "        [3, 2, 0, 2],\n",
       "        [3, 2, 0, 2],\n",
       "        [3, 2, 1, 2],\n",
       "        [3, 2, 0, 0],\n",
       "        [3, 2, 0, 0],\n",
       "        [2, 2, 1, 2],\n",
       "        [0, 2, 2, 2],\n",
       "        [3, 2, 1, 2],\n",
       "        [3, 2, 1, 2],\n",
       "        [2, 2, 2, 1],\n",
       "        [3, 2, 1, 0],\n",
       "        [3, 0, 1, 2],\n",
       "        [2, 2, 1, 2],\n",
       "        [3, 2, 1, 2],\n",
       "        [3, 2, 1, 2],\n",
       "        [0, 2, 2, 0],\n",
       "        [3, 2, 2, 2],\n",
       "        [2, 2, 0, 1],\n",
       "        [3, 2, 1, 2],\n",
       "        [2, 2, 1, 0],\n",
       "        [2, 2, 2, 1],\n",
       "        [2, 2, 1, 0],\n",
       "        [3, 2, 2, 1],\n",
       "        [3, 2, 1, 2],\n",
       "        [3, 2, 1, 0],\n",
       "        [3, 2, 1, 2],\n",
       "        [3, 2, 0, 2],\n",
       "        [1, 2, 0, 2],\n",
       "        [2, 2, 0, 2],\n",
       "        [3, 2, 0, 0],\n",
       "        [0, 2, 0, 2],\n",
       "        [2, 2, 1, 2],\n",
       "        [3, 2, 0, 2],\n",
       "        [3, 2, 1, 0],\n",
       "        [2, 2, 0, 1],\n",
       "        [2, 2, 1, 2],\n",
       "        [3, 2, 1, 0],\n",
       "        [3, 2, 1, 0],\n",
       "        [2, 2, 0, 0],\n",
       "        [3, 2, 1, 2],\n",
       "        [2, 2, 1, 0],\n",
       "        [2, 2, 1, 0],\n",
       "        [0, 2, 1, 0],\n",
       "        [3, 2, 0, 2],\n",
       "        [2, 2, 1, 2],\n",
       "        [2, 2, 0, 1],\n",
       "        [2, 2, 1, 2],\n",
       "        [2, 2, 1, 1],\n",
       "        [1, 2, 0, 2],\n",
       "        [2, 2, 1, 2],\n",
       "        [2, 2, 0, 1],\n",
       "        [3, 2, 1, 2],\n",
       "        [3, 2, 0, 2],\n",
       "        [2, 2, 2, 2],\n",
       "        [3, 2, 0, 1],\n",
       "        [2, 2, 0, 2],\n",
       "        [2, 2, 0, 1],\n",
       "        [3, 2, 1, 2],\n",
       "        [0, 2, 0, 2],\n",
       "        [3, 2, 0, 0],\n",
       "        [3, 2, 1, 2],\n",
       "        [2, 2, 0, 1],\n",
       "        [2, 2, 0, 1],\n",
       "        [1, 2, 1, 2],\n",
       "        [1, 2, 1, 0],\n",
       "        [0, 2, 1, 2],\n",
       "        [2, 3, 1, 1],\n",
       "        [2, 2, 1, 0],\n",
       "        [2, 2, 1, 2],\n",
       "        [3, 2, 1, 2],\n",
       "        [2, 2, 0, 2],\n",
       "        [2, 2, 2, 0],\n",
       "        [3, 2, 1, 2],\n",
       "        [2, 2, 0, 2],\n",
       "        [3, 2, 2, 2],\n",
       "        [2, 2, 1, 2],\n",
       "        [3, 2, 0, 2],\n",
       "        [2, 2, 0, 0],\n",
       "        [0, 2, 0, 1],\n",
       "        [0, 2, 1, 1],\n",
       "        [3, 2, 0, 2],\n",
       "        [0, 2, 0, 2],\n",
       "        [3, 2, 0, 2],\n",
       "        [3, 2, 1, 0],\n",
       "        [3, 2, 0, 2],\n",
       "        [1, 2, 2, 2],\n",
       "        [2, 2, 0, 1],\n",
       "        [3, 2, 1, 2],\n",
       "        [0, 2, 1, 0],\n",
       "        [3, 2, 1, 2],\n",
       "        [3, 2, 1, 1],\n",
       "        [3, 2, 0, 1],\n",
       "        [2, 2, 1, 0],\n",
       "        [3, 2, 0, 2]], dtype=object),\n",
       " array([[2, 2, 0, 2],\n",
       "        [2, 2, 2, 1],\n",
       "        [3, 2, 0, 2],\n",
       "        [2, 2, 2, 2],\n",
       "        [2, 2, 1, 0],\n",
       "        [3, 2, 1, 2],\n",
       "        [0, 2, 1, 2],\n",
       "        [1, 2, 0, 1],\n",
       "        [2, 2, 1, 2],\n",
       "        [0, 2, 1, 2],\n",
       "        [2, 2, 2, 2],\n",
       "        [3, 2, 1, 2],\n",
       "        [3, 2, 1, 2],\n",
       "        [2, 2, 0, 2],\n",
       "        [2, 2, 1, 2],\n",
       "        [0, 0, 1, 2],\n",
       "        [1, 2, 0, 0],\n",
       "        [2, 2, 1, 2],\n",
       "        [3, 2, 1, 2],\n",
       "        [2, 2, 1, 0],\n",
       "        [0, 2, 0, 0],\n",
       "        [3, 2, 1, 2],\n",
       "        [0, 2, 2, 2],\n",
       "        [0, 2, 0, 2],\n",
       "        [3, 2, 1, 0],\n",
       "        [3, 2, 1, 2],\n",
       "        [3, 2, 1, 2],\n",
       "        [3, 2, 0, 0],\n",
       "        [3, 2, 1, 2],\n",
       "        [2, 2, 2, 2],\n",
       "        [3, 2, 1, 2],\n",
       "        [0, 2, 2, 1],\n",
       "        [0, 2, 2, 2],\n",
       "        [3, 2, 0, 2],\n",
       "        [3, 2, 0, 2],\n",
       "        [3, 2, 1, 0],\n",
       "        [3, 2, 1, 2],\n",
       "        [0, 2, 0, 2],\n",
       "        [3, 2, 0, 2],\n",
       "        [3, 2, 1, 0],\n",
       "        [3, 2, 1, 2],\n",
       "        [3, 2, 1, 2],\n",
       "        [2, 2, 2, 2],\n",
       "        [2, 2, 2, 1],\n",
       "        [3, 2, 1, 2],\n",
       "        [3, 2, 1, 2],\n",
       "        [3, 2, 0, 2],\n",
       "        [2, 2, 0, 2],\n",
       "        [2, 2, 1, 2],\n",
       "        [3, 2, 0, 2],\n",
       "        [3, 2, 0, 2],\n",
       "        [2, 2, 0, 2],\n",
       "        [0, 3, 1, 1],\n",
       "        [3, 2, 1, 0],\n",
       "        [3, 2, 0, 1],\n",
       "        [2, 2, 1, 2],\n",
       "        [3, 2, 1, 2]], dtype=object),\n",
       " array(['1MM A 5MM', '5MM A 10MM', '10MM A 15MM', '1MM A 5MM', '1MM A 5MM',\n",
       "        '10MM A 15MM', '15MM A 20MM', '10MM A 15MM', '15MM A 20MM',\n",
       "        '15MM A 20MM', '15MM A 20MM', '10MM A 15MM', '15MM A 20MM',\n",
       "        '10MM A 15MM', '15MM A 20MM', '10MM A 15MM', '10MM A 15MM',\n",
       "        '1MM A 5MM', '15MM A 20MM', '10MM A 15MM', '10MM A 15MM',\n",
       "        '1MM A 5MM', '15MM A 20MM', '10MM A 15MM', '1MM A 5MM',\n",
       "        '5MM A 10MM', '10MM A 15MM', '5MM A 10MM', '1MM A 5MM',\n",
       "        '10MM A 15MM', '5MM A 10MM', '15MM A 20MM', '10MM A 15MM',\n",
       "        '1MM A 5MM', '1MM A 5MM', '1MM A 5MM', '15MM A 20MM', '1MM A 5MM',\n",
       "        '1MM A 5MM', '1MM A 5MM', '5MM A 10MM', '10MM A 15MM',\n",
       "        '10MM A 15MM', '10MM A 15MM', '10MM A 15MM', '5MM A 10MM',\n",
       "        '10MM A 15MM', '1MM A 5MM', '10MM A 15MM', '1MM A 5MM',\n",
       "        '5MM A 10MM', '5MM A 10MM', '1MM A 5MM', '15MM A 20MM',\n",
       "        '1MM A 5MM', '10MM A 15MM', '15MM A 20MM', '1MM A 5MM',\n",
       "        '5MM A 10MM', '10MM A 15MM', '5MM A 10MM', '10MM A 15MM',\n",
       "        '1MM A 5MM', '15MM A 20MM', '5MM A 10MM', '5MM A 10MM',\n",
       "        '15MM A 20MM', '5MM A 10MM', '1MM A 5MM', '15MM A 20MM',\n",
       "        '10MM A 15MM', '15MM A 20MM', '1MM A 5MM', '5MM A 10MM',\n",
       "        '15MM A 20MM', '10MM A 15MM', '15MM A 20MM', '15MM A 20MM',\n",
       "        '15MM A 20MM', '10MM A 15MM', '10MM A 15MM', '15MM A 20MM',\n",
       "        '5MM A 10MM', '10MM A 15MM', '15MM A 20MM', '15MM A 20MM',\n",
       "        '1MM A 5MM', '5MM A 10MM', '5MM A 10MM', '10MM A 15MM',\n",
       "        '15MM A 20MM', '15MM A 20MM', '1MM A 5MM', '5MM A 10MM',\n",
       "        '5MM A 10MM', '5MM A 10MM', '5MM A 10MM', '5MM A 10MM',\n",
       "        '15MM A 20MM', '5MM A 10MM', '10MM A 15MM', '1MM A 5MM',\n",
       "        '15MM A 20MM', '10MM A 15MM', '15MM A 20MM', '15MM A 20MM',\n",
       "        '10MM A 15MM', '1MM A 5MM', '5MM A 10MM', '10MM A 15MM',\n",
       "        '15MM A 20MM', '1MM A 5MM', '5MM A 10MM', '10MM A 15MM',\n",
       "        '10MM A 15MM', '1MM A 5MM', '10MM A 15MM', '1MM A 5MM',\n",
       "        '5MM A 10MM', '1MM A 5MM', '10MM A 15MM', '10MM A 15MM',\n",
       "        '1MM A 5MM', '1MM A 5MM', '1MM A 5MM', '10MM A 15MM', '5MM A 10MM',\n",
       "        '1MM A 5MM', '5MM A 10MM', '10MM A 15MM', '1MM A 5MM', '1MM A 5MM',\n",
       "        '5MM A 10MM', '1MM A 5MM', '10MM A 15MM', '5MM A 10MM',\n",
       "        '15MM A 20MM', '15MM A 20MM', '5MM A 10MM', '5MM A 10MM',\n",
       "        '15MM A 20MM', '5MM A 10MM', '1MM A 5MM', '1MM A 5MM',\n",
       "        '5MM A 10MM', '15MM A 20MM', '15MM A 20MM', '10MM A 15MM',\n",
       "        '1MM A 5MM', '15MM A 20MM', '5MM A 10MM', '5MM A 10MM',\n",
       "        '5MM A 10MM', '10MM A 15MM', '5MM A 10MM', '15MM A 20MM',\n",
       "        '1MM A 5MM', '15MM A 20MM', '15MM A 20MM', '15MM A 20MM',\n",
       "        '10MM A 15MM', '10MM A 15MM', '5MM A 10MM', '10MM A 15MM',\n",
       "        '15MM A 20MM', '5MM A 10MM', '15MM A 20MM', '5MM A 10MM',\n",
       "        '1MM A 5MM', '10MM A 15MM', '5MM A 10MM'], dtype=object),\n",
       " array(['1MM A 5MM', '5MM A 10MM', '1MM A 5MM', '5MM A 10MM', '1MM A 5MM',\n",
       "        '15MM A 20MM', '5MM A 10MM', '15MM A 20MM', '5MM A 10MM',\n",
       "        '1MM A 5MM', '1MM A 5MM', '15MM A 20MM', '15MM A 20MM',\n",
       "        '10MM A 15MM', '1MM A 5MM', '1MM A 5MM', '15MM A 20MM',\n",
       "        '10MM A 15MM', '10MM A 15MM', '1MM A 5MM', '5MM A 10MM',\n",
       "        '15MM A 20MM', '5MM A 10MM', '5MM A 10MM', '15MM A 20MM',\n",
       "        '15MM A 20MM', '1MM A 5MM', '10MM A 15MM', '10MM A 15MM',\n",
       "        '1MM A 5MM', '5MM A 10MM', '1MM A 5MM', '5MM A 10MM',\n",
       "        '10MM A 15MM', '15MM A 20MM', '10MM A 15MM', '10MM A 15MM',\n",
       "        '5MM A 10MM', '10MM A 15MM', '15MM A 20MM', '5MM A 10MM',\n",
       "        '15MM A 20MM', '1MM A 5MM', '1MM A 5MM', '5MM A 10MM',\n",
       "        '5MM A 10MM', '10MM A 15MM', '15MM A 20MM', '1MM A 5MM',\n",
       "        '5MM A 10MM', '15MM A 20MM', '1MM A 5MM', '5MM A 10MM',\n",
       "        '15MM A 20MM', '10MM A 15MM', '1MM A 5MM', '15MM A 20MM'],\n",
       "       dtype=object))"
      ]
     },
     "execution_count": 119,
     "metadata": {},
     "output_type": "execute_result"
    }
   ],
   "source": [
    "x_treinamento,x_teste,y_treinamento,y_teste"
   ]
  },
  {
   "cell_type": "code",
   "execution_count": 120,
   "id": "ec37d6a8",
   "metadata": {},
   "outputs": [],
   "source": [
    "from sklearn.naive_bayes import GaussianNB"
   ]
  },
  {
   "cell_type": "code",
   "execution_count": 121,
   "id": "14204eea",
   "metadata": {},
   "outputs": [],
   "source": [
    "naive=GaussianNB()"
   ]
  },
  {
   "cell_type": "code",
   "execution_count": 122,
   "id": "6dd89362",
   "metadata": {},
   "outputs": [
    {
     "data": {
      "text/plain": [
       "GaussianNB()"
      ]
     },
     "execution_count": 122,
     "metadata": {},
     "output_type": "execute_result"
    }
   ],
   "source": [
    "naive.fit(x_treinamento,y_treinamento)"
   ]
  },
  {
   "cell_type": "code",
   "execution_count": 140,
   "id": "f3a93071",
   "metadata": {},
   "outputs": [],
   "source": [
    "previsao=naive.predict([[3, 2, 1, 2]])"
   ]
  },
  {
   "cell_type": "code",
   "execution_count": 141,
   "id": "af620060",
   "metadata": {},
   "outputs": [
    {
     "data": {
      "text/plain": [
       "array(['10MM A 15MM'], dtype='<U11')"
      ]
     },
     "execution_count": 141,
     "metadata": {},
     "output_type": "execute_result"
    }
   ],
   "source": [
    "previsao"
   ]
  },
  {
   "cell_type": "code",
   "execution_count": 142,
   "id": "0eb9aeb3",
   "metadata": {},
   "outputs": [
    {
     "data": {
      "text/plain": [
       "array(['10MM A 15MM', '15MM A 20MM', '1MM A 5MM', '5MM A 10MM'],\n",
       "      dtype='<U11')"
      ]
     },
     "execution_count": 142,
     "metadata": {},
     "output_type": "execute_result"
    }
   ],
   "source": [
    "naive.classes_"
   ]
  },
  {
   "cell_type": "code",
   "execution_count": 144,
   "id": "510833fc",
   "metadata": {},
   "outputs": [
    {
     "data": {
      "text/plain": [
       "array([46., 42., 41., 42.])"
      ]
     },
     "execution_count": 144,
     "metadata": {},
     "output_type": "execute_result"
    }
   ],
   "source": [
    "naive.class_count_"
   ]
  },
  {
   "cell_type": "code",
   "execution_count": 145,
   "id": "e30c4848",
   "metadata": {},
   "outputs": [],
   "source": [
    "from yellowbrick.classifier import ConfusionMatrix"
   ]
  },
  {
   "cell_type": "code",
   "execution_count": 147,
   "id": "1eb9af41",
   "metadata": {},
   "outputs": [
    {
     "data": {
      "text/plain": [
       "0.21052631578947367"
      ]
     },
     "execution_count": 147,
     "metadata": {},
     "output_type": "execute_result"
    },
    {
     "data": {
      "image/png": "[encoded data removed]",
      "text/plain": [
       "<Figure size 576x396 with 1 Axes>"
      ]
     },
     "metadata": {},
     "output_type": "display_data"
    }
   ],
   "source": [
    "cm=ConfusionMatrix(naive)\n",
    "cm.fit(x_treinamento,y_treinamento)\n",
    "cm.score(x_teste,y_teste)"
   ]
  },
  {
   "cell_type": "code",
   "execution_count": 148,
   "id": "3e698b68",
   "metadata": {},
   "outputs": [],
   "source": [
    "from sklearn.metrics import accuracy_score"
   ]
  },
  {
   "cell_type": "code",
   "execution_count": null,
   "id": "2945dc28",
   "metadata": {},
   "outputs": [],
   "source": []
  }
 ],
 "metadata": {
  "kernelspec": {
   "display_name": "Python 3 (ipykernel)",
   "language": "python",
   "name": "python3"
  },
  "language_info": {
   "codemirror_mode": {
    "name": "ipython",
    "version": 3
   },
   "file_extension": ".py",
   "mimetype": "text/x-python",
   "name": "python",
   "nbconvert_exporter": "python",
   "pygments_lexer": "ipython3",
   "version": "3.9.12"
  }
 },
 "nbformat": 4,
 "nbformat_minor": 5
}
