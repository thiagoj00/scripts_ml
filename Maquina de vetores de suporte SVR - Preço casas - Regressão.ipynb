{
 "cells": [
  {
   "cell_type": "code",
   "execution_count": 1,
   "id": "58d84877",
   "metadata": {},
   "outputs": [],
   "source": [
    "import pandas as pd"
   ]
  },
  {
   "cell_type": "code",
   "execution_count": 2,
   "id": "33cbb63d",
   "metadata": {},
   "outputs": [],
   "source": [
    "base_casas = pd.read_csv('C:/Users/Jardi/Documents/Cursos/Machine Learning/recursos do curso/Bases de dados/house_prices.csv')"
   ]
  },
  {
   "cell_type": "code",
   "execution_count": 3,
   "id": "da1865fa",
   "metadata": {},
   "outputs": [],
   "source": [
    "x_casas = base_casas.iloc[:,3:19].values"
   ]
  },
  {
   "cell_type": "code",
   "execution_count": 4,
   "id": "31f849cc",
   "metadata": {},
   "outputs": [],
   "source": [
    "y_casas = base_casas.iloc[:,2].values"
   ]
  },
  {
   "cell_type": "code",
   "execution_count": 6,
   "id": "87491759",
   "metadata": {},
   "outputs": [],
   "source": [
    "from sklearn.model_selection import train_test_split"
   ]
  },
  {
   "cell_type": "code",
   "execution_count": 7,
   "id": "4b8cfdca",
   "metadata": {},
   "outputs": [],
   "source": [
    "x_casas_treinamento,x_casas_teste,y_casas_treinamento,y_casas_teste=train_test_split(x_casas,y_casas,test_size=0.3)"
   ]
  },
  {
   "cell_type": "code",
   "execution_count": 8,
   "id": "2b9280e4",
   "metadata": {},
   "outputs": [],
   "source": [
    "from sklearn.preprocessing import StandardScaler"
   ]
  },
  {
   "cell_type": "code",
   "execution_count": 9,
   "id": "86039fc8",
   "metadata": {},
   "outputs": [],
   "source": [
    "escalonamento=StandardScaler()"
   ]
  },
  {
   "cell_type": "code",
   "execution_count": 12,
   "id": "0052dcd4",
   "metadata": {},
   "outputs": [],
   "source": [
    "x_casas_treinamento=escalonamento.fit_transform(x_casas_treinamento)\n",
    "x_casas_teste=escalonamento.fit_transform(x_casas_teste)\n",
    "y_casas_treinamento=escalonamento.fit_transform(y_casas_treinamento.reshape(-1,1))\n",
    "y_casas_teste=escalonamento.fit_transform(y_casas_teste.reshape(-1,1))"
   ]
  },
  {
   "cell_type": "code",
   "execution_count": 14,
   "id": "e24ea04c",
   "metadata": {},
   "outputs": [],
   "source": [
    "from sklearn.svm import SVR"
   ]
  },
  {
   "cell_type": "code",
   "execution_count": 15,
   "id": "1254e542",
   "metadata": {},
   "outputs": [
    {
     "name": "stderr",
     "output_type": "stream",
     "text": [
      "C:\\Users\\Jardi\\anaconda3\\lib\\site-packages\\sklearn\\utils\\validation.py:1184: DataConversionWarning: A column-vector y was passed when a 1d array was expected. Please change the shape of y to (n_samples, ), for example using ravel().\n",
      "  y = column_or_1d(y, warn=True)\n"
     ]
    }
   ],
   "source": [
    "regressor = SVR(kernel='linear')\n",
    "regressor.fit(x_casas_treinamento,y_casas_treinamento)\n",
    "previsao=regressor.predict(x_casas_teste)"
   ]
  },
  {
   "cell_type": "code",
   "execution_count": 16,
   "id": "3036cf47",
   "metadata": {},
   "outputs": [
    {
     "data": {
      "text/plain": [
       "array([-0.68932114,  0.52670634,  0.05496246, ..., -0.73232967,\n",
       "       -0.25222291,  0.20102839])"
      ]
     },
     "execution_count": 16,
     "metadata": {},
     "output_type": "execute_result"
    }
   ],
   "source": [
    "previsao"
   ]
  },
  {
   "cell_type": "code",
   "execution_count": 17,
   "id": "76d6b53a",
   "metadata": {},
   "outputs": [
    {
     "data": {
      "text/plain": [
       "0.6494630641793289"
      ]
     },
     "execution_count": 17,
     "metadata": {},
     "output_type": "execute_result"
    }
   ],
   "source": [
    "regressor.score(x_casas_teste,y_casas_teste)"
   ]
  },
  {
   "cell_type": "code",
   "execution_count": 18,
   "id": "60b1bda0",
   "metadata": {},
   "outputs": [
    {
     "data": {
      "text/plain": [
       "0.6619628232631565"
      ]
     },
     "execution_count": 18,
     "metadata": {},
     "output_type": "execute_result"
    }
   ],
   "source": [
    "regressor.score(x_casas_treinamento,y_casas_treinamento)"
   ]
  },
  {
   "cell_type": "code",
   "execution_count": 19,
   "id": "ecc19248",
   "metadata": {},
   "outputs": [
    {
     "name": "stderr",
     "output_type": "stream",
     "text": [
      "C:\\Users\\Jardi\\anaconda3\\lib\\site-packages\\sklearn\\utils\\validation.py:1184: DataConversionWarning: A column-vector y was passed when a 1d array was expected. Please change the shape of y to (n_samples, ), for example using ravel().\n",
      "  y = column_or_1d(y, warn=True)\n"
     ]
    }
   ],
   "source": [
    "regressor2 = SVR(kernel='poly')\n",
    "regressor2.fit(x_casas_treinamento,y_casas_treinamento)\n",
    "previsao=regressor2.predict(x_casas_teste)"
   ]
  },
  {
   "cell_type": "code",
   "execution_count": 23,
   "id": "5c1ee4d8",
   "metadata": {},
   "outputs": [
    {
     "data": {
      "text/plain": [
       "0.6584713183809914"
      ]
     },
     "execution_count": 23,
     "metadata": {},
     "output_type": "execute_result"
    }
   ],
   "source": [
    "regressor2.score(x_casas_teste,y_casas_teste)"
   ]
  },
  {
   "cell_type": "code",
   "execution_count": 21,
   "id": "c02fc8bc",
   "metadata": {},
   "outputs": [
    {
     "name": "stderr",
     "output_type": "stream",
     "text": [
      "C:\\Users\\Jardi\\anaconda3\\lib\\site-packages\\sklearn\\utils\\validation.py:1184: DataConversionWarning: A column-vector y was passed when a 1d array was expected. Please change the shape of y to (n_samples, ), for example using ravel().\n",
      "  y = column_or_1d(y, warn=True)\n"
     ]
    }
   ],
   "source": [
    "regressor3 = SVR(kernel='rbf')\n",
    "regressor3.fit(x_casas_treinamento,y_casas_treinamento)\n",
    "previsao=regressor3.predict(x_casas_teste)"
   ]
  },
  {
   "cell_type": "code",
   "execution_count": 24,
   "id": "e330ce60",
   "metadata": {},
   "outputs": [
    {
     "data": {
      "text/plain": [
       "0.7548802458374325"
      ]
     },
     "execution_count": 24,
     "metadata": {},
     "output_type": "execute_result"
    }
   ],
   "source": [
    "regressor3.score(x_casas_teste,y_casas_teste)"
   ]
  },
  {
   "cell_type": "code",
   "execution_count": null,
   "id": "c47694b4",
   "metadata": {},
   "outputs": [],
   "source": []
  }
 ],
 "metadata": {
  "kernelspec": {
   "display_name": "Python 3 (ipykernel)",
   "language": "python",
   "name": "python3"
  },
  "language_info": {
   "codemirror_mode": {
    "name": "ipython",
    "version": 3
   },
   "file_extension": ".py",
   "mimetype": "text/x-python",
   "name": "python",
   "nbconvert_exporter": "python",
   "pygments_lexer": "ipython3",
   "version": "3.9.18"
  }
 },
 "nbformat": 4,
 "nbformat_minor": 5
}
