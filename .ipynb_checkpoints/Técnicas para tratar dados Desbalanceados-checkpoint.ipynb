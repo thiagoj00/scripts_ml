{
 "cells": [
  {
   "cell_type": "code",
   "execution_count": 1,
   "id": "66394cc9",
   "metadata": {},
   "outputs": [],
   "source": [
    "import pandas as pd\n",
    "import numpy as np\n",
    "import seaborn as sns"
   ]
  },
  {
   "cell_type": "code",
   "execution_count": null,
   "id": "790a4326",
   "metadata": {},
   "outputs": [],
   "source": [
    "base_census = pd.read_csv('C:/Users/Jardi/Documents/Cursos/Machine Learning/recursos do curso/Bases de dados/census.csv')"
   ]
  },
  {
   "cell_type": "code",
   "execution_count": null,
   "id": "ded7a078",
   "metadata": {},
   "outputs": [],
   "source": [
    "base_census"
   ]
  },
  {
   "cell_type": "code",
   "execution_count": null,
   "id": "711db537",
   "metadata": {},
   "outputs": [],
   "source": [
    "np.unique(base_census['income'],return_counts=True)"
   ]
  },
  {
   "cell_type": "code",
   "execution_count": null,
   "id": "3f07eccb",
   "metadata": {},
   "outputs": [],
   "source": [
    "sns.countplot(x=base_census['income'])"
   ]
  },
  {
   "cell_type": "code",
   "execution_count": null,
   "id": "1a2e3b3e",
   "metadata": {},
   "outputs": [],
   "source": [
    "x_census=base_census.iloc[:,0:14].values\n",
    "x_census"
   ]
  },
  {
   "cell_type": "code",
   "execution_count": null,
   "id": "c23a99eb",
   "metadata": {},
   "outputs": [],
   "source": [
    "y_census=base_census.iloc[:,14].values\n",
    "y_census"
   ]
  },
  {
   "cell_type": "code",
   "execution_count": null,
   "id": "bdfcef20",
   "metadata": {},
   "outputs": [],
   "source": [
    "from sklearn.preprocessing import LabelEncoder"
   ]
  },
  {
   "cell_type": "code",
   "execution_count": null,
   "id": "7aae9fb6",
   "metadata": {},
   "outputs": [],
   "source": [
    "label_encoder_workclass = LabelEncoder()\n",
    "label_encoder_education = LabelEncoder()\n",
    "label_encoder_marital = LabelEncoder()\n",
    "label_encoder_occupation = LabelEncoder()\n",
    "label_encoder_relationship = LabelEncoder()\n",
    "label_encoder_race = LabelEncoder()\n",
    "label_encoder_sex = LabelEncoder()\n",
    "label_encoder_country = LabelEncoder()"
   ]
  },
  {
   "cell_type": "code",
   "execution_count": null,
   "id": "c4f2547a",
   "metadata": {},
   "outputs": [],
   "source": [
    "x_census[:,1]=label_encoder_workclass.fit_transform(x_census[:,1])\n",
    "x_census[:,3]=label_encoder_education.fit_transform(x_census[:,3])\n",
    "x_census[:,5]=label_encoder_marital.fit_transform(x_census[:,5])\n",
    "x_census[:,6]=label_encoder_occupation.fit_transform(x_census[:,6])\n",
    "x_census[:,7]=label_encoder_relationship.fit_transform(x_census[:,7])\n",
    "x_census[:,8]=label_encoder_race.fit_transform(x_census[:,8])\n",
    "x_census[:,9]=label_encoder_sex.fit_transform(x_census[:,9])\n",
    "x_census[:,13]=label_encoder_country.fit_transform(x_census[:,13])"
   ]
  },
  {
   "cell_type": "code",
   "execution_count": null,
   "id": "8f39ca77",
   "metadata": {},
   "outputs": [],
   "source": [
    "#subamostragem"
   ]
  },
  {
   "cell_type": "code",
   "execution_count": null,
   "id": "1190e173",
   "metadata": {},
   "outputs": [],
   "source": [
    "from imblearn.under_sampling import TomekLinks"
   ]
  },
  {
   "cell_type": "code",
   "execution_count": null,
   "id": "21eebf2a",
   "metadata": {},
   "outputs": [],
   "source": [
    "tl=TomekLinks(sampling_strategy='majority')\n",
    "x_under, y_under = tl.fit_resample(x_census, y_census)"
   ]
  },
  {
   "cell_type": "code",
   "execution_count": null,
   "id": "8eb88cf2",
   "metadata": {},
   "outputs": [],
   "source": [
    "x_under.shape, y_under.shape"
   ]
  },
  {
   "cell_type": "code",
   "execution_count": null,
   "id": "4851f4c4",
   "metadata": {},
   "outputs": [],
   "source": [
    "np.unique(y_census, return_counts=True)"
   ]
  },
  {
   "cell_type": "code",
   "execution_count": null,
   "id": "4877ccb5",
   "metadata": {},
   "outputs": [],
   "source": [
    "np.unique(y_under, return_counts=True)"
   ]
  },
  {
   "cell_type": "code",
   "execution_count": null,
   "id": "d4741312",
   "metadata": {},
   "outputs": [],
   "source": [
    "from sklearn.preprocessing import OneHotEncoder\n",
    "from sklearn.compose import ColumnTransformer\n",
    "onehotencoder_census=ColumnTransformer(transformers=[('OneHot',OneHotEncoder(),[1,3,5,6,7,8,9,13])], remainder='passthrough')\n",
    "x_under=onehotencoder_census.fit_transform(x_under).toarray()\n",
    "x_under"
   ]
  },
  {
   "cell_type": "code",
   "execution_count": null,
   "id": "74f1444e",
   "metadata": {},
   "outputs": [],
   "source": [
    "x_census.shape"
   ]
  },
  {
   "cell_type": "code",
   "execution_count": null,
   "id": "76870f9f",
   "metadata": {},
   "outputs": [],
   "source": [
    "x_under.shape"
   ]
  },
  {
   "cell_type": "code",
   "execution_count": null,
   "id": "c953aff4",
   "metadata": {},
   "outputs": [],
   "source": [
    "from sklearn.model_selection import train_test_split\n",
    "x_census_treinamento_under, x_census_teste_under, y_census_treinamento_under, y_census_teste_under = train_test_split(x_under, y_under, test_size=0.15, random_state=0)\n",
    "x_census_treinamento_under.shape, x_census_teste_under.shape"
   ]
  },
  {
   "cell_type": "code",
   "execution_count": null,
   "id": "db24cb98",
   "metadata": {},
   "outputs": [],
   "source": [
    "from sklearn.ensemble import RandomForestClassifier\n",
    "Floresta_census=RandomForestClassifier(n_estimators=100,criterion='entropy',random_state=0)\n",
    "Floresta_census.fit(x_census_treinamento_under,y_census_treinamento_under)"
   ]
  },
  {
   "cell_type": "code",
   "execution_count": null,
   "id": "be6963af",
   "metadata": {},
   "outputs": [],
   "source": [
    "from sklearn.metrics import accuracy_score\n",
    "previsoes = Floresta_census.predict(x_census_teste_under)\n",
    "accuracy_score(y_census_teste_under,previsoes)"
   ]
  },
  {
   "cell_type": "code",
   "execution_count": null,
   "id": "6f060122",
   "metadata": {},
   "outputs": [],
   "source": [
    "#sobamostragem com SMOTE"
   ]
  },
  {
   "cell_type": "code",
   "execution_count": 2,
   "id": "1b38413b",
   "metadata": {},
   "outputs": [],
   "source": [
    "base_census = pd.read_csv('C:/Users/Jardi/Documents/Cursos/Machine Learning/recursos do curso/Bases de dados/census.csv')"
   ]
  },
  {
   "cell_type": "code",
   "execution_count": 3,
   "id": "f0714039",
   "metadata": {},
   "outputs": [
    {
     "data": {
      "text/plain": [
       "array([[39, ' State-gov', 77516, ..., 0, 40, ' United-States'],\n",
       "       [50, ' Self-emp-not-inc', 83311, ..., 0, 13, ' United-States'],\n",
       "       [38, ' Private', 215646, ..., 0, 40, ' United-States'],\n",
       "       ...,\n",
       "       [58, ' Private', 151910, ..., 0, 40, ' United-States'],\n",
       "       [22, ' Private', 201490, ..., 0, 20, ' United-States'],\n",
       "       [52, ' Self-emp-inc', 287927, ..., 0, 40, ' United-States']],\n",
       "      dtype=object)"
      ]
     },
     "execution_count": 3,
     "metadata": {},
     "output_type": "execute_result"
    }
   ],
   "source": [
    "x_census=base_census.iloc[:,0:14].values\n",
    "x_census"
   ]
  },
  {
   "cell_type": "code",
   "execution_count": 4,
   "id": "85ad4825",
   "metadata": {},
   "outputs": [
    {
     "data": {
      "text/plain": [
       "array([' <=50K', ' <=50K', ' <=50K', ..., ' <=50K', ' <=50K', ' >50K'],\n",
       "      dtype=object)"
      ]
     },
     "execution_count": 4,
     "metadata": {},
     "output_type": "execute_result"
    }
   ],
   "source": [
    "y_census=base_census.iloc[:,14].values\n",
    "y_census"
   ]
  },
  {
   "cell_type": "code",
   "execution_count": 5,
   "id": "8853a18a",
   "metadata": {},
   "outputs": [],
   "source": [
    "from sklearn.preprocessing import LabelEncoder"
   ]
  },
  {
   "cell_type": "code",
   "execution_count": 6,
   "id": "2ab57422",
   "metadata": {},
   "outputs": [],
   "source": [
    "label_encoder_workclass = LabelEncoder()\n",
    "label_encoder_education = LabelEncoder()\n",
    "label_encoder_marital = LabelEncoder()\n",
    "label_encoder_occupation = LabelEncoder()\n",
    "label_encoder_relationship = LabelEncoder()\n",
    "label_encoder_race = LabelEncoder()\n",
    "label_encoder_sex = LabelEncoder()\n",
    "label_encoder_country = LabelEncoder()"
   ]
  },
  {
   "cell_type": "code",
   "execution_count": 7,
   "id": "24368cf3",
   "metadata": {},
   "outputs": [],
   "source": [
    "x_census[:,1]=label_encoder_workclass.fit_transform(x_census[:,1])\n",
    "x_census[:,3]=label_encoder_education.fit_transform(x_census[:,3])\n",
    "x_census[:,5]=label_encoder_marital.fit_transform(x_census[:,5])\n",
    "x_census[:,6]=label_encoder_occupation.fit_transform(x_census[:,6])\n",
    "x_census[:,7]=label_encoder_relationship.fit_transform(x_census[:,7])\n",
    "x_census[:,8]=label_encoder_race.fit_transform(x_census[:,8])\n",
    "x_census[:,9]=label_encoder_sex.fit_transform(x_census[:,9])\n",
    "x_census[:,13]=label_encoder_country.fit_transform(x_census[:,13])"
   ]
  },
  {
   "cell_type": "code",
   "execution_count": 8,
   "id": "e0db6714",
   "metadata": {},
   "outputs": [],
   "source": [
    "from imblearn.over_sampling import SMOTE"
   ]
  },
  {
   "cell_type": "code",
   "execution_count": 9,
   "id": "8d0880f2",
   "metadata": {},
   "outputs": [
    {
     "data": {
      "text/plain": [
       "(32561, 14)"
      ]
     },
     "execution_count": 9,
     "metadata": {},
     "output_type": "execute_result"
    }
   ],
   "source": [
    "x_census.shape"
   ]
  },
  {
   "cell_type": "code",
   "execution_count": 10,
   "id": "a1f91571",
   "metadata": {},
   "outputs": [],
   "source": [
    "smote = SMOTE(sampling_strategy='minority')\n",
    "x_over, y_over = smote.fit_resample(x_census, y_census)"
   ]
  },
  {
   "cell_type": "code",
   "execution_count": 11,
   "id": "d0089aa2",
   "metadata": {},
   "outputs": [
    {
     "data": {
      "text/plain": [
       "(49440, 14)"
      ]
     },
     "execution_count": 11,
     "metadata": {},
     "output_type": "execute_result"
    }
   ],
   "source": [
    "x_over.shape"
   ]
  },
  {
   "cell_type": "code",
   "execution_count": 12,
   "id": "f0698604",
   "metadata": {},
   "outputs": [
    {
     "data": {
      "text/plain": [
       "(49440,)"
      ]
     },
     "execution_count": 12,
     "metadata": {},
     "output_type": "execute_result"
    }
   ],
   "source": [
    "y_over.shape"
   ]
  },
  {
   "cell_type": "code",
   "execution_count": 13,
   "id": "fd63436d",
   "metadata": {},
   "outputs": [
    {
     "data": {
      "text/plain": [
       "(array([' <=50K', ' >50K'], dtype=object), array([24720,  7841], dtype=int64))"
      ]
     },
     "execution_count": 13,
     "metadata": {},
     "output_type": "execute_result"
    }
   ],
   "source": [
    "np.unique(y_census, return_counts=True)"
   ]
  },
  {
   "cell_type": "code",
   "execution_count": 14,
   "id": "080ebeb9",
   "metadata": {},
   "outputs": [
    {
     "data": {
      "text/plain": [
       "(array([' <=50K', ' >50K'], dtype=object), array([24720, 24720], dtype=int64))"
      ]
     },
     "execution_count": 14,
     "metadata": {},
     "output_type": "execute_result"
    }
   ],
   "source": [
    "np.unique(y_over, return_counts=True)"
   ]
  },
  {
   "cell_type": "code",
   "execution_count": null,
   "id": "06664d0f",
   "metadata": {},
   "outputs": [],
   "source": [
    "# não iremos rodar o onehotencoder por consumir muita memoria##\n",
    "#from sklearn.preprocessing import OneHotEncoder\n",
    "#from sklearn.compose import ColumnTransformer\n",
    "#onehotencoder_census=ColumnTransformer(transformers=[('OneHot',OneHotEncoder(),[1,3,5,6,7,8,9,13])], remainder='passthrough')\n",
    "#x_census=onehotencoder_census.fit_transform(x_over).toarray()\n",
    "#x_census"
   ]
  },
  {
   "cell_type": "code",
   "execution_count": 15,
   "id": "137257bc",
   "metadata": {},
   "outputs": [
    {
     "data": {
      "text/plain": [
       "((42024, 14), (7416, 14))"
      ]
     },
     "execution_count": 15,
     "metadata": {},
     "output_type": "execute_result"
    }
   ],
   "source": [
    "from sklearn.model_selection import train_test_split\n",
    "x_census_treinamento_over, x_census_teste_over, y_census_treinamento_over, y_census_teste_over = train_test_split(x_over, y_over, test_size=0.15, random_state=0)\n",
    "x_census_treinamento_over.shape, x_census_teste_over.shape"
   ]
  },
  {
   "cell_type": "code",
   "execution_count": 16,
   "id": "e96b1b82",
   "metadata": {},
   "outputs": [
    {
     "data": {
      "text/html": [
       "<style>#sk-container-id-1 {color: black;}#sk-container-id-1 pre{padding: 0;}#sk-container-id-1 div.sk-toggleable {background-color: white;}#sk-container-id-1 label.sk-toggleable__label {cursor: pointer;display: block;width: 100%;margin-bottom: 0;padding: 0.3em;box-sizing: border-box;text-align: center;}#sk-container-id-1 label.sk-toggleable__label-arrow:before {content: \"▸\";float: left;margin-right: 0.25em;color: #696969;}#sk-container-id-1 label.sk-toggleable__label-arrow:hover:before {color: black;}#sk-container-id-1 div.sk-estimator:hover label.sk-toggleable__label-arrow:before {color: black;}#sk-container-id-1 div.sk-toggleable__content {max-height: 0;max-width: 0;overflow: hidden;text-align: left;background-color: #f0f8ff;}#sk-container-id-1 div.sk-toggleable__content pre {margin: 0.2em;color: black;border-radius: 0.25em;background-color: #f0f8ff;}#sk-container-id-1 input.sk-toggleable__control:checked~div.sk-toggleable__content {max-height: 200px;max-width: 100%;overflow: auto;}#sk-container-id-1 input.sk-toggleable__control:checked~label.sk-toggleable__label-arrow:before {content: \"▾\";}#sk-container-id-1 div.sk-estimator input.sk-toggleable__control:checked~label.sk-toggleable__label {background-color: #d4ebff;}#sk-container-id-1 div.sk-label input.sk-toggleable__control:checked~label.sk-toggleable__label {background-color: #d4ebff;}#sk-container-id-1 input.sk-hidden--visually {border: 0;clip: rect(1px 1px 1px 1px);clip: rect(1px, 1px, 1px, 1px);height: 1px;margin: -1px;overflow: hidden;padding: 0;position: absolute;width: 1px;}#sk-container-id-1 div.sk-estimator {font-family: monospace;background-color: #f0f8ff;border: 1px dotted black;border-radius: 0.25em;box-sizing: border-box;margin-bottom: 0.5em;}#sk-container-id-1 div.sk-estimator:hover {background-color: #d4ebff;}#sk-container-id-1 div.sk-parallel-item::after {content: \"\";width: 100%;border-bottom: 1px solid gray;flex-grow: 1;}#sk-container-id-1 div.sk-label:hover label.sk-toggleable__label {background-color: #d4ebff;}#sk-container-id-1 div.sk-serial::before {content: \"\";position: absolute;border-left: 1px solid gray;box-sizing: border-box;top: 0;bottom: 0;left: 50%;z-index: 0;}#sk-container-id-1 div.sk-serial {display: flex;flex-direction: column;align-items: center;background-color: white;padding-right: 0.2em;padding-left: 0.2em;position: relative;}#sk-container-id-1 div.sk-item {position: relative;z-index: 1;}#sk-container-id-1 div.sk-parallel {display: flex;align-items: stretch;justify-content: center;background-color: white;position: relative;}#sk-container-id-1 div.sk-item::before, #sk-container-id-1 div.sk-parallel-item::before {content: \"\";position: absolute;border-left: 1px solid gray;box-sizing: border-box;top: 0;bottom: 0;left: 50%;z-index: -1;}#sk-container-id-1 div.sk-parallel-item {display: flex;flex-direction: column;z-index: 1;position: relative;background-color: white;}#sk-container-id-1 div.sk-parallel-item:first-child::after {align-self: flex-end;width: 50%;}#sk-container-id-1 div.sk-parallel-item:last-child::after {align-self: flex-start;width: 50%;}#sk-container-id-1 div.sk-parallel-item:only-child::after {width: 0;}#sk-container-id-1 div.sk-dashed-wrapped {border: 1px dashed gray;margin: 0 0.4em 0.5em 0.4em;box-sizing: border-box;padding-bottom: 0.4em;background-color: white;}#sk-container-id-1 div.sk-label label {font-family: monospace;font-weight: bold;display: inline-block;line-height: 1.2em;}#sk-container-id-1 div.sk-label-container {text-align: center;}#sk-container-id-1 div.sk-container {/* jupyter's `normalize.less` sets `[hidden] { display: none; }` but bootstrap.min.css set `[hidden] { display: none !important; }` so we also need the `!important` here to be able to override the default hidden behavior on the sphinx rendered scikit-learn.org. See: https://github.com/scikit-learn/scikit-learn/issues/21755 */display: inline-block !important;position: relative;}#sk-container-id-1 div.sk-text-repr-fallback {display: none;}</style><div id=\"sk-container-id-1\" class=\"sk-top-container\"><div class=\"sk-text-repr-fallback\"><pre>RandomForestClassifier(criterion=&#x27;entropy&#x27;, random_state=0)</pre><b>In a Jupyter environment, please rerun this cell to show the HTML representation or trust the notebook. <br />On GitHub, the HTML representation is unable to render, please try loading this page with nbviewer.org.</b></div><div class=\"sk-container\" hidden><div class=\"sk-item\"><div class=\"sk-estimator sk-toggleable\"><input class=\"sk-toggleable__control sk-hidden--visually\" id=\"sk-estimator-id-1\" type=\"checkbox\" checked><label for=\"sk-estimator-id-1\" class=\"sk-toggleable__label sk-toggleable__label-arrow\">RandomForestClassifier</label><div class=\"sk-toggleable__content\"><pre>RandomForestClassifier(criterion=&#x27;entropy&#x27;, random_state=0)</pre></div></div></div></div></div>"
      ],
      "text/plain": [
       "RandomForestClassifier(criterion='entropy', random_state=0)"
      ]
     },
     "execution_count": 16,
     "metadata": {},
     "output_type": "execute_result"
    }
   ],
   "source": [
    "from sklearn.ensemble import RandomForestClassifier\n",
    "Floresta_census=RandomForestClassifier(n_estimators=100,criterion='entropy',random_state=0)\n",
    "Floresta_census.fit(x_census_treinamento_over,y_census_treinamento_over)"
   ]
  },
  {
   "cell_type": "code",
   "execution_count": 17,
   "id": "f17bc5e6",
   "metadata": {},
   "outputs": [
    {
     "data": {
      "text/plain": [
       "0.9079018338727076"
      ]
     },
     "execution_count": 17,
     "metadata": {},
     "output_type": "execute_result"
    }
   ],
   "source": [
    "from sklearn.metrics import accuracy_score\n",
    "previsoes = Floresta_census.predict(x_census_teste_over)\n",
    "accuracy_score(y_census_teste_over,previsoes)"
   ]
  },
  {
   "cell_type": "code",
   "execution_count": null,
   "id": "f10b4c95",
   "metadata": {},
   "outputs": [],
   "source": []
  }
 ],
 "metadata": {
  "kernelspec": {
   "display_name": "Python 3 (ipykernel)",
   "language": "python",
   "name": "python3"
  },
  "language_info": {
   "codemirror_mode": {
    "name": "ipython",
    "version": 3
   },
   "file_extension": ".py",
   "mimetype": "text/x-python",
   "name": "python",
   "nbconvert_exporter": "python",
   "pygments_lexer": "ipython3",
   "version": "3.9.18"
  }
 },
 "nbformat": 4,
 "nbformat_minor": 5
}
