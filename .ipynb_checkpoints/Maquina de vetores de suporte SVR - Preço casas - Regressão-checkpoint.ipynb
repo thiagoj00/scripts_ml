{
 "cells": [
  {
   "cell_type": "code",
   "execution_count": 1,
   "id": "58d84877",
   "metadata": {},
   "outputs": [],
   "source": [
    "import pandas as pd"
   ]
  },
  {
   "cell_type": "code",
   "execution_count": 2,
   "id": "33cbb63d",
   "metadata": {},
   "outputs": [],
   "source": [
    "base_casas = pd.read_csv('C:/Users/Jardi/Documents/Cursos/Machine Learning/recursos do curso/Bases de dados/house_prices.csv')"
   ]
  },
  {
   "cell_type": "code",
   "execution_count": 3,
   "id": "da1865fa",
   "metadata": {},
   "outputs": [],
   "source": [
    "x_casas = base_casas.iloc[:,3:19].values"
   ]
  },
  {
   "cell_type": "code",
   "execution_count": 4,
   "id": "31f849cc",
   "metadata": {},
   "outputs": [],
   "source": [
    "y_casas = base_casas.iloc[:,2].values"
   ]
  },
  {
   "cell_type": "code",
   "execution_count": 5,
   "id": "87491759",
   "metadata": {},
   "outputs": [],
   "source": [
    "from sklearn.model_selection import train_test_split"
   ]
  },
  {
   "cell_type": "code",
   "execution_count": 6,
   "id": "4b8cfdca",
   "metadata": {},
   "outputs": [],
   "source": [
    "x_casas_treinamento,x_casas_teste,y_casas_treinamento,y_casas_teste=train_test_split(x_casas,y_casas,test_size=0.3)"
   ]
  },
  {
   "cell_type": "code",
   "execution_count": 7,
   "id": "e24ea04c",
   "metadata": {},
   "outputs": [],
   "source": [
    "from sklearn.svm import SVR"
   ]
  },
  {
   "cell_type": "code",
   "execution_count": null,
   "id": "1254e542",
   "metadata": {},
   "outputs": [],
   "source": [
    "regressor = SVR(kernel='linear')\n",
    "regressor.fit(x_casas_treinamento,y_casas_treinamento)\n",
    "previsao=regressor.predict(x_casas_teste)"
   ]
  },
  {
   "cell_type": "code",
   "execution_count": null,
   "id": "3036cf47",
   "metadata": {},
   "outputs": [],
   "source": []
  }
 ],
 "metadata": {
  "kernelspec": {
   "display_name": "Python 3 (ipykernel)",
   "language": "python",
   "name": "python3"
  },
  "language_info": {
   "codemirror_mode": {
    "name": "ipython",
    "version": 3
   },
   "file_extension": ".py",
   "mimetype": "text/x-python",
   "name": "python",
   "nbconvert_exporter": "python",
   "pygments_lexer": "ipython3",
   "version": "3.9.18"
  }
 },
 "nbformat": 4,
 "nbformat_minor": 5
}
