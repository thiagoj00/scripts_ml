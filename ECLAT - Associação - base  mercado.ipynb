{
 "cells": [
  {
   "cell_type": "code",
   "execution_count": 1,
   "id": "06c908d4",
   "metadata": {},
   "outputs": [
    {
     "name": "stdout",
     "output_type": "stream",
     "text": [
      "Collecting pyECLAT\n",
      "  Downloading pyECLAT-1.0.2-py3-none-any.whl.metadata (4.0 kB)\n",
      "Requirement already satisfied: pandas>=0.25.3 in c:\\users\\jardi\\anaconda3\\lib\\site-packages (from pyECLAT) (1.4.2)\n",
      "Requirement already satisfied: numpy>=1.17.4 in c:\\users\\jardi\\anaconda3\\lib\\site-packages (from pyECLAT) (1.26.4)\n",
      "Requirement already satisfied: tqdm>=4.41.1 in c:\\users\\jardi\\anaconda3\\lib\\site-packages (from pyECLAT) (4.65.0)\n",
      "Requirement already satisfied: python-dateutil>=2.8.1 in c:\\users\\jardi\\anaconda3\\lib\\site-packages (from pandas>=0.25.3->pyECLAT) (2.8.2)\n",
      "Requirement already satisfied: pytz>=2020.1 in c:\\users\\jardi\\anaconda3\\lib\\site-packages (from pandas>=0.25.3->pyECLAT) (2023.3.post1)\n",
      "Requirement already satisfied: colorama in c:\\users\\jardi\\anaconda3\\lib\\site-packages (from tqdm>=4.41.1->pyECLAT) (0.4.6)\n",
      "Requirement already satisfied: six>=1.5 in c:\\users\\jardi\\anaconda3\\lib\\site-packages (from python-dateutil>=2.8.1->pandas>=0.25.3->pyECLAT) (1.16.0)\n",
      "Downloading pyECLAT-1.0.2-py3-none-any.whl (6.3 kB)\n",
      "Installing collected packages: pyECLAT\n",
      "Successfully installed pyECLAT-1.0.2\n"
     ]
    }
   ],
   "source": [
    "!pip install pyECLAT"
   ]
  },
  {
   "cell_type": "code",
   "execution_count": 3,
   "id": "5ddef7cf",
   "metadata": {},
   "outputs": [],
   "source": [
    "import pandas as pd"
   ]
  },
  {
   "cell_type": "code",
   "execution_count": 4,
   "id": "9a629707",
   "metadata": {},
   "outputs": [],
   "source": [
    "base_mercado1 = pd.read_csv('C:/Users/Jardi/Documents/Cursos/Machine Learning/recursos do curso/Bases de dados/mercado.csv',header=None)"
   ]
  },
  {
   "cell_type": "code",
   "execution_count": 5,
   "id": "19a6f4c5",
   "metadata": {},
   "outputs": [
    {
     "data": {
      "text/html": [
       "<div>\n",
       "<style scoped>\n",
       "    .dataframe tbody tr th:only-of-type {\n",
       "        vertical-align: middle;\n",
       "    }\n",
       "\n",
       "    .dataframe tbody tr th {\n",
       "        vertical-align: top;\n",
       "    }\n",
       "\n",
       "    .dataframe thead th {\n",
       "        text-align: right;\n",
       "    }\n",
       "</style>\n",
       "<table border=\"1\" class=\"dataframe\">\n",
       "  <thead>\n",
       "    <tr style=\"text-align: right;\">\n",
       "      <th></th>\n",
       "      <th>0</th>\n",
       "      <th>1</th>\n",
       "      <th>2</th>\n",
       "      <th>3</th>\n",
       "    </tr>\n",
       "  </thead>\n",
       "  <tbody>\n",
       "    <tr>\n",
       "      <th>0</th>\n",
       "      <td>leite</td>\n",
       "      <td>cerveja</td>\n",
       "      <td>pao</td>\n",
       "      <td>manteiga</td>\n",
       "    </tr>\n",
       "    <tr>\n",
       "      <th>1</th>\n",
       "      <td>cafe</td>\n",
       "      <td>pao</td>\n",
       "      <td>manteiga</td>\n",
       "      <td>NaN</td>\n",
       "    </tr>\n",
       "    <tr>\n",
       "      <th>2</th>\n",
       "      <td>cafe</td>\n",
       "      <td>pao</td>\n",
       "      <td>manteiga</td>\n",
       "      <td>NaN</td>\n",
       "    </tr>\n",
       "    <tr>\n",
       "      <th>3</th>\n",
       "      <td>leite</td>\n",
       "      <td>cafe</td>\n",
       "      <td>pao</td>\n",
       "      <td>manteiga</td>\n",
       "    </tr>\n",
       "    <tr>\n",
       "      <th>4</th>\n",
       "      <td>cerveja</td>\n",
       "      <td>NaN</td>\n",
       "      <td>NaN</td>\n",
       "      <td>NaN</td>\n",
       "    </tr>\n",
       "    <tr>\n",
       "      <th>5</th>\n",
       "      <td>manteiga</td>\n",
       "      <td>NaN</td>\n",
       "      <td>NaN</td>\n",
       "      <td>NaN</td>\n",
       "    </tr>\n",
       "    <tr>\n",
       "      <th>6</th>\n",
       "      <td>pao</td>\n",
       "      <td>NaN</td>\n",
       "      <td>NaN</td>\n",
       "      <td>NaN</td>\n",
       "    </tr>\n",
       "    <tr>\n",
       "      <th>7</th>\n",
       "      <td>feijao</td>\n",
       "      <td>NaN</td>\n",
       "      <td>NaN</td>\n",
       "      <td>NaN</td>\n",
       "    </tr>\n",
       "    <tr>\n",
       "      <th>8</th>\n",
       "      <td>arroz</td>\n",
       "      <td>feijao</td>\n",
       "      <td>NaN</td>\n",
       "      <td>NaN</td>\n",
       "    </tr>\n",
       "    <tr>\n",
       "      <th>9</th>\n",
       "      <td>arroz</td>\n",
       "      <td>NaN</td>\n",
       "      <td>NaN</td>\n",
       "      <td>NaN</td>\n",
       "    </tr>\n",
       "  </tbody>\n",
       "</table>\n",
       "</div>"
      ],
      "text/plain": [
       "          0        1         2         3\n",
       "0     leite  cerveja       pao  manteiga\n",
       "1      cafe      pao  manteiga       NaN\n",
       "2      cafe      pao  manteiga       NaN\n",
       "3     leite     cafe       pao  manteiga\n",
       "4   cerveja      NaN       NaN       NaN\n",
       "5  manteiga      NaN       NaN       NaN\n",
       "6       pao      NaN       NaN       NaN\n",
       "7    feijao      NaN       NaN       NaN\n",
       "8     arroz   feijao       NaN       NaN\n",
       "9     arroz      NaN       NaN       NaN"
      ]
     },
     "execution_count": 5,
     "metadata": {},
     "output_type": "execute_result"
    }
   ],
   "source": [
    "base_mercado1"
   ]
  },
  {
   "cell_type": "code",
   "execution_count": 6,
   "id": "136c15e4",
   "metadata": {},
   "outputs": [],
   "source": [
    "from pyECLAT import ECLAT\n",
    "eclat = ECLAT(data = base_mercado1)"
   ]
  },
  {
   "cell_type": "code",
   "execution_count": 7,
   "id": "f5f8ce3f",
   "metadata": {},
   "outputs": [
    {
     "data": {
      "text/html": [
       "<div>\n",
       "<style scoped>\n",
       "    .dataframe tbody tr th:only-of-type {\n",
       "        vertical-align: middle;\n",
       "    }\n",
       "\n",
       "    .dataframe tbody tr th {\n",
       "        vertical-align: top;\n",
       "    }\n",
       "\n",
       "    .dataframe thead th {\n",
       "        text-align: right;\n",
       "    }\n",
       "</style>\n",
       "<table border=\"1\" class=\"dataframe\">\n",
       "  <thead>\n",
       "    <tr style=\"text-align: right;\">\n",
       "      <th></th>\n",
       "      <th>cafe</th>\n",
       "      <th>arroz</th>\n",
       "      <th>cerveja</th>\n",
       "      <th>leite</th>\n",
       "      <th>feijao</th>\n",
       "      <th>pao</th>\n",
       "      <th>manteiga</th>\n",
       "    </tr>\n",
       "  </thead>\n",
       "  <tbody>\n",
       "    <tr>\n",
       "      <th>0</th>\n",
       "      <td>0</td>\n",
       "      <td>0</td>\n",
       "      <td>1</td>\n",
       "      <td>1</td>\n",
       "      <td>0</td>\n",
       "      <td>1</td>\n",
       "      <td>1</td>\n",
       "    </tr>\n",
       "    <tr>\n",
       "      <th>1</th>\n",
       "      <td>1</td>\n",
       "      <td>0</td>\n",
       "      <td>0</td>\n",
       "      <td>0</td>\n",
       "      <td>0</td>\n",
       "      <td>1</td>\n",
       "      <td>1</td>\n",
       "    </tr>\n",
       "    <tr>\n",
       "      <th>2</th>\n",
       "      <td>1</td>\n",
       "      <td>0</td>\n",
       "      <td>0</td>\n",
       "      <td>0</td>\n",
       "      <td>0</td>\n",
       "      <td>1</td>\n",
       "      <td>1</td>\n",
       "    </tr>\n",
       "    <tr>\n",
       "      <th>3</th>\n",
       "      <td>1</td>\n",
       "      <td>0</td>\n",
       "      <td>0</td>\n",
       "      <td>1</td>\n",
       "      <td>0</td>\n",
       "      <td>1</td>\n",
       "      <td>1</td>\n",
       "    </tr>\n",
       "    <tr>\n",
       "      <th>4</th>\n",
       "      <td>0</td>\n",
       "      <td>0</td>\n",
       "      <td>1</td>\n",
       "      <td>0</td>\n",
       "      <td>0</td>\n",
       "      <td>0</td>\n",
       "      <td>0</td>\n",
       "    </tr>\n",
       "    <tr>\n",
       "      <th>5</th>\n",
       "      <td>0</td>\n",
       "      <td>0</td>\n",
       "      <td>0</td>\n",
       "      <td>0</td>\n",
       "      <td>0</td>\n",
       "      <td>0</td>\n",
       "      <td>1</td>\n",
       "    </tr>\n",
       "    <tr>\n",
       "      <th>6</th>\n",
       "      <td>0</td>\n",
       "      <td>0</td>\n",
       "      <td>0</td>\n",
       "      <td>0</td>\n",
       "      <td>0</td>\n",
       "      <td>1</td>\n",
       "      <td>0</td>\n",
       "    </tr>\n",
       "    <tr>\n",
       "      <th>7</th>\n",
       "      <td>0</td>\n",
       "      <td>0</td>\n",
       "      <td>0</td>\n",
       "      <td>0</td>\n",
       "      <td>1</td>\n",
       "      <td>0</td>\n",
       "      <td>0</td>\n",
       "    </tr>\n",
       "    <tr>\n",
       "      <th>8</th>\n",
       "      <td>0</td>\n",
       "      <td>1</td>\n",
       "      <td>0</td>\n",
       "      <td>0</td>\n",
       "      <td>1</td>\n",
       "      <td>0</td>\n",
       "      <td>0</td>\n",
       "    </tr>\n",
       "    <tr>\n",
       "      <th>9</th>\n",
       "      <td>0</td>\n",
       "      <td>1</td>\n",
       "      <td>0</td>\n",
       "      <td>0</td>\n",
       "      <td>0</td>\n",
       "      <td>0</td>\n",
       "      <td>0</td>\n",
       "    </tr>\n",
       "  </tbody>\n",
       "</table>\n",
       "</div>"
      ],
      "text/plain": [
       "   cafe  arroz  cerveja  leite  feijao  pao  manteiga\n",
       "0     0      0        1      1       0    1         1\n",
       "1     1      0        0      0       0    1         1\n",
       "2     1      0        0      0       0    1         1\n",
       "3     1      0        0      1       0    1         1\n",
       "4     0      0        1      0       0    0         0\n",
       "5     0      0        0      0       0    0         1\n",
       "6     0      0        0      0       0    1         0\n",
       "7     0      0        0      0       1    0         0\n",
       "8     0      1        0      0       1    0         0\n",
       "9     0      1        0      0       0    0         0"
      ]
     },
     "execution_count": 7,
     "metadata": {},
     "output_type": "execute_result"
    }
   ],
   "source": [
    "eclat.df_bin"
   ]
  },
  {
   "cell_type": "code",
   "execution_count": 8,
   "id": "79d78626",
   "metadata": {},
   "outputs": [
    {
     "data": {
      "text/plain": [
       "[nan, 'cafe', 'arroz', 'cerveja', 'leite', 'feijao', 'pao', 'manteiga']"
      ]
     },
     "execution_count": 8,
     "metadata": {},
     "output_type": "execute_result"
    }
   ],
   "source": [
    "eclat.uniq_"
   ]
  },
  {
   "cell_type": "code",
   "execution_count": 9,
   "id": "ad258111",
   "metadata": {},
   "outputs": [
    {
     "name": "stdout",
     "output_type": "stream",
     "text": [
      "Combination 1 by 1\n"
     ]
    },
    {
     "name": "stderr",
     "output_type": "stream",
     "text": [
      "3it [00:00, 130.61it/s]\n"
     ]
    },
    {
     "name": "stdout",
     "output_type": "stream",
     "text": [
      "Combination 2 by 2\n"
     ]
    },
    {
     "name": "stderr",
     "output_type": "stream",
     "text": [
      "3it [00:00, 143.49it/s]\n"
     ]
    },
    {
     "name": "stdout",
     "output_type": "stream",
     "text": [
      "Combination 3 by 3\n"
     ]
    },
    {
     "name": "stderr",
     "output_type": "stream",
     "text": [
      "1it [00:00, 111.43it/s]\n"
     ]
    }
   ],
   "source": [
    "indices, suporte = eclat.fit(min_support=0.3, min_combination=1, max_combination=3)"
   ]
  },
  {
   "cell_type": "code",
   "execution_count": 10,
   "id": "4d6e2b0c",
   "metadata": {},
   "outputs": [
    {
     "data": {
      "text/plain": [
       "{'cafe': [1, 2, 3],\n",
       " 'pao': [0, 1, 2, 3, 6],\n",
       " 'manteiga': [0, 1, 2, 3, 5],\n",
       " 'cafe & pao': [1, 2, 3],\n",
       " 'cafe & manteiga': [1, 2, 3],\n",
       " 'pao & manteiga': [0, 1, 2, 3],\n",
       " 'cafe & pao & manteiga': [1, 2, 3]}"
      ]
     },
     "execution_count": 10,
     "metadata": {},
     "output_type": "execute_result"
    }
   ],
   "source": [
    "indices"
   ]
  },
  {
   "cell_type": "code",
   "execution_count": 11,
   "id": "b79bd3da",
   "metadata": {},
   "outputs": [
    {
     "data": {
      "text/plain": [
       "{'cafe': 0.3,\n",
       " 'pao': 0.5,\n",
       " 'manteiga': 0.5,\n",
       " 'cafe & pao': 0.3,\n",
       " 'cafe & manteiga': 0.3,\n",
       " 'pao & manteiga': 0.4,\n",
       " 'cafe & pao & manteiga': 0.3}"
      ]
     },
     "execution_count": 11,
     "metadata": {},
     "output_type": "execute_result"
    }
   ],
   "source": [
    "suporte"
   ]
  },
  {
   "cell_type": "code",
   "execution_count": null,
   "id": "0b88ef8d",
   "metadata": {},
   "outputs": [],
   "source": []
  }
 ],
 "metadata": {
  "kernelspec": {
   "display_name": "Python 3 (ipykernel)",
   "language": "python",
   "name": "python3"
  },
  "language_info": {
   "codemirror_mode": {
    "name": "ipython",
    "version": 3
   },
   "file_extension": ".py",
   "mimetype": "text/x-python",
   "name": "python",
   "nbconvert_exporter": "python",
   "pygments_lexer": "ipython3",
   "version": "3.9.18"
  }
 },
 "nbformat": 4,
 "nbformat_minor": 5
}
